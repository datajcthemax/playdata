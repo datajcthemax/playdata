{
  "nbformat": 4,
  "nbformat_minor": 0,
  "metadata": {
    "colab": {
      "provenance": [],
      "authorship_tag": "ABX9TyOjOubAf0OXzL/KQBiUaGWS",
      "include_colab_link": true
    },
    "kernelspec": {
      "name": "python3",
      "display_name": "Python 3"
    },
    "language_info": {
      "name": "python"
    }
  },
  "cells": [
    {
      "cell_type": "markdown",
      "metadata": {
        "id": "view-in-github",
        "colab_type": "text"
      },
      "source": [
        "<a href=\"https://colab.research.google.com/github/datajcthemax/playdata/blob/main/day17.ipynb\" target=\"_parent\"><img src=\"https://colab.research.google.com/assets/colab-badge.svg\" alt=\"Open In Colab\"/></a>"
      ]
    },
    {
      "cell_type": "markdown",
      "source": [
        "9시10분에 시작할게요\n",
        "\n",
        "# 17번째 이야기 - 데이터 전처리\n",
        "- 데이터 전처리 학습\n",
        "- 데이터 전처리 실습\n",
        "\n",
        "## 면담\n",
        "- 미니 프로젝트 후기\n",
        "- 얻었던 것, 얻고 싶었던 것, 아쉬웠던 것 etc"
      ],
      "metadata": {
        "id": "D3EeEzjmpanQ"
      }
    }
  ]
}