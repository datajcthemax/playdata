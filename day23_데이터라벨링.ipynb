{
  "nbformat": 4,
  "nbformat_minor": 0,
  "metadata": {
    "colab": {
      "provenance": [],
      "include_colab_link": true
    },
    "kernelspec": {
      "name": "python3",
      "display_name": "Python 3"
    },
    "language_info": {
      "name": "python"
    }
  },
  "cells": [
    {
      "cell_type": "markdown",
      "metadata": {
        "id": "view-in-github",
        "colab_type": "text"
      },
      "source": [
        "<a href=\"https://colab.research.google.com/github/datajcthemax/playdata/blob/main/day23_%EB%8D%B0%EC%9D%B4%ED%84%B0%EB%9D%BC%EB%B2%A8%EB%A7%81.ipynb\" target=\"_parent\"><img src=\"https://colab.research.google.com/assets/colab-badge.svg\" alt=\"Open In Colab\"/></a>"
      ]
    },
    {
      "cell_type": "markdown",
      "source": [
        "# 23번째 이야기\n",
        "- 데이터 라벨링\n",
        "* dacon 도배 하자 유형분류 데이터셋 받기\n",
        "* 작업폴더에 압축풀고 저장\n",
        "- 깃 실습 팀플 마무리 및 내용 공유"
      ],
      "metadata": {
        "id": "xPJIxHvBzIiW"
      }
    },
    {
      "cell_type": "code",
      "execution_count": null,
      "metadata": {
        "id": "IfI3Vm6pzFLP"
      },
      "outputs": [],
      "source": []
    }
  ]
}