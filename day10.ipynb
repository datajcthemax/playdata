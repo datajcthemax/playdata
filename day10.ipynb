{
  "nbformat": 4,
  "nbformat_minor": 0,
  "metadata": {
    "colab": {
      "provenance": [],
      "authorship_tag": "ABX9TyPLm2p2V27QwRL3ZjjQ0NYf",
      "include_colab_link": true
    },
    "kernelspec": {
      "name": "python3",
      "display_name": "Python 3"
    },
    "language_info": {
      "name": "python"
    }
  },
  "cells": [
    {
      "cell_type": "markdown",
      "metadata": {
        "id": "view-in-github",
        "colab_type": "text"
      },
      "source": [
        "<a href=\"https://colab.research.google.com/github/datajcthemax/playdata/blob/main/day10.ipynb\" target=\"_parent\"><img src=\"https://colab.research.google.com/assets/colab-badge.svg\" alt=\"Open In Colab\"/></a>"
      ]
    },
    {
      "cell_type": "code",
      "execution_count": null,
      "metadata": {
        "id": "Edd99rljEXFX"
      },
      "outputs": [],
      "source": [
        "10번째 스토리\n",
        "Numpy 배열 연산과 통계\n",
        "병원관리 SQL Table 설계 확인하고 발전사항 기록\n",
        "이번주에 배운내용 정리"
      ]
    },
    {
      "cell_type": "markdown",
      "source": [
        "다음주의 이야기\n",
        "Mini Project 과학적인(?) 팀 구성\n",
        "Pandas 시리즈와 데이터 프레임\n",
        "데이터프레임 심화\n",
        "데이터 시각화 - 탐색적 데이터 분석(EDA)\n",
        "Mini Project(14, 17일)"
      ],
      "metadata": {
        "id": "heEmbP_4E4EA"
      }
    },
    {
      "cell_type": "markdown",
      "source": [],
      "metadata": {
        "id": "EftnVBjTEzJ5"
      }
    },
    {
      "cell_type": "code",
      "source": [
        "# 두 배열의 합\n",
        "import numpy as np\n",
        "\n",
        "a = np.array([1,2,3])\n",
        "b = np.array([4,5,6])\n",
        "c = a+b\n",
        "c"
      ],
      "metadata": {
        "colab": {
          "base_uri": "https://localhost:8080/"
        },
        "id": "Uay2i5KwKGJg",
        "outputId": "54405154-91d9-40f0-b8e4-8812aefcc500"
      },
      "execution_count": 1,
      "outputs": [
        {
          "output_type": "execute_result",
          "data": {
            "text/plain": [
              "array([5, 7, 9])"
            ]
          },
          "metadata": {},
          "execution_count": 1
        }
      ]
    },
    {
      "cell_type": "code",
      "source": [
        "# 두 배열의 곱\n",
        "c = a*b\n",
        "c"
      ],
      "metadata": {
        "colab": {
          "base_uri": "https://localhost:8080/"
        },
        "id": "aPaAQ6cXKO3_",
        "outputId": "03d19876-981a-45c7-f277-dc45a22e0474"
      },
      "execution_count": 2,
      "outputs": [
        {
          "output_type": "execute_result",
          "data": {
            "text/plain": [
              "array([ 4, 10, 18])"
            ]
          },
          "metadata": {},
          "execution_count": 2
        }
      ]
    },
    {
      "cell_type": "code",
      "source": [
        "A = np.array([[1, 2], [3, 4]])\n",
        "B = np.array([[5, 6], [7, 8]])\n",
        "print(A)\n",
        "print(B)\n",
        "C = np.dot(A, B)\n",
        "C"
      ],
      "metadata": {
        "colab": {
          "base_uri": "https://localhost:8080/"
        },
        "id": "AmHasXOZKSIa",
        "outputId": "12d1e978-f59d-42bb-d475-5708faa981b7"
      },
      "execution_count": 3,
      "outputs": [
        {
          "output_type": "stream",
          "name": "stdout",
          "text": [
            "[[1 2]\n",
            " [3 4]]\n",
            "[[5 6]\n",
            " [7 8]]\n"
          ]
        },
        {
          "output_type": "execute_result",
          "data": {
            "text/plain": [
              "array([[19, 22],\n",
              "       [43, 50]])"
            ]
          },
          "metadata": {},
          "execution_count": 3
        }
      ]
    },
    {
      "cell_type": "code",
      "source": [
        "# 전치 행렬\n",
        "A = np.array([[1, 2], [3, 4]])\n",
        "print(A)\n"
      ],
      "metadata": {
        "colab": {
          "base_uri": "https://localhost:8080/"
        },
        "id": "aJhjLt7bQbQc",
        "outputId": "f03dbe1e-bad9-4cad-b64b-1f2861f0ae9c"
      },
      "execution_count": 4,
      "outputs": [
        {
          "output_type": "stream",
          "name": "stdout",
          "text": [
            "[[1 2]\n",
            " [3 4]]\n"
          ]
        }
      ]
    },
    {
      "cell_type": "code",
      "source": [
        "type(A)"
      ],
      "metadata": {
        "colab": {
          "base_uri": "https://localhost:8080/"
        },
        "id": "ve0i1t10QmkH",
        "outputId": "87248252-6431-4df4-9054-75f705a2123e"
      },
      "execution_count": 5,
      "outputs": [
        {
          "output_type": "execute_result",
          "data": {
            "text/plain": [
              "numpy.ndarray"
            ]
          },
          "metadata": {},
          "execution_count": 5
        }
      ]
    },
    {
      "cell_type": "code",
      "source": [
        "A.T"
      ],
      "metadata": {
        "colab": {
          "base_uri": "https://localhost:8080/"
        },
        "id": "A8Fsa6n7QobO",
        "outputId": "1fbfc083-4c78-4da4-e30b-a61355f61712"
      },
      "execution_count": 6,
      "outputs": [
        {
          "output_type": "execute_result",
          "data": {
            "text/plain": [
              "array([[1, 3],\n",
              "       [2, 4]])"
            ]
          },
          "metadata": {},
          "execution_count": 6
        }
      ]
    },
    {
      "cell_type": "code",
      "source": [
        "a = np.array([[1,2,3],[4,5,6]])\n",
        "b = np.array([[11,12,13],[14,15,16],[24,25,26]])\n",
        "a, b"
      ],
      "metadata": {
        "colab": {
          "base_uri": "https://localhost:8080/"
        },
        "id": "UZnc5cz-QqRC",
        "outputId": "cf45c7ad-0d9b-4474-b82b-2e8d53df2db9"
      },
      "execution_count": 7,
      "outputs": [
        {
          "output_type": "execute_result",
          "data": {
            "text/plain": [
              "(array([[1, 2, 3],\n",
              "        [4, 5, 6]]),\n",
              " array([[11, 12, 13],\n",
              "        [14, 15, 16],\n",
              "        [24, 25, 26]]))"
            ]
          },
          "metadata": {},
          "execution_count": 7
        }
      ]
    },
    {
      "cell_type": "code",
      "source": [
        "a.shape, b.shape"
      ],
      "metadata": {
        "colab": {
          "base_uri": "https://localhost:8080/"
        },
        "id": "CuiWm6dkQr7b",
        "outputId": "7bd198c1-4f27-4b35-b856-4e20632dfcb0"
      },
      "execution_count": 8,
      "outputs": [
        {
          "output_type": "execute_result",
          "data": {
            "text/plain": [
              "((2, 3), (3, 3))"
            ]
          },
          "metadata": {},
          "execution_count": 8
        }
      ]
    },
    {
      "cell_type": "code",
      "source": [
        "np.dot(a,b)"
      ],
      "metadata": {
        "colab": {
          "base_uri": "https://localhost:8080/"
        },
        "id": "_KDK-qzDQtqM",
        "outputId": "6d7c1484-303b-4fd9-c760-aed8a2135beb"
      },
      "execution_count": 9,
      "outputs": [
        {
          "output_type": "execute_result",
          "data": {
            "text/plain": [
              "array([[111, 117, 123],\n",
              "       [258, 273, 288]])"
            ]
          },
          "metadata": {},
          "execution_count": 9
        }
      ]
    },
    {
      "cell_type": "code",
      "source": [
        "# 전치행렬의 사용 예\n",
        "a = np.array([[1,2,3],[4,5,6]])\n",
        "b = np.array([[11,12,13],[14,15,16]])"
      ],
      "metadata": {
        "id": "9JE3Txb4QvQ_"
      },
      "execution_count": 10,
      "outputs": []
    },
    {
      "cell_type": "code",
      "source": [
        "b.T"
      ],
      "metadata": {
        "colab": {
          "base_uri": "https://localhost:8080/"
        },
        "id": "mQh5xRr_Qw1N",
        "outputId": "bf2919d5-b866-4784-90fd-50d42ca7552b"
      },
      "execution_count": 11,
      "outputs": [
        {
          "output_type": "execute_result",
          "data": {
            "text/plain": [
              "array([[11, 14],\n",
              "       [12, 15],\n",
              "       [13, 16]])"
            ]
          },
          "metadata": {},
          "execution_count": 11
        }
      ]
    },
    {
      "cell_type": "code",
      "source": [
        "np.dot(a,b.T)"
      ],
      "metadata": {
        "colab": {
          "base_uri": "https://localhost:8080/"
        },
        "id": "r7AIWLxJQyBk",
        "outputId": "b8279053-2ea5-447d-da7e-783be209efe4"
      },
      "execution_count": 12,
      "outputs": [
        {
          "output_type": "execute_result",
          "data": {
            "text/plain": [
              "array([[ 74,  92],\n",
              "       [182, 227]])"
            ]
          },
          "metadata": {},
          "execution_count": 12
        }
      ]
    },
    {
      "cell_type": "code",
      "source": [
        "# 역행렬\n",
        "# np.dot(A,B) = E\n",
        "# B는 A의 역행렬이다(A는 B의 역행렬)\n",
        "E = np.eye(3)\n",
        "E"
      ],
      "metadata": {
        "colab": {
          "base_uri": "https://localhost:8080/"
        },
        "id": "vZ9ge40nQ4WD",
        "outputId": "747f7719-b0ca-45ad-e8cc-2bf1f12c8e04"
      },
      "execution_count": 13,
      "outputs": [
        {
          "output_type": "execute_result",
          "data": {
            "text/plain": [
              "array([[1., 0., 0.],\n",
              "       [0., 1., 0.],\n",
              "       [0., 0., 1.]])"
            ]
          },
          "metadata": {},
          "execution_count": 13
        }
      ]
    },
    {
      "cell_type": "code",
      "source": [
        "# 우리가 아는 사례\n",
        "# a*b = a\n",
        "# 3 * b = 3 # b=1"
      ],
      "metadata": {
        "id": "QNZI_DVcQ6Fg"
      },
      "execution_count": 14,
      "outputs": []
    },
    {
      "cell_type": "code",
      "source": [
        "# 브로드캐스팅 예제\n",
        "A = np.array([[1,2],[3,4]]) \n",
        "b = np.array([1,2])\n",
        "C = A+b\n",
        "C"
      ],
      "metadata": {
        "colab": {
          "base_uri": "https://localhost:8080/"
        },
        "id": "Zj3VmtcOQ7_K",
        "outputId": "0d35f9bf-6d31-456c-dc17-a00e2a665f3c"
      },
      "execution_count": 15,
      "outputs": [
        {
          "output_type": "execute_result",
          "data": {
            "text/plain": [
              "array([[2, 4],\n",
              "       [4, 6]])"
            ]
          },
          "metadata": {},
          "execution_count": 15
        }
      ]
    },
    {
      "cell_type": "markdown",
      "source": [],
      "metadata": {
        "id": "7oYv8H5EQ-aT"
      }
    },
    {
      "cell_type": "markdown",
      "source": [
        "Numpy 통계 함수"
      ],
      "metadata": {
        "id": "XJnuNmmHRDuZ"
      }
    },
    {
      "cell_type": "code",
      "source": [],
      "metadata": {
        "id": "s2jkUeOYREs0"
      },
      "execution_count": null,
      "outputs": []
    }
  ]
}