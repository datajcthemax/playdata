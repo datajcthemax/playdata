{
  "nbformat": 4,
  "nbformat_minor": 0,
  "metadata": {
    "colab": {
      "provenance": [],
      "mount_file_id": "1fKSafqS0uFTifSDgEPI6T8mbl4NCoic3",
      "authorship_tag": "ABX9TyM9+uNizY63PymhLfR5zPdL",
      "include_colab_link": true
    },
    "kernelspec": {
      "name": "python3",
      "display_name": "Python 3"
    },
    "language_info": {
      "name": "python"
    }
  },
  "cells": [
    {
      "cell_type": "markdown",
      "metadata": {
        "id": "view-in-github",
        "colab_type": "text"
      },
      "source": [
        "<a href=\"https://colab.research.google.com/github/datajcthemax/playdata/blob/main/day12.ipynb\" target=\"_parent\"><img src=\"https://colab.research.google.com/assets/colab-badge.svg\" alt=\"Open In Colab\"/></a>"
      ]
    },
    {
      "cell_type": "markdown",
      "source": [
        "# 12번째 이야기\n",
        "- 판다스 데이터 프레임 심화 및 활용 사례\n",
        "- sklearn 데이터셋 받아오기 실습\n",
        "- 판다스 각 기능을 이해하고 자신의 목적에 맞게 적용하는 실력 갖추기"
      ],
      "metadata": {
        "id": "PAygudy7l0GO"
      }
    },
    {
      "cell_type": "code",
      "source": [],
      "metadata": {
        "id": "h-IVhCUpqJzL"
      },
      "execution_count": null,
      "outputs": []
    }
  ]
}