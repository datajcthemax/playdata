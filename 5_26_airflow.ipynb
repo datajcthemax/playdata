{
  "nbformat": 4,
  "nbformat_minor": 0,
  "metadata": {
    "colab": {
      "provenance": [],
      "authorship_tag": "ABX9TyPQJ7RacGSy+7r64NgInpa0",
      "include_colab_link": true
    },
    "kernelspec": {
      "name": "python3",
      "display_name": "Python 3"
    },
    "language_info": {
      "name": "python"
    }
  },
  "cells": [
    {
      "cell_type": "markdown",
      "metadata": {
        "id": "view-in-github",
        "colab_type": "text"
      },
      "source": [
        "<a href=\"https://colab.research.google.com/github/datajcthemax/playdata/blob/main/5_26_airflow.ipynb\" target=\"_parent\"><img src=\"https://colab.research.google.com/assets/colab-badge.svg\" alt=\"Open In Colab\"/></a>"
      ]
    },
    {
      "cell_type": "code",
      "execution_count": null,
      "metadata": {
        "id": "X9YY6_GeJYbQ"
      },
      "outputs": [],
      "source": [
        "from airflow import DAG\n",
        "from airflow.operators.bash_operator import BashOperator\n",
        "from airflow.utils.trigger_rule import TriggerRule\n",
        "from datetime import datetime, timedelta\n",
        "\n",
        "default_args = {\n",
        "    'owner': 'airflow',\n",
        "    'depends_on_past': False,\n",
        "    'start_date': datetime(2023, 5, 1),\n",
        "    'retries': 0,\n",
        "}\n",
        "\n",
        "dag = DAG(\n",
        "    'jai_s3_processing',\n",
        "    default_args=default_args,\n",
        "    schedule_interval='*/5 * * * *',\n",
        ")\n",
        "\n",
        "# Task 1: Copy web.log from pd24 to local environment\n",
        "copy_web_log_task = BashOperator(\n",
        "    task_id='copy_web_log',\n",
        "    bash_command=\"\"\"\n",
        "    aws s3 cp s3://pd24/web.log /opt/airflow/dags/\n",
        "    \"\"\",\n",
        "    dag=dag\n",
        ")\n",
        "\n",
        "# Task 2: Create RAW.log, SUM.log, and DONE flag\n",
        "create_logs_task = BashOperator(\n",
        "    task_id='create_logs',\n",
        "    bash_command=\"\"\"\n",
        "    grep -o 'item=[0-9]*' /opt/airflow/dags/web.log | awk -F= '{print $2}' > /opt/airflow/dags/RAW.log\n",
        "    sort /opt/airflow/dags/RAW.log | uniq -c > /opt/airflow/dags/SUM.log\n",
        "    touch /opt/airflow/dags/DONE\n",
        "    \"\"\",\n",
        "    dag=dag\n",
        ")\n",
        "\n",
        "# Task 3: Send RAW.log, SUM.log, and DONE flag to jai folder in pd24\n",
        "send_logs_task = BashOperator(\n",
        "    task_id='send_logs',\n",
        "    bash_command=\"\"\"\n",
        "    aws s3 cp /opt/airflow/dags/RAW.log s3://pd24/savedata/jai/RAW.log\n",
        "    aws s3 cp /opt/airflow/dags/SUM.log s3://pd24/savedata/jai/SUM.log\n",
        "    aws s3api put-object --bucket pd24 --key savedata/jai/DONE\n",
        "    \"\"\",\n",
        "    dag=dag\n",
        ")\n",
        "\n",
        "# Set task dependencies\n",
        "copy_web_log_task >> create_logs_task >> send_logs_task"
      ]
    }
  ]
}