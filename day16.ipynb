{
  "nbformat": 4,
  "nbformat_minor": 0,
  "metadata": {
    "colab": {
      "provenance": [],
      "authorship_tag": "ABX9TyPJMOhtZ226Wmku5Ep+eKl1",
      "include_colab_link": true
    },
    "kernelspec": {
      "name": "python3",
      "display_name": "Python 3"
    },
    "language_info": {
      "name": "python"
    }
  },
  "cells": [
    {
      "cell_type": "markdown",
      "metadata": {
        "id": "view-in-github",
        "colab_type": "text"
      },
      "source": [
        "<a href=\"https://colab.research.google.com/github/datajcthemax/playdata/blob/main/day16.ipynb\" target=\"_parent\"><img src=\"https://colab.research.google.com/assets/colab-badge.svg\" alt=\"Open In Colab\"/></a>"
      ]
    },
    {
      "cell_type": "markdown",
      "source": [
        "# 미니프로젝트 발표\n",
        "- 오후 3시 발표\n",
        "- 2시 30분에 발표 순서 정하기 + 발표 자료 제출(슬랙 : ppt와 시연영상)+투표 사이트(192.168.90.119:8501)에 발표 주제 기록\n",
        "- 투표는 자기 이름적고 도움된 3개팀 클릭하고 제출\n",
        "- 발표 시작할때 팀원 전체 나와서 인사 + 촬영\n",
        "- 한명은 발표, 또 한명은 발표지원\n",
        "- 투표 내용은 집계 전까지 수정 가능"
      ],
      "metadata": {
        "id": "47BPOpIicTeJ"
      }
    }
  ]
}