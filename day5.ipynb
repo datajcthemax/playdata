{
  "nbformat": 4,
  "nbformat_minor": 0,
  "metadata": {
    "colab": {
      "provenance": [],
      "authorship_tag": "ABX9TyPdby2uXqpfznPtNY7w0HnB",
      "include_colab_link": true
    },
    "kernelspec": {
      "name": "python3",
      "display_name": "Python 3"
    },
    "language_info": {
      "name": "python"
    }
  },
  "cells": [
    {
      "cell_type": "markdown",
      "metadata": {
        "id": "view-in-github",
        "colab_type": "text"
      },
      "source": [
        "<a href=\"https://colab.research.google.com/github/datajcthemax/playdata/blob/main/day5.ipynb\" target=\"_parent\"><img src=\"https://colab.research.google.com/assets/colab-badge.svg\" alt=\"Open In Colab\"/></a>"
      ]
    },
    {
      "cell_type": "code",
      "execution_count": 2,
      "metadata": {
        "id": "zzz-kR3Y_GGK"
      },
      "outputs": [],
      "source": [
        "# 오늘의 미션\n",
        "# 병원 관련 프로그램 아이디어\n",
        "# 아이디어 토의\n",
        "# 아이디어 결정\n",
        "# class를 사용하여 개발\n",
        "# 데이터 수집 공부 - api\n",
        "# 프로토 타입 개발 tip\n",
        "# 오늘건 제발 심플하게 짜기\n",
        "# 겸손하게\n"
      ]
    },
    {
      "cell_type": "code",
      "source": [
        "#접수(첫방문일 경우 환자정보 받기, 재방문일 경우 정보 출력)\n",
        "#환자 정보 관리(환자 기본 정보, 복용중인약, 알러지 반응, 최근 진료 내용, 담당의사, 가족력)\n",
        "#진단서 작성(내원, 검사, 처방)\n",
        "#수납/필요서류 발행(진단서, 세부내역서, 진료비영수증, 처방전)"
      ],
      "metadata": {
        "id": "wRt86N4H_LUP"
      },
      "execution_count": 3,
      "outputs": []
    },
    {
      "cell_type": "markdown",
      "source": [
        "로또 api를 이요한 로또번호 가져오기\n",
        "\n",
        "\n",
        "*  \brequests 라이브러리 이용\n",
        "\n"
      ],
      "metadata": {
        "id": "HpOe9PzOWEof"
      }
    },
    {
      "cell_type": "code",
      "source": [
        "import requests\n",
        "url = 'http://www.dhlottery.co.kr/common.do?method=getLottoNumber&drwNo=100'"
      ],
      "metadata": {
        "id": "zevQHhp1TmOf"
      },
      "execution_count": 7,
      "outputs": []
    },
    {
      "cell_type": "code",
      "source": [
        "response = requests.get(url)"
      ],
      "metadata": {
        "id": "PC7YndZGWR4X"
      },
      "execution_count": 8,
      "outputs": []
    },
    {
      "cell_type": "code",
      "source": [
        "output = response.json()"
      ],
      "metadata": {
        "id": "T4w3QhKQWmS1"
      },
      "execution_count": 10,
      "outputs": []
    },
    {
      "cell_type": "code",
      "source": [
        "output"
      ],
      "metadata": {
        "colab": {
          "base_uri": "https://localhost:8080/"
        },
        "id": "9GAM-lq_XHrG",
        "outputId": "c09d2193-4e87-4f5a-d9c7-ae52453e51c5"
      },
      "execution_count": 12,
      "outputs": [
        {
          "output_type": "execute_result",
          "data": {
            "text/plain": [
              "{'totSellamnt': 56561977000,\n",
              " 'returnValue': 'success',\n",
              " 'drwNoDate': '2004-10-30',\n",
              " 'firstWinamnt': 3315315525,\n",
              " 'drwtNo6': 42,\n",
              " 'drwtNo4': 23,\n",
              " 'firstPrzwnerCo': 4,\n",
              " 'drwtNo5': 37,\n",
              " 'bnusNo': 6,\n",
              " 'firstAccumamnt': 0,\n",
              " 'drwNo': 100,\n",
              " 'drwtNo2': 7,\n",
              " 'drwtNo3': 11,\n",
              " 'drwtNo1': 1}"
            ]
          },
          "metadata": {},
          "execution_count": 12
        }
      ]
    },
    {
      "cell_type": "code",
      "source": [
        "# 각 회차 데이터를 클래스에 담기\n",
        "# 클래스에는 번호를 반환하는 메서드 구현하기\n",
        "# 기타 기능 구상해서 적용하기"
      ],
      "metadata": {
        "id": "FmPOeGD_XVC3"
      },
      "execution_count": 13,
      "outputs": []
    },
    {
      "cell_type": "code",
      "source": [
        "# 각 회차 데이터를 클래스에 담기\n",
        "\n",
        "\n",
        "\n",
        "user_input= input('Which round?')\n",
        "\n",
        "import requests\n",
        "import json\n",
        "\n",
        "url = f'http://www.dhlottery.co.kr/common.do?method=getLottoNumber&drwNo={user_input}'\n",
        "response = requests.get(url)\n",
        "output = response.json()\n",
        "\n",
        "\n",
        "\n",
        "round_num = output['drwNo']\n",
        "date = output['drwNoDate']\n",
        "winning_num1 = output['drwtNo1']\n",
        "winning_num2 = output['drwtNo2']\n",
        "winning_num3 = output['drwtNo3']\n",
        "winning_num4 = output['drwtNo4']\n",
        "winning_num5 = output['drwtNo5']\n",
        "winning_num6 = output['bnusNo']\n",
        "winning_num_list = [winning_num1, winning_num2, winning_num3, winning_num4, winning_num5, winning_num6]\n",
        "winning_num_list\n",
        "\n",
        "print(round_num)\n",
        "print(date)\n",
        "print(winning_num_list)\n",
        "    \n",
        "    \n"
      ],
      "metadata": {
        "colab": {
          "base_uri": "https://localhost:8080/",
          "height": 390
        },
        "id": "0tdQXnABX1x9",
        "outputId": "186aef2a-7870-4c93-8e49-a2c2e40d14ea"
      },
      "execution_count": 62,
      "outputs": [
        {
          "output_type": "error",
          "ename": "KeyboardInterrupt",
          "evalue": "ignored",
          "traceback": [
            "\u001b[0;31m---------------------------------------------------------------------------\u001b[0m",
            "\u001b[0;31mKeyboardInterrupt\u001b[0m                         Traceback (most recent call last)",
            "\u001b[0;32m<ipython-input-62-f09b732fb11e>\u001b[0m in \u001b[0;36m<cell line: 5>\u001b[0;34m()\u001b[0m\n\u001b[1;32m      3\u001b[0m \u001b[0;34m\u001b[0m\u001b[0m\n\u001b[1;32m      4\u001b[0m \u001b[0;34m\u001b[0m\u001b[0m\n\u001b[0;32m----> 5\u001b[0;31m \u001b[0muser_input\u001b[0m\u001b[0;34m=\u001b[0m \u001b[0minput\u001b[0m\u001b[0;34m(\u001b[0m\u001b[0;34m'Which round?'\u001b[0m\u001b[0;34m)\u001b[0m\u001b[0;34m\u001b[0m\u001b[0;34m\u001b[0m\u001b[0m\n\u001b[0m\u001b[1;32m      6\u001b[0m \u001b[0;34m\u001b[0m\u001b[0m\n\u001b[1;32m      7\u001b[0m \u001b[0;32mimport\u001b[0m \u001b[0mrequests\u001b[0m\u001b[0;34m\u001b[0m\u001b[0;34m\u001b[0m\u001b[0m\n",
            "\u001b[0;32m/usr/local/lib/python3.9/dist-packages/ipykernel/kernelbase.py\u001b[0m in \u001b[0;36mraw_input\u001b[0;34m(self, prompt)\u001b[0m\n\u001b[1;32m    849\u001b[0m                 \u001b[0;34m\"raw_input was called, but this frontend does not support input requests.\"\u001b[0m\u001b[0;34m\u001b[0m\u001b[0;34m\u001b[0m\u001b[0m\n\u001b[1;32m    850\u001b[0m             )\n\u001b[0;32m--> 851\u001b[0;31m         return self._input_request(str(prompt),\n\u001b[0m\u001b[1;32m    852\u001b[0m             \u001b[0mself\u001b[0m\u001b[0;34m.\u001b[0m\u001b[0m_parent_ident\u001b[0m\u001b[0;34m,\u001b[0m\u001b[0;34m\u001b[0m\u001b[0;34m\u001b[0m\u001b[0m\n\u001b[1;32m    853\u001b[0m             \u001b[0mself\u001b[0m\u001b[0;34m.\u001b[0m\u001b[0m_parent_header\u001b[0m\u001b[0;34m,\u001b[0m\u001b[0;34m\u001b[0m\u001b[0;34m\u001b[0m\u001b[0m\n",
            "\u001b[0;32m/usr/local/lib/python3.9/dist-packages/ipykernel/kernelbase.py\u001b[0m in \u001b[0;36m_input_request\u001b[0;34m(self, prompt, ident, parent, password)\u001b[0m\n\u001b[1;32m    893\u001b[0m             \u001b[0;32mexcept\u001b[0m \u001b[0mKeyboardInterrupt\u001b[0m\u001b[0;34m:\u001b[0m\u001b[0;34m\u001b[0m\u001b[0;34m\u001b[0m\u001b[0m\n\u001b[1;32m    894\u001b[0m                 \u001b[0;31m# re-raise KeyboardInterrupt, to truncate traceback\u001b[0m\u001b[0;34m\u001b[0m\u001b[0;34m\u001b[0m\u001b[0m\n\u001b[0;32m--> 895\u001b[0;31m                 \u001b[0;32mraise\u001b[0m \u001b[0mKeyboardInterrupt\u001b[0m\u001b[0;34m(\u001b[0m\u001b[0;34m\"Interrupted by user\"\u001b[0m\u001b[0;34m)\u001b[0m \u001b[0;32mfrom\u001b[0m \u001b[0;32mNone\u001b[0m\u001b[0;34m\u001b[0m\u001b[0;34m\u001b[0m\u001b[0m\n\u001b[0m\u001b[1;32m    896\u001b[0m             \u001b[0;32mexcept\u001b[0m \u001b[0mException\u001b[0m \u001b[0;32mas\u001b[0m \u001b[0me\u001b[0m\u001b[0;34m:\u001b[0m\u001b[0;34m\u001b[0m\u001b[0;34m\u001b[0m\u001b[0m\n\u001b[1;32m    897\u001b[0m                 \u001b[0mself\u001b[0m\u001b[0;34m.\u001b[0m\u001b[0mlog\u001b[0m\u001b[0;34m.\u001b[0m\u001b[0mwarning\u001b[0m\u001b[0;34m(\u001b[0m\u001b[0;34m\"Invalid Message:\"\u001b[0m\u001b[0;34m,\u001b[0m \u001b[0mexc_info\u001b[0m\u001b[0;34m=\u001b[0m\u001b[0;32mTrue\u001b[0m\u001b[0;34m)\u001b[0m\u001b[0;34m\u001b[0m\u001b[0;34m\u001b[0m\u001b[0m\n",
            "\u001b[0;31mKeyboardInterrupt\u001b[0m: Interrupted by user"
          ]
        }
      ]
    },
    {
      "cell_type": "code",
      "source": [
        "import requests\n",
        "import json\n",
        "\n",
        "def lotto_result(a):\n",
        "\n",
        "  url = f'http://www.dhlottery.co.kr/common.do?method=getLottoNumber&drwNo={a}'\n",
        "  response = requests.get(url)\n",
        "  output = response.json()\n",
        "\n",
        "  round_num = output['drwNo']\n",
        "  date = output['drwNoDate']\n",
        "  winning_num1 = output['drwtNo1']\n",
        "  winning_num2 = output['drwtNo2']\n",
        "  winning_num3 = output['drwtNo3']\n",
        "  winning_num4 = output['drwtNo4']\n",
        "  winning_num5 = output['drwtNo5']\n",
        "  winning_num6 = output['bnusNo']\n",
        "  winning_num_list = [winning_num1, winning_num2, winning_num3, winning_num4, winning_num5, winning_num6]\n",
        "  winning_num_list\n",
        "\n",
        "  print(round_num)\n",
        "  print(date)\n",
        "  print(winning_num_list)\n"
      ],
      "metadata": {
        "id": "NQ7ZblpTkv1t"
      },
      "execution_count": 83,
      "outputs": []
    },
    {
      "cell_type": "code",
      "source": [],
      "metadata": {
        "id": "fc7f4-kpoRyc"
      },
      "execution_count": null,
      "outputs": []
    }
  ]
}