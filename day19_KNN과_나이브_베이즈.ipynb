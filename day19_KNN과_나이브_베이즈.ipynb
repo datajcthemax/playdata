{
  "nbformat": 4,
  "nbformat_minor": 0,
  "metadata": {
    "colab": {
      "provenance": [],
      "include_colab_link": true
    },
    "kernelspec": {
      "name": "python3",
      "display_name": "Python 3"
    },
    "language_info": {
      "name": "python"
    }
  },
  "cells": [
    {
      "cell_type": "markdown",
      "metadata": {
        "id": "view-in-github",
        "colab_type": "text"
      },
      "source": [
        "<a href=\"https://colab.research.google.com/github/datajcthemax/playdata/blob/main/day19_KNN%EA%B3%BC_%EB%82%98%EC%9D%B4%EB%B8%8C_%EB%B2%A0%EC%9D%B4%EC%A6%88.ipynb\" target=\"_parent\"><img src=\"https://colab.research.google.com/assets/colab-badge.svg\" alt=\"Open In Colab\"/></a>"
      ]
    },
    {
      "cell_type": "markdown",
      "source": [
        "# 19번째 이야기 - KNN과 나이브 베이즈\n",
        "- 지도학습 / 비지도학습\n",
        "- KNN과 나이브 베이즈\n",
        "- 깃 ml 팀플"
      ],
      "metadata": {
        "id": "FKmNurLr4y7o"
      }
    },
    {
      "cell_type": "markdown",
      "source": [
        "## 전처리"
      ],
      "metadata": {
        "id": "YSP7DM1qPyDV"
      }
    },
    {
      "cell_type": "code",
      "execution_count": null,
      "metadata": {
        "id": "3a69zpY24tMJ"
      },
      "outputs": [],
      "source": [
        "import pandas as pd\n",
        "\n",
        "PATH = '/content/drive/MyDrive/datas/따릉이/train.csv'\n",
        "data = pd.read_csv(PATH)\n",
        "\n",
        "test_PATH = '/content/drive/MyDrive/datas/따릉이/test.csv'\n",
        "test_data = pd.read_csv(test_PATH)"
      ]
    },
    {
      "cell_type": "code",
      "source": [
        "test_data.columns"
      ],
      "metadata": {
        "colab": {
          "base_uri": "https://localhost:8080/"
        },
        "id": "EiShGVzaQmyc",
        "outputId": "4019f470-a927-466e-c9f1-10bb94b953b9"
      },
      "execution_count": null,
      "outputs": [
        {
          "output_type": "execute_result",
          "data": {
            "text/plain": [
              "Index(['id', 'hour', 'hour_bef_temperature', 'hour_bef_precipitation',\n",
              "       'hour_bef_windspeed', 'hour_bef_humidity', 'hour_bef_visibility',\n",
              "       'hour_bef_ozone', 'hour_bef_pm10', 'hour_bef_pm2.5'],\n",
              "      dtype='object')"
            ]
          },
          "metadata": {},
          "execution_count": 9
        }
      ]
    },
    {
      "cell_type": "code",
      "source": [
        "data.dropna(inplace=True)\n",
        "test_data.dropna(inplace=True)"
      ],
      "metadata": {
        "id": "hviJxKF2PEHe"
      },
      "execution_count": null,
      "outputs": []
    },
    {
      "cell_type": "code",
      "source": [
        "from sklearn.preprocessing import StandardScaler\n",
        "\n",
        "stscaler = StandardScaler()"
      ],
      "metadata": {
        "id": "37c-lkmbQDMM"
      },
      "execution_count": null,
      "outputs": []
    },
    {
      "cell_type": "code",
      "source": [
        "y= data.pop('count')\n",
        "X= data"
      ],
      "metadata": {
        "id": "T0UfW0HWQNlN"
      },
      "execution_count": null,
      "outputs": []
    },
    {
      "cell_type": "code",
      "source": [
        "X = stscaler.fit_transform(X)"
      ],
      "metadata": {
        "id": "7W0-vsX_QU88"
      },
      "execution_count": null,
      "outputs": []
    },
    {
      "cell_type": "code",
      "source": [
        "test_data = stscaler.transform(test_data)"
      ],
      "metadata": {
        "id": "Y_LNMtKsQw27"
      },
      "execution_count": null,
      "outputs": []
    },
    {
      "cell_type": "code",
      "source": [
        "from sklearn.model_selection import train_test_split\n",
        "X_train, X_test, y_train, y_test = train_test_split(X, y, test_size=0.2, random_state=100)"
      ],
      "metadata": {
        "id": "eNUqq1O-RIms"
      },
      "execution_count": null,
      "outputs": []
    },
    {
      "cell_type": "markdown",
      "source": [
        "# KNN\n",
        "- 회귀 : Regressor\n",
        "- 분류 :Classifier"
      ],
      "metadata": {
        "id": "kUfLk-VTPEcW"
      }
    },
    {
      "cell_type": "code",
      "source": [
        "from sklearn.neighbors import KNeighborsRegressor # 회귀\n",
        "from sklearn.neighbors import KNeighborsClassifier # 분류"
      ],
      "metadata": {
        "id": "SppMeGTGPB6P"
      },
      "execution_count": null,
      "outputs": []
    },
    {
      "cell_type": "code",
      "source": [
        "model = KNeighborsRegressor(n_neighbors=5)\n",
        "# 이후는 어제 내용 참고"
      ],
      "metadata": {
        "id": "NGoekkNiPbmp"
      },
      "execution_count": null,
      "outputs": []
    },
    {
      "cell_type": "code",
      "source": [
        "model.fit(X_train, y_train)"
      ],
      "metadata": {
        "colab": {
          "base_uri": "https://localhost:8080/",
          "height": 74
        },
        "id": "kPTOflSbRiEk",
        "outputId": "2695e107-f2a9-443a-85a9-f2a510f12fcf"
      },
      "execution_count": null,
      "outputs": [
        {
          "output_type": "execute_result",
          "data": {
            "text/plain": [
              "KNeighborsRegressor()"
            ],
            "text/html": [
              "<style>#sk-container-id-1 {color: black;background-color: white;}#sk-container-id-1 pre{padding: 0;}#sk-container-id-1 div.sk-toggleable {background-color: white;}#sk-container-id-1 label.sk-toggleable__label {cursor: pointer;display: block;width: 100%;margin-bottom: 0;padding: 0.3em;box-sizing: border-box;text-align: center;}#sk-container-id-1 label.sk-toggleable__label-arrow:before {content: \"▸\";float: left;margin-right: 0.25em;color: #696969;}#sk-container-id-1 label.sk-toggleable__label-arrow:hover:before {color: black;}#sk-container-id-1 div.sk-estimator:hover label.sk-toggleable__label-arrow:before {color: black;}#sk-container-id-1 div.sk-toggleable__content {max-height: 0;max-width: 0;overflow: hidden;text-align: left;background-color: #f0f8ff;}#sk-container-id-1 div.sk-toggleable__content pre {margin: 0.2em;color: black;border-radius: 0.25em;background-color: #f0f8ff;}#sk-container-id-1 input.sk-toggleable__control:checked~div.sk-toggleable__content {max-height: 200px;max-width: 100%;overflow: auto;}#sk-container-id-1 input.sk-toggleable__control:checked~label.sk-toggleable__label-arrow:before {content: \"▾\";}#sk-container-id-1 div.sk-estimator input.sk-toggleable__control:checked~label.sk-toggleable__label {background-color: #d4ebff;}#sk-container-id-1 div.sk-label input.sk-toggleable__control:checked~label.sk-toggleable__label {background-color: #d4ebff;}#sk-container-id-1 input.sk-hidden--visually {border: 0;clip: rect(1px 1px 1px 1px);clip: rect(1px, 1px, 1px, 1px);height: 1px;margin: -1px;overflow: hidden;padding: 0;position: absolute;width: 1px;}#sk-container-id-1 div.sk-estimator {font-family: monospace;background-color: #f0f8ff;border: 1px dotted black;border-radius: 0.25em;box-sizing: border-box;margin-bottom: 0.5em;}#sk-container-id-1 div.sk-estimator:hover {background-color: #d4ebff;}#sk-container-id-1 div.sk-parallel-item::after {content: \"\";width: 100%;border-bottom: 1px solid gray;flex-grow: 1;}#sk-container-id-1 div.sk-label:hover label.sk-toggleable__label {background-color: #d4ebff;}#sk-container-id-1 div.sk-serial::before {content: \"\";position: absolute;border-left: 1px solid gray;box-sizing: border-box;top: 0;bottom: 0;left: 50%;z-index: 0;}#sk-container-id-1 div.sk-serial {display: flex;flex-direction: column;align-items: center;background-color: white;padding-right: 0.2em;padding-left: 0.2em;position: relative;}#sk-container-id-1 div.sk-item {position: relative;z-index: 1;}#sk-container-id-1 div.sk-parallel {display: flex;align-items: stretch;justify-content: center;background-color: white;position: relative;}#sk-container-id-1 div.sk-item::before, #sk-container-id-1 div.sk-parallel-item::before {content: \"\";position: absolute;border-left: 1px solid gray;box-sizing: border-box;top: 0;bottom: 0;left: 50%;z-index: -1;}#sk-container-id-1 div.sk-parallel-item {display: flex;flex-direction: column;z-index: 1;position: relative;background-color: white;}#sk-container-id-1 div.sk-parallel-item:first-child::after {align-self: flex-end;width: 50%;}#sk-container-id-1 div.sk-parallel-item:last-child::after {align-self: flex-start;width: 50%;}#sk-container-id-1 div.sk-parallel-item:only-child::after {width: 0;}#sk-container-id-1 div.sk-dashed-wrapped {border: 1px dashed gray;margin: 0 0.4em 0.5em 0.4em;box-sizing: border-box;padding-bottom: 0.4em;background-color: white;}#sk-container-id-1 div.sk-label label {font-family: monospace;font-weight: bold;display: inline-block;line-height: 1.2em;}#sk-container-id-1 div.sk-label-container {text-align: center;}#sk-container-id-1 div.sk-container {/* jupyter's `normalize.less` sets `[hidden] { display: none; }` but bootstrap.min.css set `[hidden] { display: none !important; }` so we also need the `!important` here to be able to override the default hidden behavior on the sphinx rendered scikit-learn.org. See: https://github.com/scikit-learn/scikit-learn/issues/21755 */display: inline-block !important;position: relative;}#sk-container-id-1 div.sk-text-repr-fallback {display: none;}</style><div id=\"sk-container-id-1\" class=\"sk-top-container\"><div class=\"sk-text-repr-fallback\"><pre>KNeighborsRegressor()</pre><b>In a Jupyter environment, please rerun this cell to show the HTML representation or trust the notebook. <br />On GitHub, the HTML representation is unable to render, please try loading this page with nbviewer.org.</b></div><div class=\"sk-container\" hidden><div class=\"sk-item\"><div class=\"sk-estimator sk-toggleable\"><input class=\"sk-toggleable__control sk-hidden--visually\" id=\"sk-estimator-id-1\" type=\"checkbox\" checked><label for=\"sk-estimator-id-1\" class=\"sk-toggleable__label sk-toggleable__label-arrow\">KNeighborsRegressor</label><div class=\"sk-toggleable__content\"><pre>KNeighborsRegressor()</pre></div></div></div></div></div>"
            ]
          },
          "metadata": {},
          "execution_count": 21
        }
      ]
    },
    {
      "cell_type": "code",
      "source": [
        "pred = model.predict(X_test)"
      ],
      "metadata": {
        "id": "wGoO6fnlRnfV"
      },
      "execution_count": null,
      "outputs": []
    },
    {
      "cell_type": "code",
      "source": [
        "from sklearn.metrics import r2_score\n",
        "\n",
        "r2_score(y_test, pred)"
      ],
      "metadata": {
        "colab": {
          "base_uri": "https://localhost:8080/"
        },
        "id": "lPc9wXK8Rz_z",
        "outputId": "ef1e8236-eeb5-478a-eb17-8b92d1a3c134"
      },
      "execution_count": null,
      "outputs": [
        {
          "output_type": "execute_result",
          "data": {
            "text/plain": [
              "0.6814115842181079"
            ]
          },
          "metadata": {},
          "execution_count": 23
        }
      ]
    },
    {
      "cell_type": "code",
      "source": [
        "from sklearn.naive_bayes import MultinomialNB"
      ],
      "metadata": {
        "id": "hzQolZMuR8jz"
      },
      "execution_count": null,
      "outputs": []
    },
    {
      "cell_type": "code",
      "source": [
        "nb_model = MultinomialNB()"
      ],
      "metadata": {
        "id": "nzRi5PH6SOyE"
      },
      "execution_count": null,
      "outputs": []
    },
    {
      "cell_type": "code",
      "source": [
        "titanic_data = pd.read_csv('/content/drive/MyDrive/datas/train.csv')"
      ],
      "metadata": {
        "id": "Bs4y6QAbSSKT"
      },
      "execution_count": null,
      "outputs": []
    },
    {
      "cell_type": "code",
      "source": [
        "titanic_data.isna().sum()"
      ],
      "metadata": {
        "colab": {
          "base_uri": "https://localhost:8080/"
        },
        "id": "95EfG5mWTpwT",
        "outputId": "817e15e6-f05b-4cf6-f38a-f774bba2ec0e"
      },
      "execution_count": null,
      "outputs": [
        {
          "output_type": "execute_result",
          "data": {
            "text/plain": [
              "PassengerId      0\n",
              "Survived         0\n",
              "Pclass           0\n",
              "Name             0\n",
              "Sex              0\n",
              "Age            177\n",
              "SibSp            0\n",
              "Parch            0\n",
              "Ticket           0\n",
              "Fare             0\n",
              "Cabin          687\n",
              "Embarked         2\n",
              "dtype: int64"
            ]
          },
          "metadata": {},
          "execution_count": 37
        }
      ]
    },
    {
      "cell_type": "code",
      "source": [
        "titanic_data.drop('Cabin', axis=1, inplace=True)"
      ],
      "metadata": {
        "id": "aNZ71bHtTwhg"
      },
      "execution_count": null,
      "outputs": []
    },
    {
      "cell_type": "code",
      "source": [
        "titanic_data.dropna(inplace=True)"
      ],
      "metadata": {
        "id": "IgQdKp4KSczc"
      },
      "execution_count": null,
      "outputs": []
    },
    {
      "cell_type": "code",
      "source": [
        "titanic_data.info()"
      ],
      "metadata": {
        "colab": {
          "base_uri": "https://localhost:8080/"
        },
        "id": "M836joEjSpyR",
        "outputId": "d0c08805-d2d4-4530-fe7b-c4aa278088b7"
      },
      "execution_count": null,
      "outputs": [
        {
          "output_type": "stream",
          "name": "stdout",
          "text": [
            "<class 'pandas.core.frame.DataFrame'>\n",
            "Int64Index: 712 entries, 0 to 890\n",
            "Data columns (total 11 columns):\n",
            " #   Column       Non-Null Count  Dtype  \n",
            "---  ------       --------------  -----  \n",
            " 0   PassengerId  712 non-null    int64  \n",
            " 1   Survived     712 non-null    int64  \n",
            " 2   Pclass       712 non-null    int64  \n",
            " 3   Name         712 non-null    object \n",
            " 4   Sex          712 non-null    object \n",
            " 5   Age          712 non-null    float64\n",
            " 6   SibSp        712 non-null    int64  \n",
            " 7   Parch        712 non-null    int64  \n",
            " 8   Ticket       712 non-null    object \n",
            " 9   Fare         712 non-null    float64\n",
            " 10  Embarked     712 non-null    object \n",
            "dtypes: float64(2), int64(5), object(4)\n",
            "memory usage: 66.8+ KB\n"
          ]
        }
      ]
    },
    {
      "cell_type": "code",
      "source": [
        "titanic_data.columns"
      ],
      "metadata": {
        "colab": {
          "base_uri": "https://localhost:8080/"
        },
        "id": "9tYLSdIESlHi",
        "outputId": "15f5b2bd-55cf-4bd6-f22a-1239421a8db2"
      },
      "execution_count": null,
      "outputs": [
        {
          "output_type": "execute_result",
          "data": {
            "text/plain": [
              "Index(['PassengerId', 'Survived', 'Pclass', 'Name', 'Sex', 'Age', 'SibSp',\n",
              "       'Parch', 'Ticket', 'Fare', 'Embarked'],\n",
              "      dtype='object')"
            ]
          },
          "metadata": {},
          "execution_count": 44
        }
      ]
    },
    {
      "cell_type": "code",
      "source": [
        "target_data = titanic_data[['PassengerId', 'Survived', 'Pclass','Age', 'SibSp', 'Parch']]"
      ],
      "metadata": {
        "id": "aF7bNUNESgfj"
      },
      "execution_count": null,
      "outputs": []
    },
    {
      "cell_type": "code",
      "source": [
        "y = target_data.pop('Survived')\n",
        "X = target_data"
      ],
      "metadata": {
        "id": "kEykkam_TBJS"
      },
      "execution_count": null,
      "outputs": []
    },
    {
      "cell_type": "code",
      "source": [
        "y.value_counts()"
      ],
      "metadata": {
        "colab": {
          "base_uri": "https://localhost:8080/"
        },
        "id": "Uah4axrBTicC",
        "outputId": "72e2553c-7c7b-4068-c227-0e6600e154de"
      },
      "execution_count": null,
      "outputs": [
        {
          "output_type": "execute_result",
          "data": {
            "text/plain": [
              "0    424\n",
              "1    288\n",
              "Name: Survived, dtype: int64"
            ]
          },
          "metadata": {},
          "execution_count": 49
        }
      ]
    },
    {
      "cell_type": "code",
      "source": [
        "X_train, X_test, y_train, y_test = train_test_split(X, y, test_size=0.2, stratify=y)"
      ],
      "metadata": {
        "id": "_XV60bhFTQoT"
      },
      "execution_count": null,
      "outputs": []
    },
    {
      "cell_type": "code",
      "source": [
        "y_train.value_counts()"
      ],
      "metadata": {
        "colab": {
          "base_uri": "https://localhost:8080/"
        },
        "id": "WvowTr_IVBI5",
        "outputId": "d608c006-42a0-4e55-88ab-1d971e8ace5d"
      },
      "execution_count": null,
      "outputs": [
        {
          "output_type": "execute_result",
          "data": {
            "text/plain": [
              "0    339\n",
              "1    230\n",
              "Name: Survived, dtype: int64"
            ]
          },
          "metadata": {},
          "execution_count": 51
        }
      ]
    },
    {
      "cell_type": "code",
      "source": [
        "230/339"
      ],
      "metadata": {
        "colab": {
          "base_uri": "https://localhost:8080/"
        },
        "id": "SbSojdyTVJnP",
        "outputId": "b01a717a-30af-45a6-bebf-f399f92ead57"
      },
      "execution_count": null,
      "outputs": [
        {
          "output_type": "execute_result",
          "data": {
            "text/plain": [
              "0.6784660766961652"
            ]
          },
          "metadata": {},
          "execution_count": 53
        }
      ]
    },
    {
      "cell_type": "code",
      "source": [
        "y_test.value_counts()"
      ],
      "metadata": {
        "colab": {
          "base_uri": "https://localhost:8080/"
        },
        "id": "-T5VmEB5VHOv",
        "outputId": "6b10590c-bc63-46fc-c73c-79d2e2f96740"
      },
      "execution_count": null,
      "outputs": [
        {
          "output_type": "execute_result",
          "data": {
            "text/plain": [
              "0    85\n",
              "1    58\n",
              "Name: Survived, dtype: int64"
            ]
          },
          "metadata": {},
          "execution_count": 52
        }
      ]
    },
    {
      "cell_type": "code",
      "source": [
        "58/85"
      ],
      "metadata": {
        "colab": {
          "base_uri": "https://localhost:8080/"
        },
        "id": "yN1UG-uwVOsw",
        "outputId": "2983c2fb-aabf-4e64-e32c-5564e4be3a34"
      },
      "execution_count": null,
      "outputs": [
        {
          "output_type": "execute_result",
          "data": {
            "text/plain": [
              "0.6823529411764706"
            ]
          },
          "metadata": {},
          "execution_count": 54
        }
      ]
    },
    {
      "cell_type": "code",
      "source": [
        "nb_model.fit(X_train, y_train)"
      ],
      "metadata": {
        "colab": {
          "base_uri": "https://localhost:8080/",
          "height": 74
        },
        "id": "6lJRGQNbVV6f",
        "outputId": "e1a33b7d-5f99-4e70-af8f-39d9b5f33635"
      },
      "execution_count": null,
      "outputs": [
        {
          "output_type": "execute_result",
          "data": {
            "text/plain": [
              "MultinomialNB()"
            ],
            "text/html": [
              "<style>#sk-container-id-2 {color: black;background-color: white;}#sk-container-id-2 pre{padding: 0;}#sk-container-id-2 div.sk-toggleable {background-color: white;}#sk-container-id-2 label.sk-toggleable__label {cursor: pointer;display: block;width: 100%;margin-bottom: 0;padding: 0.3em;box-sizing: border-box;text-align: center;}#sk-container-id-2 label.sk-toggleable__label-arrow:before {content: \"▸\";float: left;margin-right: 0.25em;color: #696969;}#sk-container-id-2 label.sk-toggleable__label-arrow:hover:before {color: black;}#sk-container-id-2 div.sk-estimator:hover label.sk-toggleable__label-arrow:before {color: black;}#sk-container-id-2 div.sk-toggleable__content {max-height: 0;max-width: 0;overflow: hidden;text-align: left;background-color: #f0f8ff;}#sk-container-id-2 div.sk-toggleable__content pre {margin: 0.2em;color: black;border-radius: 0.25em;background-color: #f0f8ff;}#sk-container-id-2 input.sk-toggleable__control:checked~div.sk-toggleable__content {max-height: 200px;max-width: 100%;overflow: auto;}#sk-container-id-2 input.sk-toggleable__control:checked~label.sk-toggleable__label-arrow:before {content: \"▾\";}#sk-container-id-2 div.sk-estimator input.sk-toggleable__control:checked~label.sk-toggleable__label {background-color: #d4ebff;}#sk-container-id-2 div.sk-label input.sk-toggleable__control:checked~label.sk-toggleable__label {background-color: #d4ebff;}#sk-container-id-2 input.sk-hidden--visually {border: 0;clip: rect(1px 1px 1px 1px);clip: rect(1px, 1px, 1px, 1px);height: 1px;margin: -1px;overflow: hidden;padding: 0;position: absolute;width: 1px;}#sk-container-id-2 div.sk-estimator {font-family: monospace;background-color: #f0f8ff;border: 1px dotted black;border-radius: 0.25em;box-sizing: border-box;margin-bottom: 0.5em;}#sk-container-id-2 div.sk-estimator:hover {background-color: #d4ebff;}#sk-container-id-2 div.sk-parallel-item::after {content: \"\";width: 100%;border-bottom: 1px solid gray;flex-grow: 1;}#sk-container-id-2 div.sk-label:hover label.sk-toggleable__label {background-color: #d4ebff;}#sk-container-id-2 div.sk-serial::before {content: \"\";position: absolute;border-left: 1px solid gray;box-sizing: border-box;top: 0;bottom: 0;left: 50%;z-index: 0;}#sk-container-id-2 div.sk-serial {display: flex;flex-direction: column;align-items: center;background-color: white;padding-right: 0.2em;padding-left: 0.2em;position: relative;}#sk-container-id-2 div.sk-item {position: relative;z-index: 1;}#sk-container-id-2 div.sk-parallel {display: flex;align-items: stretch;justify-content: center;background-color: white;position: relative;}#sk-container-id-2 div.sk-item::before, #sk-container-id-2 div.sk-parallel-item::before {content: \"\";position: absolute;border-left: 1px solid gray;box-sizing: border-box;top: 0;bottom: 0;left: 50%;z-index: -1;}#sk-container-id-2 div.sk-parallel-item {display: flex;flex-direction: column;z-index: 1;position: relative;background-color: white;}#sk-container-id-2 div.sk-parallel-item:first-child::after {align-self: flex-end;width: 50%;}#sk-container-id-2 div.sk-parallel-item:last-child::after {align-self: flex-start;width: 50%;}#sk-container-id-2 div.sk-parallel-item:only-child::after {width: 0;}#sk-container-id-2 div.sk-dashed-wrapped {border: 1px dashed gray;margin: 0 0.4em 0.5em 0.4em;box-sizing: border-box;padding-bottom: 0.4em;background-color: white;}#sk-container-id-2 div.sk-label label {font-family: monospace;font-weight: bold;display: inline-block;line-height: 1.2em;}#sk-container-id-2 div.sk-label-container {text-align: center;}#sk-container-id-2 div.sk-container {/* jupyter's `normalize.less` sets `[hidden] { display: none; }` but bootstrap.min.css set `[hidden] { display: none !important; }` so we also need the `!important` here to be able to override the default hidden behavior on the sphinx rendered scikit-learn.org. See: https://github.com/scikit-learn/scikit-learn/issues/21755 */display: inline-block !important;position: relative;}#sk-container-id-2 div.sk-text-repr-fallback {display: none;}</style><div id=\"sk-container-id-2\" class=\"sk-top-container\"><div class=\"sk-text-repr-fallback\"><pre>MultinomialNB()</pre><b>In a Jupyter environment, please rerun this cell to show the HTML representation or trust the notebook. <br />On GitHub, the HTML representation is unable to render, please try loading this page with nbviewer.org.</b></div><div class=\"sk-container\" hidden><div class=\"sk-item\"><div class=\"sk-estimator sk-toggleable\"><input class=\"sk-toggleable__control sk-hidden--visually\" id=\"sk-estimator-id-2\" type=\"checkbox\" checked><label for=\"sk-estimator-id-2\" class=\"sk-toggleable__label sk-toggleable__label-arrow\">MultinomialNB</label><div class=\"sk-toggleable__content\"><pre>MultinomialNB()</pre></div></div></div></div></div>"
            ]
          },
          "metadata": {},
          "execution_count": 55
        }
      ]
    },
    {
      "cell_type": "code",
      "source": [
        "pred = nb_model.predict(X_test)"
      ],
      "metadata": {
        "id": "uv746gM9VZrI"
      },
      "execution_count": null,
      "outputs": []
    },
    {
      "cell_type": "code",
      "source": [
        "from sklearn.metrics import f1_score\n",
        "f1_score(y_test, pred)"
      ],
      "metadata": {
        "colab": {
          "base_uri": "https://localhost:8080/"
        },
        "id": "Xb1B51j0VduI",
        "outputId": "01443386-3476-4725-95bb-7c1db876100d"
      },
      "execution_count": null,
      "outputs": [
        {
          "output_type": "execute_result",
          "data": {
            "text/plain": [
              "0.5172413793103449"
            ]
          },
          "metadata": {},
          "execution_count": 57
        }
      ]
    },
    {
      "cell_type": "code",
      "source": [
        "from sklearn.metrics import accuracy_score\n",
        "accuracy_score(y_test, pred)"
      ],
      "metadata": {
        "colab": {
          "base_uri": "https://localhost:8080/"
        },
        "id": "8Zo6NuAlcUsw",
        "outputId": "356f20d2-d9d8-47e0-f7b8-473a350048d1"
      },
      "execution_count": null,
      "outputs": [
        {
          "output_type": "execute_result",
          "data": {
            "text/plain": [
              "0.6083916083916084"
            ]
          },
          "metadata": {},
          "execution_count": 64
        }
      ]
    },
    {
      "cell_type": "markdown",
      "source": [
        "# DeepLearning의 느낌"
      ],
      "metadata": {
        "id": "6AN-4fujYCHF"
      }
    },
    {
      "cell_type": "code",
      "source": [
        "# 데이터 로딩\n",
        "# 전처리\n",
        "# X, y\n",
        "# train_test_split"
      ],
      "metadata": {
        "id": "RQTkPKfJYBYT"
      },
      "execution_count": null,
      "outputs": []
    },
    {
      "cell_type": "code",
      "source": [
        "Epochs =100\n",
        "# ai model : class\n",
        "\n",
        "for epoch in range(Epochs):\n",
        "  print(epoch,\"째 예측\")\n",
        "  print(epoch,\"째 학습\")  \n",
        "\n",
        "# 평가\n"
      ],
      "metadata": {
        "colab": {
          "base_uri": "https://localhost:8080/"
        },
        "id": "uclceYmIYRSd",
        "outputId": "c7b9a7e1-aa3a-4954-8969-dcabacff85f7"
      },
      "execution_count": null,
      "outputs": [
        {
          "output_type": "stream",
          "name": "stdout",
          "text": [
            "0 째 예측\n",
            "0 째 학습\n",
            "1 째 예측\n",
            "1 째 학습\n",
            "2 째 예측\n",
            "2 째 학습\n",
            "3 째 예측\n",
            "3 째 학습\n",
            "4 째 예측\n",
            "4 째 학습\n",
            "5 째 예측\n",
            "5 째 학습\n",
            "6 째 예측\n",
            "6 째 학습\n",
            "7 째 예측\n",
            "7 째 학습\n",
            "8 째 예측\n",
            "8 째 학습\n",
            "9 째 예측\n",
            "9 째 학습\n",
            "10 째 예측\n",
            "10 째 학습\n",
            "11 째 예측\n",
            "11 째 학습\n",
            "12 째 예측\n",
            "12 째 학습\n",
            "13 째 예측\n",
            "13 째 학습\n",
            "14 째 예측\n",
            "14 째 학습\n",
            "15 째 예측\n",
            "15 째 학습\n",
            "16 째 예측\n",
            "16 째 학습\n",
            "17 째 예측\n",
            "17 째 학습\n",
            "18 째 예측\n",
            "18 째 학습\n",
            "19 째 예측\n",
            "19 째 학습\n",
            "20 째 예측\n",
            "20 째 학습\n",
            "21 째 예측\n",
            "21 째 학습\n",
            "22 째 예측\n",
            "22 째 학습\n",
            "23 째 예측\n",
            "23 째 학습\n",
            "24 째 예측\n",
            "24 째 학습\n",
            "25 째 예측\n",
            "25 째 학습\n",
            "26 째 예측\n",
            "26 째 학습\n",
            "27 째 예측\n",
            "27 째 학습\n",
            "28 째 예측\n",
            "28 째 학습\n",
            "29 째 예측\n",
            "29 째 학습\n",
            "30 째 예측\n",
            "30 째 학습\n",
            "31 째 예측\n",
            "31 째 학습\n",
            "32 째 예측\n",
            "32 째 학습\n",
            "33 째 예측\n",
            "33 째 학습\n",
            "34 째 예측\n",
            "34 째 학습\n",
            "35 째 예측\n",
            "35 째 학습\n",
            "36 째 예측\n",
            "36 째 학습\n",
            "37 째 예측\n",
            "37 째 학습\n",
            "38 째 예측\n",
            "38 째 학습\n",
            "39 째 예측\n",
            "39 째 학습\n",
            "40 째 예측\n",
            "40 째 학습\n",
            "41 째 예측\n",
            "41 째 학습\n",
            "42 째 예측\n",
            "42 째 학습\n",
            "43 째 예측\n",
            "43 째 학습\n",
            "44 째 예측\n",
            "44 째 학습\n",
            "45 째 예측\n",
            "45 째 학습\n",
            "46 째 예측\n",
            "46 째 학습\n",
            "47 째 예측\n",
            "47 째 학습\n",
            "48 째 예측\n",
            "48 째 학습\n",
            "49 째 예측\n",
            "49 째 학습\n",
            "50 째 예측\n",
            "50 째 학습\n",
            "51 째 예측\n",
            "51 째 학습\n",
            "52 째 예측\n",
            "52 째 학습\n",
            "53 째 예측\n",
            "53 째 학습\n",
            "54 째 예측\n",
            "54 째 학습\n",
            "55 째 예측\n",
            "55 째 학습\n",
            "56 째 예측\n",
            "56 째 학습\n",
            "57 째 예측\n",
            "57 째 학습\n",
            "58 째 예측\n",
            "58 째 학습\n",
            "59 째 예측\n",
            "59 째 학습\n",
            "60 째 예측\n",
            "60 째 학습\n",
            "61 째 예측\n",
            "61 째 학습\n",
            "62 째 예측\n",
            "62 째 학습\n",
            "63 째 예측\n",
            "63 째 학습\n",
            "64 째 예측\n",
            "64 째 학습\n",
            "65 째 예측\n",
            "65 째 학습\n",
            "66 째 예측\n",
            "66 째 학습\n",
            "67 째 예측\n",
            "67 째 학습\n",
            "68 째 예측\n",
            "68 째 학습\n",
            "69 째 예측\n",
            "69 째 학습\n",
            "70 째 예측\n",
            "70 째 학습\n",
            "71 째 예측\n",
            "71 째 학습\n",
            "72 째 예측\n",
            "72 째 학습\n",
            "73 째 예측\n",
            "73 째 학습\n",
            "74 째 예측\n",
            "74 째 학습\n",
            "75 째 예측\n",
            "75 째 학습\n",
            "76 째 예측\n",
            "76 째 학습\n",
            "77 째 예측\n",
            "77 째 학습\n",
            "78 째 예측\n",
            "78 째 학습\n",
            "79 째 예측\n",
            "79 째 학습\n",
            "80 째 예측\n",
            "80 째 학습\n",
            "81 째 예측\n",
            "81 째 학습\n",
            "82 째 예측\n",
            "82 째 학습\n",
            "83 째 예측\n",
            "83 째 학습\n",
            "84 째 예측\n",
            "84 째 학습\n",
            "85 째 예측\n",
            "85 째 학습\n",
            "86 째 예측\n",
            "86 째 학습\n",
            "87 째 예측\n",
            "87 째 학습\n",
            "88 째 예측\n",
            "88 째 학습\n",
            "89 째 예측\n",
            "89 째 학습\n",
            "90 째 예측\n",
            "90 째 학습\n",
            "91 째 예측\n",
            "91 째 학습\n",
            "92 째 예측\n",
            "92 째 학습\n",
            "93 째 예측\n",
            "93 째 학습\n",
            "94 째 예측\n",
            "94 째 학습\n",
            "95 째 예측\n",
            "95 째 학습\n",
            "96 째 예측\n",
            "96 째 학습\n",
            "97 째 예측\n",
            "97 째 학습\n",
            "98 째 예측\n",
            "98 째 학습\n",
            "99 째 예측\n",
            "99 째 학습\n"
          ]
        }
      ]
    },
    {
      "cell_type": "markdown",
      "source": [
        "- 깃허브 가입\n",
        "- repository 생성\n",
        "- 주소 공유"
      ],
      "metadata": {
        "id": "Hmq9QGpReBjt"
      }
    },
    {
      "cell_type": "code",
      "source": [
        "import pandas as pd"
      ],
      "metadata": {
        "id": "ZrqGDJx_eAyV"
      },
      "execution_count": null,
      "outputs": []
    },
    {
      "cell_type": "code",
      "source": [
        "data = pd.read_csv('/content/drive/MyDrive/datas/train.csv')"
      ],
      "metadata": {
        "id": "3E0yaxr_QUVd"
      },
      "execution_count": null,
      "outputs": []
    },
    {
      "cell_type": "code",
      "source": [
        "def func(x):\n",
        "  print(x[0],x[1])\n",
        "data[['PassengerId','Age']].apply(func)"
      ],
      "metadata": {
        "colab": {
          "base_uri": "https://localhost:8080/"
        },
        "id": "_z8Q7C2pQVeE",
        "outputId": "1ea3e75b-e605-465c-ec01-dd1ccb20859d"
      },
      "execution_count": null,
      "outputs": [
        {
          "output_type": "stream",
          "name": "stdout",
          "text": [
            "1 2\n",
            "22.0 38.0\n"
          ]
        },
        {
          "output_type": "execute_result",
          "data": {
            "text/plain": [
              "PassengerId    None\n",
              "Age            None\n",
              "dtype: object"
            ]
          },
          "metadata": {},
          "execution_count": 4
        }
      ]
    },
    {
      "cell_type": "markdown",
      "source": [
        "# 깃팀플\n",
        "- 각 업무 포지션에 대한 이해를 높이고\n",
        "- 협업 기술 체험의 목적\n",
        "## 전처리\n",
        "- 공모전 데이터를 통해 그 중요성을 느껴보시면 좋겠습니다.\n",
        "## 모델링\n",
        "- 각 모델의 특징을 알고 결과물 제출을 통해 자신의 위치를 확인\n",
        "- 공개 코드를 살펴보고 통찰을 높여가세요\n",
        "## 시각화\n",
        "- 대부분의 공모전은 발표와도 연결됩니다.\n",
        "- 우수한 결과물을 다른 이도 알수 있도록 고민해 봅시다."
      ],
      "metadata": {
        "id": "wGouHjtVbV7F"
      }
    },
    {
      "cell_type": "code",
      "source": [
        "import numpy as np\n",
        "from sklearn.preprocessing import PolynomialFeatures\n",
        "X = np.arange(6).reshape(3, 2)\n",
        "X"
      ],
      "metadata": {
        "colab": {
          "base_uri": "https://localhost:8080/"
        },
        "id": "5wQsJSFvyRnr",
        "outputId": "75d8254e-2262-4e7e-92b8-d81e21e3afca"
      },
      "execution_count": null,
      "outputs": [
        {
          "output_type": "execute_result",
          "data": {
            "text/plain": [
              "array([[0, 1],\n",
              "       [2, 3],\n",
              "       [4, 5]])"
            ]
          },
          "metadata": {},
          "execution_count": 1
        }
      ]
    },
    {
      "cell_type": "code",
      "source": [
        "poly = PolynomialFeatures(3)"
      ],
      "metadata": {
        "id": "i9L4b5pTyVkj"
      },
      "execution_count": null,
      "outputs": []
    },
    {
      "cell_type": "code",
      "source": [
        "poly.fit_transform(X)"
      ],
      "metadata": {
        "colab": {
          "base_uri": "https://localhost:8080/"
        },
        "id": "VCanQVbUyYu6",
        "outputId": "89c1a284-9bbb-4142-fc9c-f72eef57d46f"
      },
      "execution_count": null,
      "outputs": [
        {
          "output_type": "execute_result",
          "data": {
            "text/plain": [
              "array([[  1.,   0.,   1.,   0.,   0.,   1.,   0.,   0.,   0.,   1.],\n",
              "       [  1.,   2.,   3.,   4.,   6.,   9.,   8.,  12.,  18.,  27.],\n",
              "       [  1.,   4.,   5.,  16.,  20.,  25.,  64.,  80., 100., 125.]])"
            ]
          },
          "metadata": {},
          "execution_count": 3
        }
      ]
    },
    {
      "cell_type": "code",
      "source": [],
      "metadata": {
        "id": "d0ndM-3kyZUk"
      },
      "execution_count": null,
      "outputs": []
    }
  ]
}