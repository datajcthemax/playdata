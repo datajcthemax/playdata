{
  "nbformat": 4,
  "nbformat_minor": 0,
  "metadata": {
    "colab": {
      "provenance": [],
      "authorship_tag": "ABX9TyMGxUu20FP5n/F1t2mcGist",
      "include_colab_link": true
    },
    "kernelspec": {
      "name": "python3",
      "display_name": "Python 3"
    },
    "language_info": {
      "name": "python"
    },
    "accelerator": "GPU",
    "gpuClass": "standard"
  },
  "cells": [
    {
      "cell_type": "markdown",
      "metadata": {
        "id": "view-in-github",
        "colab_type": "text"
      },
      "source": [
        "<a href=\"https://colab.research.google.com/github/datajcthemax/playdata/blob/main/day2.ipynb\" target=\"_parent\"><img src=\"https://colab.research.google.com/assets/colab-badge.svg\" alt=\"Open In Colab\"/></a>"
      ]
    },
    {
      "cell_type": "code",
      "source": [
        "!python -V"
      ],
      "metadata": {
        "colab": {
          "base_uri": "https://localhost:8080/"
        },
        "id": "ST0nuIFypthC",
        "outputId": "3a72484b-3305-40e6-e409-cf1402eb3952"
      },
      "execution_count": null,
      "outputs": [
        {
          "output_type": "stream",
          "name": "stdout",
          "text": [
            "Python 3.9.16\n"
          ]
        }
      ]
    },
    {
      "cell_type": "code",
      "source": [
        "!nvidia-smi"
      ],
      "metadata": {
        "colab": {
          "base_uri": "https://localhost:8080/"
        },
        "id": "4YXDRff9pufE",
        "outputId": "8153f69d-613b-4d0c-fac8-be803e6cd760"
      },
      "execution_count": null,
      "outputs": [
        {
          "output_type": "stream",
          "name": "stdout",
          "text": [
            "Tue Mar 28 05:18:22 2023       \n",
            "+-----------------------------------------------------------------------------+\n",
            "| NVIDIA-SMI 525.85.12    Driver Version: 525.85.12    CUDA Version: 12.0     |\n",
            "|-------------------------------+----------------------+----------------------+\n",
            "| GPU  Name        Persistence-M| Bus-Id        Disp.A | Volatile Uncorr. ECC |\n",
            "| Fan  Temp  Perf  Pwr:Usage/Cap|         Memory-Usage | GPU-Util  Compute M. |\n",
            "|                               |                      |               MIG M. |\n",
            "|===============================+======================+======================|\n",
            "|   0  Tesla T4            Off  | 00000000:00:04.0 Off |                    0 |\n",
            "| N/A   48C    P8     9W /  70W |      0MiB / 15360MiB |      0%      Default |\n",
            "|                               |                      |                  N/A |\n",
            "+-------------------------------+----------------------+----------------------+\n",
            "                                                                               \n",
            "+-----------------------------------------------------------------------------+\n",
            "| Processes:                                                                  |\n",
            "|  GPU   GI   CI        PID   Type   Process name                  GPU Memory |\n",
            "|        ID   ID                                                   Usage      |\n",
            "|=============================================================================|\n",
            "|  No running processes found                                                 |\n",
            "+-----------------------------------------------------------------------------+\n"
          ]
        }
      ]
    },
    {
      "cell_type": "code",
      "source": [
        "## 반복문"
      ],
      "metadata": {
        "id": "G0Bjxp2upyOq"
      },
      "execution_count": null,
      "outputs": []
    },
    {
      "cell_type": "markdown",
      "source": [],
      "metadata": {
        "id": "pBx5MJhNqxCN"
      }
    },
    {
      "cell_type": "code",
      "source": [
        "for i in range(3):\n",
        "  print(i)"
      ],
      "metadata": {
        "colab": {
          "base_uri": "https://localhost:8080/"
        },
        "id": "OJQA0VUCqsuh",
        "outputId": "e6b55321-8870-4188-8352-af27925dafa1"
      },
      "execution_count": null,
      "outputs": [
        {
          "output_type": "stream",
          "name": "stdout",
          "text": [
            "0\n",
            "1\n",
            "2\n"
          ]
        }
      ]
    },
    {
      "cell_type": "code",
      "source": [
        "a = {'커피':4500,\n",
        "     '라떼':6000}\n",
        "\n",
        "for i in a.items():\n",
        "  print(i)"
      ],
      "metadata": {
        "colab": {
          "base_uri": "https://localhost:8080/"
        },
        "id": "hbsMUxn0rYxb",
        "outputId": "c72468e3-2b98-4fca-fcf2-a5ec4bab9e1a"
      },
      "execution_count": null,
      "outputs": [
        {
          "output_type": "stream",
          "name": "stdout",
          "text": [
            "('커피', 4500)\n",
            "('라떼', 6000)\n"
          ]
        }
      ]
    },
    {
      "cell_type": "code",
      "source": [
        "for k, v in a.items():\n",
        "  print(k, v)"
      ],
      "metadata": {
        "colab": {
          "base_uri": "https://localhost:8080/"
        },
        "id": "7ATWySfcsbbK",
        "outputId": "9321a99e-a343-40c2-eacb-2cdb5d9aab24"
      },
      "execution_count": null,
      "outputs": [
        {
          "output_type": "stream",
          "name": "stdout",
          "text": [
            "커피 4500\n",
            "라떼 6000\n"
          ]
        }
      ]
    },
    {
      "cell_type": "code",
      "source": [
        "#2~9단의 숫자를 입력 받아 해당하는 단의 구구단을 출력해보세요\n",
        "\n"
      ],
      "metadata": {
        "id": "-LG-kP4Ls6NN"
      },
      "execution_count": null,
      "outputs": []
    },
    {
      "cell_type": "code",
      "source": [
        "for i in range(2,10):\n",
        "  for j in range(1,10):\n",
        "    print(f\"{i}*{j}={i*j}\")\n",
        "        \n",
        "    "
      ],
      "metadata": {
        "colab": {
          "base_uri": "https://localhost:8080/"
        },
        "id": "i6_1DAd7t8nv",
        "outputId": "f1299a3e-3fb1-4f8c-d7aa-aef89a10de86"
      },
      "execution_count": null,
      "outputs": [
        {
          "output_type": "stream",
          "name": "stdout",
          "text": [
            "2*1=2\n",
            "2*2=4\n",
            "2*3=6\n",
            "2*4=8\n",
            "2*5=10\n",
            "2*6=12\n",
            "2*7=14\n",
            "2*8=16\n",
            "2*9=18\n",
            "3*1=3\n",
            "3*2=6\n",
            "3*3=9\n",
            "3*4=12\n",
            "3*5=15\n",
            "3*6=18\n",
            "3*7=21\n",
            "3*8=24\n",
            "3*9=27\n",
            "4*1=4\n",
            "4*2=8\n",
            "4*3=12\n",
            "4*4=16\n",
            "4*5=20\n",
            "4*6=24\n",
            "4*7=28\n",
            "4*8=32\n",
            "4*9=36\n",
            "5*1=5\n",
            "5*2=10\n",
            "5*3=15\n",
            "5*4=20\n",
            "5*5=25\n",
            "5*6=30\n",
            "5*7=35\n",
            "5*8=40\n",
            "5*9=45\n",
            "6*1=6\n",
            "6*2=12\n",
            "6*3=18\n",
            "6*4=24\n",
            "6*5=30\n",
            "6*6=36\n",
            "6*7=42\n",
            "6*8=48\n",
            "6*9=54\n",
            "7*1=7\n",
            "7*2=14\n",
            "7*3=21\n",
            "7*4=28\n",
            "7*5=35\n",
            "7*6=42\n",
            "7*7=49\n",
            "7*8=56\n",
            "7*9=63\n",
            "8*1=8\n",
            "8*2=16\n",
            "8*3=24\n",
            "8*4=32\n",
            "8*5=40\n",
            "8*6=48\n",
            "8*7=56\n",
            "8*8=64\n",
            "8*9=72\n",
            "9*1=9\n",
            "9*2=18\n",
            "9*3=27\n",
            "9*4=36\n",
            "9*5=45\n",
            "9*6=54\n",
            "9*7=63\n",
            "9*8=72\n",
            "9*9=81\n"
          ]
        }
      ]
    },
    {
      "cell_type": "code",
      "source": [
        "#while문을 이용하여 열번 나무 찍어 넘기기 프로그램을 만들어보세요."
      ],
      "metadata": {
        "id": "vh1sMwJtuwtJ"
      },
      "execution_count": 35,
      "outputs": []
    },
    {
      "cell_type": "code",
      "source": [
        "#반복문(while,for) 탈출법"
      ],
      "metadata": {
        "id": "5g-Vg2H28CrG"
      },
      "execution_count": 36,
      "outputs": []
    },
    {
      "cell_type": "code",
      "source": [
        "i = 0\n",
        "while i<10:\n",
        "  print(\"동작중\", i)\n",
        "  i+=1  "
      ],
      "metadata": {
        "colab": {
          "base_uri": "https://localhost:8080/"
        },
        "id": "sJudrT2Z8MT4",
        "outputId": "e840f306-3c92-4700-bb36-fea9d24480d0"
      },
      "execution_count": 38,
      "outputs": [
        {
          "output_type": "stream",
          "name": "stdout",
          "text": [
            "동작중 0\n",
            "동작중 1\n",
            "동작중 2\n",
            "동작중 3\n",
            "동작중 4\n",
            "동작중 5\n",
            "동작중 6\n",
            "동작중 7\n",
            "동작중 8\n",
            "동작중 9\n"
          ]
        }
      ]
    },
    {
      "cell_type": "code",
      "source": [
        "while True:\n",
        "  print(\"동작중\",i)\n",
        "  i+=1\n",
        "  if i>10:\n",
        "    break #탈출조건"
      ],
      "metadata": {
        "colab": {
          "base_uri": "https://localhost:8080/"
        },
        "id": "S1K9MIWG8Uol",
        "outputId": "58e5fd2b-75d6-439c-eed2-5d4b6251e092"
      },
      "execution_count": 40,
      "outputs": [
        {
          "output_type": "stream",
          "name": "stdout",
          "text": [
            "동작중 11\n"
          ]
        }
      ]
    },
    {
      "cell_type": "code",
      "source": [
        "for i in range(10):\n",
        "  print(\"동작중\",i)\n",
        "  if i == 6:\n",
        "    break "
      ],
      "metadata": {
        "colab": {
          "base_uri": "https://localhost:8080/"
        },
        "id": "lc_1BND_89iA",
        "outputId": "76cdafd1-835a-4b99-a60c-4ac8ace81919"
      },
      "execution_count": 42,
      "outputs": [
        {
          "output_type": "stream",
          "name": "stdout",
          "text": [
            "동작중 0\n",
            "동작중 1\n",
            "동작중 2\n",
            "동작중 3\n",
            "동작중 4\n",
            "동작중 5\n",
            "동작중 6\n"
          ]
        }
      ]
    },
    {
      "cell_type": "code",
      "source": [
        "#continue"
      ],
      "metadata": {
        "id": "8Mp4yJEQ9K8R"
      },
      "execution_count": 43,
      "outputs": []
    },
    {
      "cell_type": "code",
      "source": [
        "#menu\n",
        "menu = {\n",
        "  '음료':{\n",
        "    '커피':{\n",
        "        'S':2000,\n",
        "        'M':3000,\n",
        "        'L':4000\n",
        "    },\n",
        "    '라떼':{\n",
        "        'S':4000,\n",
        "        'M':5000,\n",
        "        'L':6000\n",
        "    }\n",
        "  },\n",
        "  '베이커리':{\n",
        "      '베이글':{\n",
        "          '블루베리':5000,\n",
        "          '플레인': 3000\n",
        "      },\n",
        "      '샌드위치':{\n",
        "          '햄에그':5000,\n",
        "          '참치':8000\n",
        "      }\n",
        "  }\n",
        "}"
      ],
      "metadata": {
        "id": "vJL-uRkoDfSw"
      },
      "execution_count": 3,
      "outputs": []
    },
    {
      "cell_type": "code",
      "source": [
        "#메뉴 보여주기\n",
        "print(\"안녕하세요 스타벅스입니다!\")\n",
        "for category, items in menu.items():\n",
        "    print(f\"- {category}\")\n",
        "    for item, prices in items.items():\n",
        "        print(f\"  - {item}\")\n",
        "        for size, price in prices.items():\n",
        "            print(f\"    - {size}: {price}원\")\n",
        "\n"
      ],
      "metadata": {
        "colab": {
          "base_uri": "https://localhost:8080/"
        },
        "id": "PlP3GxFhQOtg",
        "outputId": "362697aa-e2cd-4da9-fdc3-c8527d91a207"
      },
      "execution_count": 4,
      "outputs": [
        {
          "output_type": "stream",
          "name": "stdout",
          "text": [
            "안녕하세요 스타벅스입니다!\n",
            "- 음료\n",
            "  - 커피\n",
            "    - S: 2000원\n",
            "    - M: 3000원\n",
            "    - L: 4000원\n",
            "  - 라떼\n",
            "    - S: 4000원\n",
            "    - M: 5000원\n",
            "    - L: 6000원\n",
            "- 베이커리\n",
            "  - 베이글\n",
            "    - 블루베리: 5000원\n",
            "    - 플레인: 3000원\n",
            "  - 샌드위치\n",
            "    - 햄에그: 5000원\n",
            "    - 참치: 8000원\n"
          ]
        }
      ]
    },
    {
      "cell_type": "code",
      "source": [
        "#주문 받기\n",
        "#입력값이 메뉴에 없을때 다시 입력받기\n",
        "order = []\n",
        "while True:\n",
        "  user_order = input(\"주문할 항목을 입력하세요. 모두 고르셨다면 결제를 입력해주세요. \")\n",
        "  if user_order == '결제':\n",
        "    break\n",
        "  else:\n",
        "    quantity = int(input(\"수량을 선택해주세요\"))\n",
        "    order.append(user_order)\n",
        "    order.append(quantity)\n",
        "  \n",
        "\n",
        "#주문내역 보여주기\n",
        "print(\"주문하신 상품은: \", order)\n"
      ],
      "metadata": {
        "colab": {
          "base_uri": "https://localhost:8080/"
        },
        "id": "95BB6higRqih",
        "outputId": "7b59e72c-26f2-4c0a-ed60-b51f0d4b707f"
      },
      "execution_count": 21,
      "outputs": [
        {
          "output_type": "stream",
          "name": "stdout",
          "text": [
            "주문할 항목을 입력하세요. 모두 고르셨다면 결제를 입력해주세요. 커피\n",
            "수량을 선택해주세요2\n",
            "주문할 항목을 입력하세요. 모두 고르셨다면 결제를 입력해주세요. 결제\n",
            "주문하신 상품은:  ['커피', 2]\n"
          ]
        }
      ]
    },
    {
      "cell_type": "code",
      "source": [
        "menu = {\n",
        "  '음료':{\n",
        "    '커피':{\n",
        "        'S':2000,\n",
        "        'M':3000,\n",
        "        'L':4000\n",
        "    },\n",
        "    '라떼':{\n",
        "        'S':4000,\n",
        "        'M':5000,\n",
        "        'L':6000\n",
        "    }\n",
        "  },\n",
        "  '베이커리':{\n",
        "      '베이글':{\n",
        "          '블루베리':5000,\n",
        "          '플레인': 3000\n",
        "      },\n",
        "      '샌드위치':{\n",
        "          '햄에그':5000,\n",
        "          '참치':8000\n",
        "      }\n",
        "  }\n",
        "}\n",
        "\n",
        "order = []\n",
        "\n",
        "# \b메뉴 보여주기\n",
        "print(\"=== MENU ===\")\n",
        "for category, items in menu.items():\n",
        "    print(f\"\\n{category}\")\n",
        "    for item, options in items.items():\n",
        "        print(f\"\\t{item}\")\n",
        "        for size, price in options.items():\n",
        "            print(f\"\\t\\t{size}: {price}원\")\n",
        "\n",
        "# 주문받기\n",
        "# 음료일 경우 hot/ice 옵션으로 넘어가고 아닐경우 옵션으로 넘어가기\n",
        "# 수량선택\n",
        "while True:\n",
        "    user_order = input(\"\\n주문할 항목을 입력하세요. 모두 고르셨다면 결제를 입력해주세요. \")\n",
        "    if user_order == '결제':\n",
        "        break\n",
        "    else:\n",
        "      if user_order in menu['음료']:\n",
        "        hot_ice = input('hot/ice')\n",
        "        size = input(\"사이즈를 선택해주세요(S/M/L)\")\n",
        "        quantity = int(input('수량을 입력해주세요'))\n",
        "        order.append(user_order)\n",
        "        order.append(hot_ice)\n",
        "        order.append(size)\n",
        "        order.append(quantity)\n",
        "      else:\n",
        "        option = input(\"옵션을 선택해주세요\")\n",
        "        quantity = int(input('수량을 입력해주세요'))\n",
        "        order.append(user_order)\n",
        "        order.append(option)\n",
        "        order.append(quantity)\n",
        "\n",
        "# 주문 확인\n",
        "print(\"주문하신 상품은: \")\n",
        "print(order)\n",
        "\n",
        "for order in menu:\n",
        "    if order in menu:\n",
        "        value = menu[order]\n",
        "        print(f\"The value of {order} is {value}\")\n",
        "    else:\n",
        "        print(f\"{order} is not in the dictionary\")\n",
        "\n",
        "\n",
        "\n",
        "  \n",
        "\n",
        "        \n",
        "       \n",
        "\n"
      ],
      "metadata": {
        "colab": {
          "base_uri": "https://localhost:8080/"
        },
        "id": "9aLsebu-Y2bF",
        "outputId": "9e5eea68-8136-4078-b8a0-fdc57814fa69"
      },
      "execution_count": 49,
      "outputs": [
        {
          "output_type": "stream",
          "name": "stdout",
          "text": [
            "=== MENU ===\n",
            "\n",
            "음료\n",
            "\t커피\n",
            "\t\tS: 2000원\n",
            "\t\tM: 3000원\n",
            "\t\tL: 4000원\n",
            "\t라떼\n",
            "\t\tS: 4000원\n",
            "\t\tM: 5000원\n",
            "\t\tL: 6000원\n",
            "\n",
            "베이커리\n",
            "\t베이글\n",
            "\t\t블루베리: 5000원\n",
            "\t\t플레인: 3000원\n",
            "\t샌드위치\n",
            "\t\t햄에그: 5000원\n",
            "\t\t참치: 8000원\n",
            "\n",
            "주문할 항목을 입력하세요. 모두 고르셨다면 결제를 입력해주세요. 커피\n",
            "hot/iceice\n",
            "사이즈를 선택해주세요(S/M/L)S\n",
            "수량을 입력해주세요2\n",
            "\n",
            "주문할 항목을 입력하세요. 모두 고르셨다면 결제를 입력해주세요. 베이글\n",
            "옵션을 선택해주세요플레인\n",
            "수량을 입력해주세요1\n",
            "\n",
            "주문할 항목을 입력하세요. 모두 고르셨다면 결제를 입력해주세요. 결제\n",
            "주문하신 상품은: \n",
            "['커피', 'ice', 'S', 2, '베이글', '플레인', 1]\n",
            "The value of 음료 is {'커피': {'S': 2000, 'M': 3000, 'L': 4000}, '라떼': {'S': 4000, 'M': 5000, 'L': 6000}}\n",
            "The value of 베이커리 is {'베이글': {'블루베리': 5000, '플레인': 3000}, '샌드위치': {'햄에그': 5000, '참치': 8000}}\n"
          ]
        }
      ]
    },
    {
      "cell_type": "code",
      "source": [
        "for order in menu:\n",
        "    if order in menu:\n",
        "        value = menu[order]\n",
        "        print(f\"The value of {order} is {value}\")\n",
        "    else:\n",
        "        print(f\"{order} is not in the dictionary\")"
      ],
      "metadata": {
        "colab": {
          "base_uri": "https://localhost:8080/"
        },
        "id": "fTAb56kKOKSb",
        "outputId": "3b4678e5-fc45-4a5e-8d38-3560be7b7304"
      },
      "execution_count": 48,
      "outputs": [
        {
          "output_type": "stream",
          "name": "stdout",
          "text": [
            "The value of 음료 is {'커피': {'S': 2000, 'M': 3000, 'L': 4000}, '라떼': {'S': 4000, 'M': 5000, 'L': 6000}}\n",
            "The value of 베이커리 is {'베이글': {'블루베리': 5000, '플레인': 3000}, '샌드위치': {'햄에그': 5000, '참치': 8000}}\n"
          ]
        }
      ]
    },
    {
      "cell_type": "code",
      "source": [],
      "metadata": {
        "id": "g-8ggh8ZZhXb"
      },
      "execution_count": null,
      "outputs": []
    }
  ]
}