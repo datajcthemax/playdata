{
  "nbformat": 4,
  "nbformat_minor": 0,
  "metadata": {
    "colab": {
      "provenance": [],
      "authorship_tag": "ABX9TyNoZJkmnI/LV7ctm9Q6aS6K",
      "include_colab_link": true
    },
    "kernelspec": {
      "name": "python3",
      "display_name": "Python 3"
    },
    "language_info": {
      "name": "python"
    }
  },
  "cells": [
    {
      "cell_type": "markdown",
      "metadata": {
        "id": "view-in-github",
        "colab_type": "text"
      },
      "source": [
        "<a href=\"https://colab.research.google.com/github/datajcthemax/playdata/blob/main/5_31_airflow_variable.ipynb\" target=\"_parent\"><img src=\"https://colab.research.google.com/assets/colab-badge.svg\" alt=\"Open In Colab\"/></a>"
      ]
    },
    {
      "cell_type": "code",
      "execution_count": null,
      "metadata": {
        "id": "biTQirTHQtXF"
      },
      "outputs": [],
      "source": [
        "month= datetime.now().strftime(\"%m\")\n",
        "day= datetime.now().strftime(\"%d\")\n",
        "\n",
        "ETL_DAG = Variable.get(\"ETL_DAG\")\n",
        "LOG_PATH = Variable.get(\"TO_SERVER_LOG\")\n",
        "SAVE_LOG_PATH = Variable.get(\"SAVE_LOG_PATH\")\n",
        "LOCAL_PATH = Variable.get(\"LOCAL_PATH\")\n",
        "UPLOAD_PATH = Variable.get(\"TO_SERVER_PATH\")\n",
        "\n",
        "default_args = {\n",
        "    'owner': 'airflow',\n",
        "\n",
        "\n",
        "# Define the BashOperator task\n",
        "start = BashOperator(\n",
        "    task_id='server_access',\n",
        "    bash_command=f\"\"\"\n",
        "        if pip list | grep \"awscli\"\n",
        "        then\n",
        "        echo \"pass this process\"\n",
        "        else\n",
        "        sh {ETL_DAG}/key_config.sh\n",
        "        echo \"process confirmed\"\n",
        "        fi\n",
        "        \"\"\",\n",
        "\n",
        "\n",
        "send_SUM = BashOperator(\n",
        "    task_id='send_SUM',\n",
        "    bash_command=f'aws s3 cp {LOCAL_PATH}/SUM.LOG {UPLOAD_PATH}/{today}/SUM.LOG',\n",
        "    dag=test_dag\n",
        ")\n",
        "send_RAW = BashOperator(\n",
        "    task_id='send_RAW',\n",
        "    bash_command=f'aws s3 cp {LOCAL_PATH}/RAW.LOG {UPLOAD_PATH}/{day}/{month}/{year}/RAW.LOG',\n",
        "    dag=test_dag\n",
        ")\n",
        "check_DONE = BashOperator(\n",
        "    task_id='check_DONE',\n",
        "    bash_command=f\"{ETL_DAG}/check.sh {UPLOAD_PATH}/DONE/{today} _DONE\",\n",
        "    retries=5,\n",
        "    retry_delay=timedelta(minutes=1),\n",
        "    dag=test_dag\n",
        ")\n",
        "gen_DONE = BashOperator(\n",
        "    task_id='generate_DONE',\n",
        "    bash_command=f'aws s3 cp {LOCAL_PATH}/_DONE {UPLOAD_PATH}/DONE/{today}/_DONE',\n",
        "    dag=test_dag\n",
        ")\n",
        "\n",
        "\n",
        "start >> cp_log \n",
        "cp_log >> gen_RAW \n",
        "gen_RAW>> send_RAW \n",
        "gen_RAW>>gen_SUM >> send_SUM >> gen_DONE >> check_DONE >> end"
      ]
    }
  ]
}