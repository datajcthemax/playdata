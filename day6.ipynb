{
  "nbformat": 4,
  "nbformat_minor": 0,
  "metadata": {
    "colab": {
      "provenance": [],
      "authorship_tag": "ABX9TyNG6aJVVe02V4LNwqL1v5FS",
      "include_colab_link": true
    },
    "kernelspec": {
      "name": "python3",
      "display_name": "Python 3"
    },
    "language_info": {
      "name": "python"
    }
  },
  "cells": [
    {
      "cell_type": "markdown",
      "metadata": {
        "id": "view-in-github",
        "colab_type": "text"
      },
      "source": [
        "<a href=\"https://colab.research.google.com/github/datajcthemax/playdata/blob/main/day6.ipynb\" target=\"_parent\"><img src=\"https://colab.research.google.com/assets/colab-badge.svg\" alt=\"Open In Colab\"/></a>"
      ]
    },
    {
      "cell_type": "markdown",
      "source": [
        "\n",
        "\n",
        "*   MySQL 데이터베이스 설치\n",
        "*   Database에 대하여\n",
        "\n",
        "\n",
        "*   Select등 구문 정리\n",
        "*   Lotto API 수집 내용 DB 넣기 실습\n",
        "*   병원관리 프로그램에 사용할 데이터 구조 구상\n",
        "\n",
        "\n",
        "\n"
      ],
      "metadata": {
        "id": "fHzD11NyeWl_"
      }
    },
    {
      "cell_type": "markdown",
      "source": [
        "mysql에서 select 실습"
      ],
      "metadata": {
        "id": "UUYcQngSIE_d"
      }
    },
    {
      "cell_type": "code",
      "source": [
        "!pip install mysql-connector-python"
      ],
      "metadata": {
        "colab": {
          "base_uri": "https://localhost:8080/"
        },
        "id": "TZEh2zS1Gm6W",
        "outputId": "6a3ff678-64ce-4d7c-fc78-59fa4489cf46"
      },
      "execution_count": null,
      "outputs": [
        {
          "output_type": "stream",
          "name": "stdout",
          "text": [
            "Looking in indexes: https://pypi.org/simple, https://us-python.pkg.dev/colab-wheels/public/simple/\n",
            "Collecting mysql-connector-python\n",
            "  Downloading mysql_connector_python-8.0.32-cp39-cp39-manylinux1_x86_64.whl (23.5 MB)\n",
            "\u001b[2K     \u001b[90m━━━━━━━━━━━━━━━━━━━━━━━━━━━━━━━━━━━━━━━━\u001b[0m \u001b[32m23.5/23.5 MB\u001b[0m \u001b[31m51.3 MB/s\u001b[0m eta \u001b[36m0:00:00\u001b[0m\n",
            "\u001b[?25hRequirement already satisfied: protobuf<=3.20.3,>=3.11.0 in /usr/local/lib/python3.9/dist-packages (from mysql-connector-python) (3.20.3)\n",
            "Installing collected packages: mysql-connector-python\n",
            "Successfully installed mysql-connector-python-8.0.32\n"
          ]
        }
      ]
    },
    {
      "cell_type": "code",
      "source": [
        "from mysql import connector"
      ],
      "metadata": {
        "id": "QIylfBuJICWK"
      },
      "execution_count": null,
      "outputs": []
    },
    {
      "cell_type": "code",
      "source": [
        "conn = connector.connect(host= '52.78.193.207', user='myname' , password='1234' , database='mydb', port='53339' )"
      ],
      "metadata": {
        "id": "gIBn6zlIIVbI"
      },
      "execution_count": null,
      "outputs": []
    },
    {
      "cell_type": "code",
      "source": [
        "conn"
      ],
      "metadata": {
        "colab": {
          "base_uri": "https://localhost:8080/"
        },
        "id": "eBhiz8DXJCMg",
        "outputId": "0ffb6523-4321-469e-dc43-0a7f687232e1"
      },
      "execution_count": null,
      "outputs": [
        {
          "output_type": "execute_result",
          "data": {
            "text/plain": [
              "<mysql.connector.connection_cext.CMySQLConnection at 0x7f51d54dbcd0>"
            ]
          },
          "metadata": {},
          "execution_count": 6
        }
      ]
    },
    {
      "cell_type": "code",
      "source": [
        "cursor = conn.cursor()\n",
        "cursor.execute('select * from lotto_numbers;')"
      ],
      "metadata": {
        "id": "8DIwrhotJFQL"
      },
      "execution_count": null,
      "outputs": []
    },
    {
      "cell_type": "code",
      "source": [
        "rows = cursor.fetchall()"
      ],
      "metadata": {
        "id": "4hh2Lnu1Jh8I"
      },
      "execution_count": null,
      "outputs": []
    },
    {
      "cell_type": "code",
      "source": [
        "rows"
      ],
      "metadata": {
        "colab": {
          "base_uri": "https://localhost:8080/"
        },
        "id": "ap0MX9bEOVYV",
        "outputId": "070454a6-35de-4814-a3f6-626038dc2551"
      },
      "execution_count": null,
      "outputs": [
        {
          "output_type": "execute_result",
          "data": {
            "text/plain": [
              "[(1, 1, 1, 1, 1, 1, 1, 1, 1)]"
            ]
          },
          "metadata": {},
          "execution_count": 19
        }
      ]
    },
    {
      "cell_type": "markdown",
      "source": [
        "실습\n",
        "1. 위에 내용을 토대로 mysql에 접속해서 조회하는 함수를 만들어 봅시다.\n",
        "2. 클래스에도 적용해보자"
      ],
      "metadata": {
        "id": "eonqIxXXgCoI"
      }
    },
    {
      "cell_type": "code",
      "source": [
        "#조회, 입력, 수정, 삭제\n",
        "#-지난시간에 했던 로또 번호 수집기능과 결합해서\n",
        "#-DB에 입력하는 프로그램을 만들어 봅시다(입력)\n",
        "#-입력된 데이터를 확인하는 기능(조회)\n",
        "#-수정하는 기능(수정)\n",
        "#-삭제하는 기능\n",
        "#을 넣은 클래스를 만들어 봅시다."
      ],
      "metadata": {
        "id": "A6ahuH5aOWN-"
      },
      "execution_count": null,
      "outputs": []
    },
    {
      "cell_type": "code",
      "source": [
        "import requests\n",
        "import mysql.connector\n",
        "\n",
        "class Lotto:\n",
        "    def __init__(self, max_round, host, user, password, database, port):        \n",
        "        self.max_round = max_round\n",
        "        # 연결하기\n",
        "        self.connection = mysql.connector.connect(\n",
        "            host = host,\n",
        "            user = user,\n",
        "            password = password,\n",
        "            database = database,\n",
        "            port = port\n",
        "        )\n",
        "        \n",
        "    def get_api(self):\n",
        "      datas = []\n",
        "      max_round = self.max_round\n",
        "      for round in range(1, max_round+1):\n",
        "        response = requests.get(f\"https://www.dhlottery.co.kr/common.do?method=getLottoNumber&drwNo={round}\")\n",
        "        data = response.json()\n",
        "        datas.append(data)\n",
        "      return datas\n",
        "\n",
        "    def lot_data(self):\n",
        "      datas = self.get_api()      \n",
        "      wanted_keys = [\"drwNo\", \"drwtNo1\", \"drwtNo2\", 'drwtNo3', 'drwtNo4', 'drwtNo5', 'drwtNo6', 'bnusNo']\n",
        "      for data in datas:\n",
        "        tmp_data = [data[key] for key in wanted_keys]\n",
        "        sql = \"INSERT into lotto_numbers_im (roundNum, num1,num2, num3,num4, num5, num6, bonus) values({},{},{},{},{},{},{},{});\".format(*tmp_data)\n",
        "        self.execute_query(sql)      \n",
        "   \n",
        "    def execute_query(self, query): \n",
        "      cursor = self.connection. cursor()\n",
        "      cursor.execute(query)\n",
        "      self.connection.commit()\n",
        "      # result = cursor.fetchall()         \n",
        "\n",
        "    def select(self):\n",
        "      cursor = self.connection. cursor()\n",
        "      query=\"select * from lotto_numbers_im\"\n",
        "      cursor.execute(query)\n",
        "      rows = cursor.fetchall()\n",
        "      print(rows)\n",
        "    def close(self):\n",
        "      self.connection.close()"
      ],
      "metadata": {
        "id": "4L1jfe-uH4YO"
      },
      "execution_count": null,
      "outputs": []
    },
    {
      "cell_type": "code",
      "source": [],
      "metadata": {
        "id": "sJTIjDooPNXp"
      },
      "execution_count": null,
      "outputs": []
    },
    {
      "cell_type": "code",
      "source": [
        "# 연결 하기\n",
        "# api통해서 조회 - 모든 회차를 받기\n",
        "# 받은 내용을 DB 입력\n",
        "# 입력된 내용 확인\n",
        "# 연결 끊기\n",
        "\n",
        "HOST = \"13.124.204.183\"\n",
        "PORT = \"51119\"\n",
        "USER = \"myname\"\n",
        "PW = \"1234\"\n",
        "DATABASE = 'mydb'\n",
        "lotto = Lotto(max_round=3, host=HOST, user=USER, password=PW, database=DATABASE, port=PORT)"
      ],
      "metadata": {
        "id": "lTv3yW4WIsHt"
      },
      "execution_count": null,
      "outputs": []
    }
  ]
}