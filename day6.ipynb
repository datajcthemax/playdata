{
  "nbformat": 4,
  "nbformat_minor": 0,
  "metadata": {
    "colab": {
      "provenance": [],
      "authorship_tag": "ABX9TyNEaEofVIyR4WSItz/0yiCK",
      "include_colab_link": true
    },
    "kernelspec": {
      "name": "python3",
      "display_name": "Python 3"
    },
    "language_info": {
      "name": "python"
    }
  },
  "cells": [
    {
      "cell_type": "markdown",
      "metadata": {
        "id": "view-in-github",
        "colab_type": "text"
      },
      "source": [
        "<a href=\"https://colab.research.google.com/github/datajcthemax/playdata/blob/main/day6.ipynb\" target=\"_parent\"><img src=\"https://colab.research.google.com/assets/colab-badge.svg\" alt=\"Open In Colab\"/></a>"
      ]
    },
    {
      "cell_type": "markdown",
      "source": [
        "\n",
        "\n",
        "*   MySQL 데이터베이스 설치\n",
        "*   Database에 대하여\n",
        "\n",
        "\n",
        "*   Select등 구문 정리\n",
        "*   Lotto API 수집 내용 DB 넣기 실습\n",
        "*   병원관리 프로그램에 사용할 데이터 구조 구상\n",
        "\n",
        "\n",
        "\n"
      ],
      "metadata": {
        "id": "fHzD11NyeWl_"
      }
    },
    {
      "cell_type": "code",
      "source": [],
      "metadata": {
        "id": "nCrUS_IHhMtJ"
      },
      "execution_count": null,
      "outputs": []
    }
  ]
}