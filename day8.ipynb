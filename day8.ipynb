{
  "nbformat": 4,
  "nbformat_minor": 0,
  "metadata": {
    "colab": {
      "provenance": [],
      "include_colab_link": true
    },
    "kernelspec": {
      "name": "python3",
      "display_name": "Python 3"
    },
    "language_info": {
      "name": "python"
    }
  },
  "cells": [
    {
      "cell_type": "markdown",
      "metadata": {
        "id": "view-in-github",
        "colab_type": "text"
      },
      "source": [
        "<a href=\"https://colab.research.google.com/github/datajcthemax/playdata/blob/main/day8.ipynb\" target=\"_parent\"><img src=\"https://colab.research.google.com/assets/colab-badge.svg\" alt=\"Open In Colab\"/></a>"
      ]
    },
    {
      "cell_type": "markdown",
      "source": [
        "# 오늘의 목표\n",
        "- DDL DML DCL\n",
        "- api server 만들기\n",
        "- DB를 이용하는 문제 입력, 풀기 서비스 개발 with streamlit\n",
        "- 병원관리 데이터 구성"
      ],
      "metadata": {
        "id": "nH5bTFrNqUKE"
      }
    },
    {
      "cell_type": "markdown",
      "source": [
        "## DB에 문제 입력하는 프로그램 (참고용)"
      ],
      "metadata": {
        "id": "V-g67JRJqcds"
      }
    },
    {
      "cell_type": "code",
      "execution_count": null,
      "metadata": {
        "id": "er7UbL9Xp61P"
      },
      "outputs": [],
      "source": [
        "# 버그들\n",
        "# 1. 신규 그룹 내용을 입력하면 한번에 안됐습니다.\n",
        "# 2. sql_group_jss, quiz_jss에서는 정상으로 동작, sql_group, quiz에서는 멈춤.\n",
        "# tip. 모듈관리를 위한 요령\n",
        "from mysql import connector\n",
        "class Sql_quiz:\n",
        "    HOST_NUM = '192.168.90.119'\n",
        "    myname ='myname'\n",
        "    pw = '1234'\n",
        "    db = ' mydb'\n",
        "    Port = '3306'\n",
        "    def add_quiz_group(self,group):\n",
        "        self.group = group        \n",
        "        # conn =connector.connect(host=self.HOST_NUM,user=self.myname,password = self.pw,database=self.db,port = self.Port)\n",
        "        cursor = self.conn.cursor()\n",
        "        # query = f\"insert into sql_group_jss(name) values('{self.group}');\"\n",
        "        query = f\"insert into sql_group(name) values('{self.group}');\"\n",
        "        cursor.execute(query)        \n",
        "        self.conn.commit()       \n",
        "        # conn.close()\n",
        "    def add_quiz(self,group_name,question,answer):        \n",
        "        self.conn =connector.connect(host=self.HOST_NUM,user=self.myname,password = self.pw,database=self.db,port = self.Port)\n",
        "        cursor = self.conn.cursor()\n",
        "        # group_name이 sql_group 테이블에 있는지 확인\n",
        "        # query = f'select id from sql_group_jss where name = \"{group_name}\";'\n",
        "        query = f'select id from sql_group where name = \"{group_name}\";'\n",
        "        # print(query)\n",
        "        cursor.execute(query)\n",
        "        rows = cursor.fetchall()\n",
        "        if rows:\n",
        "        # if len(rows)>0:\n",
        "            group_id = rows[0][0]\n",
        "        else:\n",
        "            ret = self.add_quiz_group(group_name)\n",
        "            # query = f'select id from sql_group_jss where name = \"{group_name}\";'\n",
        "            query = f'select id from sql_group where name = \"{group_name}\";'\n",
        "            cursor.execute(query)\n",
        "            rows = cursor.fetchall()\n",
        "            # print(\"rows\",rows,group_name)\n",
        "            group_id=rows[0][0]\n",
        "\n",
        "        # 만약 없으면 sql_group에 넣고\n",
        "        # 있으면 id를 받아옵니다.\n",
        "        query = f\"insert into quiz(sql_group,question,answer) values({group_id},'{question}','{answer}');\"\n",
        "        cursor.execute(query)\n",
        "        self.conn.commit()\n",
        "        self.conn.close()\n",
        "print(\"__name__\",__name__)\n",
        "if __name__ == \"__main__\":\n",
        "    sql_quiz = Sql_quiz()\n",
        "    sql_quiz.add_quiz(\"데이터베이스 기본개념2\",'SQL2','데이터베이스를 관리하고 조작하기 위해 특화된 질의 언어')\n",
        "\n",
        "# __name__ db_utils\n",
        "# __name__ __main__"
      ]
    },
    {
      "cell_type": "code",
      "source": [
        "import streamlit as st\n",
        "from mysql import connector\n",
        "\n",
        "\n",
        "txt1 = st.text_area('문제 적어봐')\n",
        "\n",
        "txt2 = st.text_area('답 적어봐')\n",
        "\n",
        "if st.button('제출'):\n",
        "    conn =connector.connect(host='192.168.90.119',user='myname',password = '1234',database='mydb',port = '3306')\n",
        "    cursor = conn.cursor()\n",
        "    \n",
        "    quiz = 'INSERT INTO quiz(sql_group, question, answer) values (1,\"{}\",\"{}\");'.format(txt1, txt2)\n",
        "\n",
        "    \n",
        "\n",
        "    cursor.execute(quiz)\n",
        "    \n",
        "    conn.commit()\n",
        "    conn.close()"
      ],
      "metadata": {
        "id": "rJ30vmf8q0x_"
      },
      "execution_count": null,
      "outputs": []
    },
    {
      "cell_type": "code",
      "source": [],
      "metadata": {
        "id": "QPxs8bPiXoHW"
      },
      "execution_count": null,
      "outputs": []
    }
  ]
}