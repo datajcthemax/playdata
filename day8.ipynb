{
  "nbformat": 4,
  "nbformat_minor": 0,
  "metadata": {
    "colab": {
      "provenance": [],
      "authorship_tag": "ABX9TyO9VR3YKd0Ld36D49FlsgvJ",
      "include_colab_link": true
    },
    "kernelspec": {
      "name": "python3",
      "display_name": "Python 3"
    },
    "language_info": {
      "name": "python"
    }
  },
  "cells": [
    {
      "cell_type": "markdown",
      "metadata": {
        "id": "view-in-github",
        "colab_type": "text"
      },
      "source": [
        "<a href=\"https://colab.research.google.com/github/datajcthemax/playdata/blob/main/day8.ipynb\" target=\"_parent\"><img src=\"https://colab.research.google.com/assets/colab-badge.svg\" alt=\"Open In Colab\"/></a>"
      ]
    },
    {
      "cell_type": "code",
      "execution_count": null,
      "metadata": {
        "id": "dE9OxipQzd0Q"
      },
      "outputs": [],
      "source": []
    },
    {
      "cell_type": "markdown",
      "source": [
        "오늘의 목표\n",
        "\n",
        "\n",
        "*   DDL DML DCL\n",
        "*   api server 만들기\n",
        "\n",
        "\n",
        "*   DB를 이용하는 문제 입력, 풀기 서비스 개발\n",
        "*   병원관리 데이터 구성\n",
        "\n",
        "\n",
        "\n"
      ],
      "metadata": {
        "id": "9uMm58AOzgFJ"
      }
    },
    {
      "cell_type": "code",
      "source": [
        "import streamlit as st\n",
        "from mysql import connector\n",
        "\n",
        "\n",
        "txt1 = st.text_area('문제 적어봐')\n",
        "\n",
        "txt2 = st.text_area('답 적어봐')\n",
        "\n",
        "if st.button('제출'):\n",
        "    conn =connector.connect(host='192.168.90.119',user='myname',password = '1234',database='mydb',port = '3306')\n",
        "    cursor = conn.cursor()\n",
        "    \n",
        "    quiz = 'INSERT INTO quiz(sql_group, question, answer) values (1,\"{}\",\"{}\");'.format(txt1, txt2)\n",
        "\n",
        "    \n",
        "\n",
        "    cursor.execute(quiz)\n",
        "    \n",
        "    conn.commit()\n",
        "    conn.close()"
      ],
      "metadata": {
        "id": "OVVFei9zzt68"
      },
      "execution_count": null,
      "outputs": []
    }
  ]
}