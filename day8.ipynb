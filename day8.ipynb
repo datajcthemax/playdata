{
  "nbformat": 4,
  "nbformat_minor": 0,
  "metadata": {
    "colab": {
      "provenance": [],
      "authorship_tag": "ABX9TyNA2dhuFGfM/GhSatLKTBaG",
      "include_colab_link": true
    },
    "kernelspec": {
      "name": "python3",
      "display_name": "Python 3"
    },
    "language_info": {
      "name": "python"
    }
  },
  "cells": [
    {
      "cell_type": "markdown",
      "metadata": {
        "id": "view-in-github",
        "colab_type": "text"
      },
      "source": [
        "<a href=\"https://colab.research.google.com/github/datajcthemax/playdata/blob/main/day8.ipynb\" target=\"_parent\"><img src=\"https://colab.research.google.com/assets/colab-badge.svg\" alt=\"Open In Colab\"/></a>"
      ]
    },
    {
      "cell_type": "code",
      "execution_count": null,
      "metadata": {
        "id": "dE9OxipQzd0Q"
      },
      "outputs": [],
      "source": []
    },
    {
      "cell_type": "markdown",
      "source": [
        "오늘의 목표\n",
        "\n",
        "\n",
        "*   DDL DML DCL\n",
        "*   api server 만들기\n",
        "\n",
        "\n",
        "*   DB를 이용하는 문제 입력, 풀기 서비스 개발\n",
        "*   병원관리 데이터 구성\n",
        "\n",
        "\n",
        "\n"
      ],
      "metadata": {
        "id": "9uMm58AOzgFJ"
      }
    },
    {
      "cell_type": "code",
      "source": [],
      "metadata": {
        "id": "OVVFei9zzt68"
      },
      "execution_count": null,
      "outputs": []
    }
  ]
}