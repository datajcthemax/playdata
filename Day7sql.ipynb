{
  "nbformat": 4,
  "nbformat_minor": 0,
  "metadata": {
    "colab": {
      "provenance": [],
      "authorship_tag": "ABX9TyP2nYS4AMf3cjHgofqZ7HmH",
      "include_colab_link": true
    },
    "kernelspec": {
      "name": "python3",
      "display_name": "Python 3"
    },
    "language_info": {
      "name": "python"
    }
  },
  "cells": [
    {
      "cell_type": "markdown",
      "metadata": {
        "id": "view-in-github",
        "colab_type": "text"
      },
      "source": [
        "<a href=\"https://colab.research.google.com/github/datajcthemax/playdata/blob/main/Day7sql.ipynb\" target=\"_parent\"><img src=\"https://colab.research.google.com/assets/colab-badge.svg\" alt=\"Open In Colab\"/></a>"
      ]
    },
    {
      "cell_type": "markdown",
      "source": [
        "DB연결변경\n",
        "\n",
        "입력,조회,수정,삭제 프로그램 완성\n",
        "\n",
        "\n",
        "Subquery, join, Function 공부\n",
        "\n",
        "MYSQL 접속정보\n",
        "192.168.90.119\n",
        "\n",
        "port 3306\n",
        "\n",
        "id : myname\n",
        "\n",
        "pw : 1234\n",
        "\n",
        "자기만의 테이블 만들기 CREATE TABLE lotto_numbers_자기이름 ( roundNum INT NOT NULL, num1 INT NOT NULL, num2 INT NOT NULL, num3 INT NOT NULL, num4 INT NOT NULL, num5 INT NOT NULL, num6 INT NOT NULL, bonus INT NOT NULL, PRIMARY KEY (roundNum) )"
      ],
      "metadata": {
        "id": "H1s8ROf1n9xR"
      }
    },
    {
      "cell_type": "code",
      "source": [
        "import requests\n",
        "import json\n",
        "\n",
        "\n",
        "\n",
        "\n",
        "#get api\n",
        "\n",
        "\n",
        "\n",
        "results = []\n",
        "\n",
        "for i in range(1, 3): #change the max number to 1062 later\n",
        "    url = f'https://www.dhlottery.co.kr/common.do?method=getLottoNumber&drwNo={i}'\n",
        "    response = requests.get(url)\n",
        "    json_data = response.json()\n",
        "    \n",
        "    # Extract relevant information\n",
        "    draw_number = json_data['drwNo']\n",
        "    winning_numbers = [json_data[f'drwtNo{i}'] for i in range(1, 7)]\n",
        "    bonus_number = json_data['bnusNo']\n",
        "    \n",
        "    # Append to results list\n",
        "    results.append({\n",
        "        'draw_number': draw_number,\n",
        "        'winning_numbers': winning_numbers,\n",
        "        'bonus_number': bonus_number\n",
        "    })\n",
        "\n",
        "print(results)\n",
        "\n",
        "\n"
      ],
      "metadata": {
        "id": "FLm-qdQ47PLV",
        "colab": {
          "base_uri": "https://localhost:8080/",
          "height": 384
        },
        "outputId": "1c50e692-f9f3-492d-f19a-be6d47ef9b4b"
      },
      "execution_count": null,
      "outputs": [
        {
          "output_type": "error",
          "ename": "ModuleNotFoundError",
          "evalue": "ignored",
          "traceback": [
            "\u001b[0;31m---------------------------------------------------------------------------\u001b[0m",
            "\u001b[0;31mModuleNotFoundError\u001b[0m                       Traceback (most recent call last)",
            "\u001b[0;32m<ipython-input-22-2d1e7e8836c9>\u001b[0m in \u001b[0;36m<cell line: 3>\u001b[0;34m()\u001b[0m\n\u001b[1;32m      1\u001b[0m \u001b[0;32mimport\u001b[0m \u001b[0mrequests\u001b[0m\u001b[0;34m\u001b[0m\u001b[0;34m\u001b[0m\u001b[0m\n\u001b[1;32m      2\u001b[0m \u001b[0;32mimport\u001b[0m \u001b[0mjson\u001b[0m\u001b[0;34m\u001b[0m\u001b[0;34m\u001b[0m\u001b[0m\n\u001b[0;32m----> 3\u001b[0;31m \u001b[0;32mfrom\u001b[0m \u001b[0mmysql\u001b[0m \u001b[0;32mimport\u001b[0m \u001b[0mconnector\u001b[0m\u001b[0;34m\u001b[0m\u001b[0;34m\u001b[0m\u001b[0m\n\u001b[0m\u001b[1;32m      4\u001b[0m \u001b[0;34m\u001b[0m\u001b[0m\n\u001b[1;32m      5\u001b[0m \u001b[0;34m\u001b[0m\u001b[0m\n",
            "\u001b[0;31mModuleNotFoundError\u001b[0m: No module named 'mysql'",
            "",
            "\u001b[0;31m---------------------------------------------------------------------------\u001b[0;32m\nNOTE: If your import is failing due to a missing package, you can\nmanually install dependencies using either !pip or !apt.\n\nTo view examples of installing some common dependencies, click the\n\"Open Examples\" button below.\n\u001b[0;31m---------------------------------------------------------------------------\u001b[0m\n"
          ],
          "errorDetails": {
            "actions": [
              {
                "action": "open_url",
                "actionText": "Open Examples",
                "url": "/notebooks/snippets/importing_libraries.ipynb"
              }
            ]
          }
        }
      ]
    },
    {
      "cell_type": "code",
      "source": [
        "import mysql.connector\n",
        "\n",
        "# Connect to the database\n",
        "cnx = mysql.connector.connect(\n",
        "  host=\"host\",\n",
        "  user=\"yourusername\",\n",
        "  password=\"yourpassword\",\n",
        "  database=\"yourdatabase\"\n",
        ")\n",
        "\n",
        "# Prepare the INSERT statement\n",
        "insert_stmt = (\"INSERT INTO lottery_results \"\n",
        "               \"(draw_number, winning_number_1, winning_number_2, winning_number_3, winning_number_4, winning_number_5, winning_number_6, bonus_number) \"\n",
        "               \"VALUES (%s, %s, %s, %s, %s, %s, %s, %s)\")\n",
        "\n",
        "# Insert the results into the table\n",
        "cursor = cnx.cursor()\n",
        "for result in results:\n",
        "    draw_number = result['draw_number']\n",
        "    winning_numbers = result['winning_numbers']\n",
        "    bonus_number = result['bonus_number']\n",
        "    \n",
        "    data = (draw_number, *winning_numbers, bonus_number)\n",
        "    cursor.execute(insert_stmt, data)\n",
        "\n",
        "# Commit changes and close connection\n",
        "cnx.commit()\n",
        "cursor.close()\n",
        "cnx.close()\n"
      ],
      "metadata": {
        "colab": {
          "base_uri": "https://localhost:8080/",
          "height": 384
        },
        "id": "9iKB32N3804Z",
        "outputId": "4ca8af12-8d28-43e0-80b3-69113b3b054b"
      },
      "execution_count": null,
      "outputs": [
        {
          "output_type": "error",
          "ename": "ModuleNotFoundError",
          "evalue": "ignored",
          "traceback": [
            "\u001b[0;31m---------------------------------------------------------------------------\u001b[0m",
            "\u001b[0;31mModuleNotFoundError\u001b[0m                       Traceback (most recent call last)",
            "\u001b[0;32m<ipython-input-24-0220ef8ddae2>\u001b[0m in \u001b[0;36m<cell line: 1>\u001b[0;34m()\u001b[0m\n\u001b[0;32m----> 1\u001b[0;31m \u001b[0;32mimport\u001b[0m \u001b[0mmysql\u001b[0m\u001b[0;34m.\u001b[0m\u001b[0mconnector\u001b[0m\u001b[0;34m\u001b[0m\u001b[0;34m\u001b[0m\u001b[0m\n\u001b[0m\u001b[1;32m      2\u001b[0m \u001b[0;34m\u001b[0m\u001b[0m\n\u001b[1;32m      3\u001b[0m \u001b[0;31m# Connect to the database\u001b[0m\u001b[0;34m\u001b[0m\u001b[0;34m\u001b[0m\u001b[0m\n\u001b[1;32m      4\u001b[0m cnx = mysql.connector.connect(\n\u001b[1;32m      5\u001b[0m   \u001b[0mhost\u001b[0m\u001b[0;34m=\u001b[0m\u001b[0;34m\"host\"\u001b[0m\u001b[0;34m,\u001b[0m\u001b[0;34m\u001b[0m\u001b[0;34m\u001b[0m\u001b[0m\n",
            "\u001b[0;31mModuleNotFoundError\u001b[0m: No module named 'mysql'",
            "",
            "\u001b[0;31m---------------------------------------------------------------------------\u001b[0;32m\nNOTE: If your import is failing due to a missing package, you can\nmanually install dependencies using either !pip or !apt.\n\nTo view examples of installing some common dependencies, click the\n\"Open Examples\" button below.\n\u001b[0;31m---------------------------------------------------------------------------\u001b[0m\n"
          ],
          "errorDetails": {
            "actions": [
              {
                "action": "open_url",
                "actionText": "Open Examples",
                "url": "/notebooks/snippets/importing_libraries.ipynb"
              }
            ]
          }
        }
      ]
    },
    {
      "cell_type": "code",
      "source": [],
      "metadata": {
        "id": "aGt3PbKnA3b9"
      },
      "execution_count": null,
      "outputs": []
    }
  ]
}