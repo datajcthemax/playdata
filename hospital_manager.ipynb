{
  "nbformat": 4,
  "nbformat_minor": 0,
  "metadata": {
    "colab": {
      "provenance": [],
      "include_colab_link": true
    },
    "kernelspec": {
      "name": "python3",
      "display_name": "Python 3"
    },
    "language_info": {
      "name": "python"
    }
  },
  "cells": [
    {
      "cell_type": "markdown",
      "metadata": {
        "id": "view-in-github",
        "colab_type": "text"
      },
      "source": [
        "<a href=\"https://colab.research.google.com/github/datajcthemax/playdata/blob/main/hospital_manager.ipynb\" target=\"_parent\"><img src=\"https://colab.research.google.com/assets/colab-badge.svg\" alt=\"Open In Colab\"/></a>"
      ]
    },
    {
      "cell_type": "code",
      "execution_count": null,
      "metadata": {
        "id": "hs0spUgclWva"
      },
      "outputs": [],
      "source": [
        "#환자클래스 만들기 - 준영\n",
        "#의사클래스 만들기 - 재호\n",
        "#증상클래스 만들기 - 지영"
      ]
    },
    {
      "cell_type": "code",
      "source": [
        "#의사 클래스\n",
        "\n",
        "symptoms = {\"감기\":[\"기침\",\"콧물\",\"열\"],\n",
        "            \"식중독\":[\"구토\",\"발진\",\"어지러움\"], #증상 딕셔너리 질병:['증상] 으로 저장\n",
        "            \"배탈\":[\"설사\",\"구토\",\"탈진\"]}\n",
        "\n",
        "prescriptions = {\"감기\":[\"a\",\"b\",\"c\"],\n",
        "            \"식중독\":[\"d\",\"e\",\"f\"], #처방 딕셔너리 질병:['처방약'] 으로 저장\n",
        "            \"배탈\":[\"h\",\"i\",\"j\"]\n",
        "    \n",
        "}\n",
        "\n",
        "class Doctor:\n",
        "  def __init__(self, profession):\n",
        "    self.profession = profession\n",
        "  \n",
        "  #진단 메서드-환자 증상 받기\n",
        "  def get_patient_symptom(*self):\n",
        "    symptom = [] #문자열로 이루어진 증상들을 담을 symptom리스트 생성\n",
        "    symptom.append(self) #비어 있는 symptom리스트에 .append()함수에 환자 증상들을 인자로 받아 저장함\n",
        "    symptom = [x for t in symptom for x in t] #위 코드를 돌리면 증상들이 리스트 안에 튜플로 저장되기때문에 리스트 컴프리헨션을 통해서 리스트로 변경\n",
        "    return symptom #환자의 증상들을 담은 리스트 symptom 완성\n",
        "  \n",
        "  #1. get_patient_symptom() 함수를 통해서 환자의 증상을 받아옴\n",
        "  def diagnosis(self):\n",
        "    symptoms = get_patient_symptom(self)\n",
        "    print(symptoms)\n",
        "      \n",
        "\n",
        "  def prescribe(self):\n",
        "    print('')#진단명을 받고 처방딕셔너리에서 해당 질병을 치료할수있는 \n",
        "    \n",
        "    \n",
        "    \n",
        "\n",
        "  \n",
        "    "
      ],
      "metadata": {
        "id": "69x6GzzAnKFz"
      },
      "execution_count": 23,
      "outputs": []
    },
    {
      "cell_type": "code",
      "source": [],
      "metadata": {
        "colab": {
          "base_uri": "https://localhost:8080/"
        },
        "id": "UG_-jYruKZ4f",
        "outputId": "5b835f5c-c02f-47c7-d938-5d40cbd2165e"
      },
      "execution_count": 25,
      "outputs": [
        {
          "output_type": "stream",
          "name": "stdout",
          "text": [
            "[<__main__.Doctor object at 0x7fed8c99f460>]\n",
            "None\n"
          ]
        }
      ]
    },
    {
      "cell_type": "code",
      "source": [
        "from IPython.utils.frame import debugx\n",
        "# 증상 클래스 \n",
        "\n",
        "class Prescription:\n",
        "  def __init__(self,client):\n",
        "    self.client = client # 환자 등록번호 \n",
        "\n",
        "  def Patient(self,name):\n",
        "    self.name = name\n",
        "\n",
        "  def Symptom(self, symptom):\n",
        "    self.symptom = symptom\n",
        "  \n",
        "  def Diagnosis(self, desease):\n",
        "    self.Diagnosis = desease\n",
        "\n",
        "  def DateOfDiagnosis(self, date):\n",
        "    self.date = date\n",
        "\n",
        "  def OpinionWithCaring(self, opinion):\n",
        "    self.opinion = opinion\n",
        "\n",
        "  def DateOf(self,day_of_hospitalization ,dischargeDate):\n",
        "    self.day_of_hospitalization = day_of_hospitalization\n",
        "    self.dischargeDate = dischargeDate\n",
        "\n",
        "  def Reference(self, reference ):\n",
        "    self.reference = reference\n",
        "\n",
        "\n"
      ],
      "metadata": {
        "id": "lKd48dp7vSbc"
      },
      "execution_count": null,
      "outputs": []
    }
  ]
}