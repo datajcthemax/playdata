{
  "nbformat": 4,
  "nbformat_minor": 0,
  "metadata": {
    "colab": {
      "provenance": [],
      "include_colab_link": true
    },
    "kernelspec": {
      "name": "python3",
      "display_name": "Python 3"
    },
    "language_info": {
      "name": "python"
    }
  },
  "cells": [
    {
      "cell_type": "markdown",
      "metadata": {
        "id": "view-in-github",
        "colab_type": "text"
      },
      "source": [
        "<a href=\"https://colab.research.google.com/github/datajcthemax/playdata/blob/main/hospital_manager.ipynb\" target=\"_parent\"><img src=\"https://colab.research.google.com/assets/colab-badge.svg\" alt=\"Open In Colab\"/></a>"
      ]
    },
    {
      "cell_type": "code",
      "execution_count": null,
      "metadata": {
        "id": "hs0spUgclWva"
      },
      "outputs": [],
      "source": [
        "#환자클래스 만들기 - 준영\n",
        "#의사클래스 만들기 - 재호\n",
        "#증상클래스 만들기 - 지영"
      ]
    },
    {
      "cell_type": "code",
      "source": [
        "#의사 클래스\n",
        "\n",
        "symptoms = {\"감기\":[\"기침\",\"콧물\",\"열\"],\n",
        "            \"식중독\":[\"구토\",\"발진\",\"어지러움\"], #증상 딕셔너리 질병:['증상] 으로 저장\n",
        "            \"배탈\":[\"설사\",\"구토\",\"탈진\"]}\n",
        "\n",
        "prescriptions = {\"감기\":[\"a\",\"b\",\"c\"],\n",
        "            \"식중독\":[\"d\",\"e\",\"f\"], #처방 딕셔너리 질병:['처방약'] 으로 저장\n",
        "            \"배탈\":[\"h\",\"i\",\"j\"]\n",
        "    \n",
        "}\n",
        "\n",
        "class Doctor:\n",
        "  def __init__(self, profession):\n",
        "    self.profession = profession\n",
        "  \n",
        "  #진단 메서드-환자 증상 받기\n",
        "  def get_patient_symptom(self):\n",
        "    symptom = input('어디가 아프세요?')\n",
        "    return symptom\n",
        "  \n",
        "  #환자 증상받고 증상 딕셔너리에서 \n",
        "  def diagnosis(self):\n",
        "    \bprint('')#환자 증상을 증상딕셔너리 발류와 비교하여 매칭되는게 있을경우 병명을 출력해서 진단을 내림\n",
        "      \n",
        "\n",
        "  def prescribe(self):\n",
        "    print('')#진단명을 받고 처방딕셔너리에서 해당 질병을 치료할수있는 \n",
        "    \n",
        "    \n",
        "    \n",
        "\n",
        "  \n",
        "    "
      ],
      "metadata": {
        "id": "69x6GzzAnKFz"
      },
      "execution_count": null,
      "outputs": []
    },
    {
      "cell_type": "code",
      "source": [
        "from IPython.utils.frame import debugx\n",
        "# 증상 클래스 \n",
        "\n",
        "class Prescription:\n",
        "  def __init__(self,client):\n",
        "    self.client = client # 환자 등록번호 \n",
        "\n",
        "  def Patient(self,name):\n",
        "    self.name = name\n",
        "\n",
        "  def Symptom(self, symptom):\n",
        "    self.symptom = symptom\n",
        "  \n",
        "  def Diagnosis(self, desease):\n",
        "    self.Diagnosis = desease\n",
        "\n",
        "  def DateOfDiagnosis(self, date):\n",
        "    self.date = date\n",
        "\n",
        "  def OpinionWithCaring(self, opinion):\n",
        "    self.opinion = opinion\n",
        "\n",
        "  def DateOf(self,day_of_hospitalization ,dischargeDate):\n",
        "    self.day_of_hospitalization = day_of_hospitalization\n",
        "    self.dischargeDate = dischargeDate\n",
        "\n",
        "  def Reference(self, reference ):\n",
        "    self.reference = reference\n",
        "\n",
        "\n"
      ],
      "metadata": {
        "id": "lKd48dp7vSbc"
      },
      "execution_count": null,
      "outputs": []
    }
  ]
}