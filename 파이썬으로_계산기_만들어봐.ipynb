{
  "cells": [
    {
      "cell_type": "markdown",
      "metadata": {
        "id": "view-in-github",
        "colab_type": "text"
      },
      "source": [
        "<a href=\"https://colab.research.google.com/github/datajcthemax/playdata/blob/main/%ED%8C%8C%EC%9D%B4%EC%8D%AC%EC%9C%BC%EB%A1%9C_%EA%B3%84%EC%82%B0%EA%B8%B0_%EB%A7%8C%EB%93%A4%EC%96%B4%EB%B4%90.ipynb\" target=\"_parent\"><img src=\"https://colab.research.google.com/assets/colab-badge.svg\" alt=\"Open In Colab\"/></a>"
      ]
    },
    {
      "cell_type": "markdown",
      "source": [
        "다음은 파이썬으로 만든 간단한 계산기입니다."
      ],
      "metadata": {
        "id": "cuOMWVAJ0ERP"
      }
    },
    {
      "cell_type": "code",
      "source": [
        "def add(a, b):\n",
        "    return a + b\n",
        "\n",
        "def subtract(a, b):\n",
        "    return a - b\n",
        "\n",
        "def multiply(a, b):\n",
        "    return a * b\n",
        "\n",
        "def divide(a, b):\n",
        "    return a / b\n",
        "\n",
        "print(\"What would you like to do?\")\n",
        "print(\"1. Add\")\n",
        "print(\"2. Subtract\")\n",
        "print(\"3. Multiply\")\n",
        "print(\"4. Divide\")\n",
        "\n",
        "while True:\n",
        "    operation = input(\"Select operation(1/2/3/4): \")\n",
        "\n",
        "    if operation in ('1', '2', '3', '4'):\n",
        "        try:\n",
        "            num_1 = float(input(\"Enter 1st number: \"))\n",
        "            num_2 = float(input(\"Enter 2nd number: \"))\n",
        "        except ValueError:\n",
        "            print(\"Invalid input. Please enter a valid number.\")\n",
        "            continue\n",
        "\n",
        "        if operation == '1':\n",
        "            print(num_1, \"+\", num_2, \"=\", add(num_1, num_2))\n",
        "\n",
        "        elif operation == '2':\n",
        "            print(num_1, \"-\", num_2, \"=\", subtract(num_1, num_2))\n",
        "\n",
        "        elif operation == '3':\n",
        "            print(num_1, \"*\", num_2, \"=\", multiply(num_1, num_2))\n",
        "\n",
        "        elif operation == '4':\n",
        "            print(num_1, \"/\", num_2, \"=\", divide(num_1, num_2))\n",
        "\n",
        "        next_calculation = input(\"Continue calculation? (Y/N): \")\n",
        "        if next_calculation == \"N\":\n",
        "          break\n",
        "    else:\n",
        "        print(\"Invalid input!\")"
      ],
      "outputs": [],
      "execution_count": null,
      "metadata": {
        "id": "XbHp8p5t0ERT"
      }
    },
    {
      "cell_type": "markdown",
      "source": [
        "이 코드는 두 숫자를 입력받아 사용자가 지정한 연산을 수행합니다. 지원되는 연산은 덧셈, 뺄셈, 곱셈 및 나눗셈입니다."
      ],
      "metadata": {
        "id": "9GbbY2yk0ERV"
      }
    }
  ],
  "metadata": {
    "colab": {
      "provenance": [],
      "include_colab_link": true
    },
    "kernelspec": {
      "display_name": "Python 3",
      "name": "python3"
    }
  },
  "nbformat": 4,
  "nbformat_minor": 0
}