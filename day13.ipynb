{
  "nbformat": 4,
  "nbformat_minor": 0,
  "metadata": {
    "colab": {
      "provenance": [],
      "include_colab_link": true
    },
    "kernelspec": {
      "name": "python3",
      "display_name": "Python 3"
    },
    "language_info": {
      "name": "python"
    }
  },
  "cells": [
    {
      "cell_type": "markdown",
      "metadata": {
        "id": "view-in-github",
        "colab_type": "text"
      },
      "source": [
        "<a href=\"https://colab.research.google.com/github/datajcthemax/playdata/blob/main/day13.ipynb\" target=\"_parent\"><img src=\"https://colab.research.google.com/assets/colab-badge.svg\" alt=\"Open In Colab\"/></a>"
      ]
    },
    {
      "cell_type": "markdown",
      "source": [
        "# 13번째 이야기\n",
        "## 탐색적 데이터 분석 (EDA)\n",
        "- 탐색적 데이터 분석의 모든것\n",
        "- 그래프 그리기\n",
        "- 여러 데이터로 EDA 실습\n",
        "- 내일 오전중에 팀명/팀장/주제 정리하고 멤버별 역할 알려주세요"
      ],
      "metadata": {
        "id": "IKtxLlH3uSyj"
      }
    },
    {
      "cell_type": "code",
      "execution_count": null,
      "metadata": {
        "id": "A1WCZjMjuQET"
      },
      "outputs": [],
      "source": []
    }
  ]
}