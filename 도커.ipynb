{
  "nbformat": 4,
  "nbformat_minor": 0,
  "metadata": {
    "colab": {
      "provenance": [],
      "authorship_tag": "ABX9TyP7hOY5+JC8Vw38OPlyU0dV",
      "include_colab_link": true
    },
    "kernelspec": {
      "name": "python3",
      "display_name": "Python 3"
    },
    "language_info": {
      "name": "python"
    }
  },
  "cells": [
    {
      "cell_type": "markdown",
      "metadata": {
        "id": "view-in-github",
        "colab_type": "text"
      },
      "source": [
        "<a href=\"https://colab.research.google.com/github/datajcthemax/playdata/blob/main/%EB%8F%84%EC%BB%A4.ipynb\" target=\"_parent\"><img src=\"https://colab.research.google.com/assets/colab-badge.svg\" alt=\"Open In Colab\"/></a>"
      ]
    },
    {
      "cell_type": "markdown",
      "source": [
        "1. d-mario24라는 가상의 회사에 팀 루이지 깃헙에 초대 받고 다른 사람 초대하기\n",
        "2. 루이지팀에서 사용하는 로컬 개발환경 맞추기 ex: omyzsh, agnoster 테마 사용 등등\n",
        "3. https://onestone-dev.tistory.com/63 맥 사용 시 이사이트 참조. figlet 설치안됨\n",
        "4. 리눅스 커맨드 복습: ssh scp, cat, grep, cut, >, >>, cron, vi\n",
        "5. docker는 애플리케이션을 신속하게 구추, 테스트 및 배포할 수 있는 소프트웨어 플랫폼입니다.\n",
        "\n"
      ],
      "metadata": {
        "id": "hhFGY8MJ_C57"
      }
    },
    {
      "cell_type": "code",
      "execution_count": null,
      "metadata": {
        "id": "rLw3qH91-xHg"
      },
      "outputs": [],
      "source": [
        "\n"
      ]
    }
  ]
}