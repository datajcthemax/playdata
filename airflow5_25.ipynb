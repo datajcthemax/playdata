{
  "nbformat": 4,
  "nbformat_minor": 0,
  "metadata": {
    "colab": {
      "provenance": [],
      "authorship_tag": "ABX9TyMcRqVQlQZJjPfPsIrVe7PZ",
      "include_colab_link": true
    },
    "kernelspec": {
      "name": "python3",
      "display_name": "Python 3"
    },
    "language_info": {
      "name": "python"
    }
  },
  "cells": [
    {
      "cell_type": "markdown",
      "metadata": {
        "id": "view-in-github",
        "colab_type": "text"
      },
      "source": [
        "<a href=\"https://colab.research.google.com/github/datajcthemax/playdata/blob/main/airflow5_25.ipynb\" target=\"_parent\"><img src=\"https://colab.research.google.com/assets/colab-badge.svg\" alt=\"Open In Colab\"/></a>"
      ]
    },
    {
      "cell_type": "code",
      "execution_count": null,
      "metadata": {
        "id": "2_J8a2zWO0aC"
      },
      "outputs": [],
      "source": [
        "from airflow import DAG\n",
        "from airflow.operators.bash_operator import BashOperator\n",
        "from airflow.utils.trigger_rule import TriggerRule\n",
        "from datetime import datetime, timedelta\n",
        "\n",
        "default_args = {\n",
        "Expand All\n",
        "\t@@ -15,13 +16,14 @@\n",
        "    schedule_interval='*/5 * * * *',\n",
        ")\n",
        "\n",
        "# Task 1: Copy web.log from pd24 to local environment\n",
        "copy_web_log_task = BashOperator(\n",
        "    task_id='copy_web_log',\n",
        "    bash_command=\"\"\"\n",
        "    aws s3 cp s3://pd24/web.log /opt/airflow/dags/\n",
        "    \"\"\",\n",
        "    retries=3,\n",
        "    retry_delay=timedelta(minutes=1),\n",
        "    dag=dag\n",
        ")\n",
        "\n",
        "Expand All\n",
        "\t@@ -33,10 +35,12 @@\n",
        "    sort /opt/airflow/dags/RAW.log | uniq -c > /opt/airflow/dags/SUM.log\n",
        "    touch /opt/airflow/dags/DONE\n",
        "    \"\"\",\n",
        "    retries=2,\n",
        "    retry_delay=timedelta(minutes=5),\n",
        "    trigger_rule=TriggerRule.ONE_SUCCESS,\n",
        "    dag=dag\n",
        ")\n",
        "\n",
        "# Task 3: Send RAW.log, SUM.log, and DONE flag to jai folder in pd24\n",
        "send_logs_task = BashOperator(\n",
        "    task_id='send_logs',\n",
        "Expand All\n",
        "\t@@ -45,10 +49,13 @@\n",
        "    aws s3 cp /opt/airflow/dags/SUM.log s3://pd24/savedata/jai/SUM.log\n",
        "    aws s3api put-object --bucket pd24 --key savedata/jai/DONE\n",
        "    \"\"\",\n",
        "    retries=1,\n",
        "    retry_delay=timedelta(minutes=10),\n",
        "    trigger_rule=TriggerRule.ALL_SUCCESS,\n",
        "    dag=dag\n",
        ")\n",
        "\n",
        "# Set task dependencies\n",
        "copy_web_log_task >> create_logs_task >> send_logs_task"
      ]
    }
  ]
}