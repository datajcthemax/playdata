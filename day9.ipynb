{
  "nbformat": 4,
  "nbformat_minor": 0,
  "metadata": {
    "colab": {
      "provenance": [],
      "authorship_tag": "ABX9TyNhL0AdAnY698aDEIDWeiSo",
      "include_colab_link": true
    },
    "kernelspec": {
      "name": "python3",
      "display_name": "Python 3"
    },
    "language_info": {
      "name": "python"
    }
  },
  "cells": [
    {
      "cell_type": "markdown",
      "metadata": {
        "id": "view-in-github",
        "colab_type": "text"
      },
      "source": [
        "<a href=\"https://colab.research.google.com/github/datajcthemax/playdata/blob/main/day9.ipynb\" target=\"_parent\"><img src=\"https://colab.research.google.com/assets/colab-badge.svg\" alt=\"Open In Colab\"/></a>"
      ]
    },
    {
      "cell_type": "markdown",
      "source": [
        "오늘의 미션\n",
        "1. Numpy 배열 기초\n",
        "2. Numpy 연습\n",
        "3. Numpy 활용\n",
        "\n",
        "\n"
      ],
      "metadata": {
        "id": "f4h-RIA38C-E"
      }
    },
    {
      "cell_type": "code",
      "source": [],
      "metadata": {
        "id": "tt3fS1TA-LoQ"
      },
      "execution_count": null,
      "outputs": []
    }
  ]
}