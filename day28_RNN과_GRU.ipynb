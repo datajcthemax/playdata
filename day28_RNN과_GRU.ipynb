{
  "nbformat": 4,
  "nbformat_minor": 0,
  "metadata": {
    "colab": {
      "provenance": [],
      "include_colab_link": true
    },
    "kernelspec": {
      "name": "python3",
      "display_name": "Python 3"
    },
    "language_info": {
      "name": "python"
    },
    "widgets": {
      "application/vnd.jupyter.widget-state+json": {
        "1c94bb70c0de440bb59800a776452d1a": {
          "model_module": "@jupyter-widgets/controls",
          "model_name": "HBoxModel",
          "model_module_version": "1.5.0",
          "state": {
            "_dom_classes": [],
            "_model_module": "@jupyter-widgets/controls",
            "_model_module_version": "1.5.0",
            "_model_name": "HBoxModel",
            "_view_count": null,
            "_view_module": "@jupyter-widgets/controls",
            "_view_module_version": "1.5.0",
            "_view_name": "HBoxView",
            "box_style": "",
            "children": [
              "IPY_MODEL_3570e12deb2b4472ab55d5794baf9a66",
              "IPY_MODEL_377f99facbf446b78a5b9b5edfd93463",
              "IPY_MODEL_57dce07a9e9c49c1a62b6e31fc61887b"
            ],
            "layout": "IPY_MODEL_186c36b3493646f09e93bf92a817ed2c"
          }
        },
        "3570e12deb2b4472ab55d5794baf9a66": {
          "model_module": "@jupyter-widgets/controls",
          "model_name": "HTMLModel",
          "model_module_version": "1.5.0",
          "state": {
            "_dom_classes": [],
            "_model_module": "@jupyter-widgets/controls",
            "_model_module_version": "1.5.0",
            "_model_name": "HTMLModel",
            "_view_count": null,
            "_view_module": "@jupyter-widgets/controls",
            "_view_module_version": "1.5.0",
            "_view_name": "HTMLView",
            "description": "",
            "description_tooltip": null,
            "layout": "IPY_MODEL_d9b8fb8da08241abaef25353800cd78a",
            "placeholder": "​",
            "style": "IPY_MODEL_be4c497c139e4bac85eed321a280905d",
            "value": "100%"
          }
        },
        "377f99facbf446b78a5b9b5edfd93463": {
          "model_module": "@jupyter-widgets/controls",
          "model_name": "FloatProgressModel",
          "model_module_version": "1.5.0",
          "state": {
            "_dom_classes": [],
            "_model_module": "@jupyter-widgets/controls",
            "_model_module_version": "1.5.0",
            "_model_name": "FloatProgressModel",
            "_view_count": null,
            "_view_module": "@jupyter-widgets/controls",
            "_view_module_version": "1.5.0",
            "_view_name": "ProgressView",
            "bar_style": "success",
            "description": "",
            "description_tooltip": null,
            "layout": "IPY_MODEL_bf95d01aadbb4c77b1fe3635121537b9",
            "max": 100,
            "min": 0,
            "orientation": "horizontal",
            "style": "IPY_MODEL_ae396bcc8df648e3a4e7889deeadf197",
            "value": 100
          }
        },
        "57dce07a9e9c49c1a62b6e31fc61887b": {
          "model_module": "@jupyter-widgets/controls",
          "model_name": "HTMLModel",
          "model_module_version": "1.5.0",
          "state": {
            "_dom_classes": [],
            "_model_module": "@jupyter-widgets/controls",
            "_model_module_version": "1.5.0",
            "_model_name": "HTMLModel",
            "_view_count": null,
            "_view_module": "@jupyter-widgets/controls",
            "_view_module_version": "1.5.0",
            "_view_name": "HTMLView",
            "description": "",
            "description_tooltip": null,
            "layout": "IPY_MODEL_bd9451f2c77e4e9ab476851b326d9e32",
            "placeholder": "​",
            "style": "IPY_MODEL_22fa06b9ea844fe5b6ea75b078b775a0",
            "value": " 100/100 [03:06&lt;00:00,  1.80s/it]"
          }
        },
        "186c36b3493646f09e93bf92a817ed2c": {
          "model_module": "@jupyter-widgets/base",
          "model_name": "LayoutModel",
          "model_module_version": "1.2.0",
          "state": {
            "_model_module": "@jupyter-widgets/base",
            "_model_module_version": "1.2.0",
            "_model_name": "LayoutModel",
            "_view_count": null,
            "_view_module": "@jupyter-widgets/base",
            "_view_module_version": "1.2.0",
            "_view_name": "LayoutView",
            "align_content": null,
            "align_items": null,
            "align_self": null,
            "border": null,
            "bottom": null,
            "display": null,
            "flex": null,
            "flex_flow": null,
            "grid_area": null,
            "grid_auto_columns": null,
            "grid_auto_flow": null,
            "grid_auto_rows": null,
            "grid_column": null,
            "grid_gap": null,
            "grid_row": null,
            "grid_template_areas": null,
            "grid_template_columns": null,
            "grid_template_rows": null,
            "height": null,
            "justify_content": null,
            "justify_items": null,
            "left": null,
            "margin": null,
            "max_height": null,
            "max_width": null,
            "min_height": null,
            "min_width": null,
            "object_fit": null,
            "object_position": null,
            "order": null,
            "overflow": null,
            "overflow_x": null,
            "overflow_y": null,
            "padding": null,
            "right": null,
            "top": null,
            "visibility": null,
            "width": null
          }
        },
        "d9b8fb8da08241abaef25353800cd78a": {
          "model_module": "@jupyter-widgets/base",
          "model_name": "LayoutModel",
          "model_module_version": "1.2.0",
          "state": {
            "_model_module": "@jupyter-widgets/base",
            "_model_module_version": "1.2.0",
            "_model_name": "LayoutModel",
            "_view_count": null,
            "_view_module": "@jupyter-widgets/base",
            "_view_module_version": "1.2.0",
            "_view_name": "LayoutView",
            "align_content": null,
            "align_items": null,
            "align_self": null,
            "border": null,
            "bottom": null,
            "display": null,
            "flex": null,
            "flex_flow": null,
            "grid_area": null,
            "grid_auto_columns": null,
            "grid_auto_flow": null,
            "grid_auto_rows": null,
            "grid_column": null,
            "grid_gap": null,
            "grid_row": null,
            "grid_template_areas": null,
            "grid_template_columns": null,
            "grid_template_rows": null,
            "height": null,
            "justify_content": null,
            "justify_items": null,
            "left": null,
            "margin": null,
            "max_height": null,
            "max_width": null,
            "min_height": null,
            "min_width": null,
            "object_fit": null,
            "object_position": null,
            "order": null,
            "overflow": null,
            "overflow_x": null,
            "overflow_y": null,
            "padding": null,
            "right": null,
            "top": null,
            "visibility": null,
            "width": null
          }
        },
        "be4c497c139e4bac85eed321a280905d": {
          "model_module": "@jupyter-widgets/controls",
          "model_name": "DescriptionStyleModel",
          "model_module_version": "1.5.0",
          "state": {
            "_model_module": "@jupyter-widgets/controls",
            "_model_module_version": "1.5.0",
            "_model_name": "DescriptionStyleModel",
            "_view_count": null,
            "_view_module": "@jupyter-widgets/base",
            "_view_module_version": "1.2.0",
            "_view_name": "StyleView",
            "description_width": ""
          }
        },
        "bf95d01aadbb4c77b1fe3635121537b9": {
          "model_module": "@jupyter-widgets/base",
          "model_name": "LayoutModel",
          "model_module_version": "1.2.0",
          "state": {
            "_model_module": "@jupyter-widgets/base",
            "_model_module_version": "1.2.0",
            "_model_name": "LayoutModel",
            "_view_count": null,
            "_view_module": "@jupyter-widgets/base",
            "_view_module_version": "1.2.0",
            "_view_name": "LayoutView",
            "align_content": null,
            "align_items": null,
            "align_self": null,
            "border": null,
            "bottom": null,
            "display": null,
            "flex": null,
            "flex_flow": null,
            "grid_area": null,
            "grid_auto_columns": null,
            "grid_auto_flow": null,
            "grid_auto_rows": null,
            "grid_column": null,
            "grid_gap": null,
            "grid_row": null,
            "grid_template_areas": null,
            "grid_template_columns": null,
            "grid_template_rows": null,
            "height": null,
            "justify_content": null,
            "justify_items": null,
            "left": null,
            "margin": null,
            "max_height": null,
            "max_width": null,
            "min_height": null,
            "min_width": null,
            "object_fit": null,
            "object_position": null,
            "order": null,
            "overflow": null,
            "overflow_x": null,
            "overflow_y": null,
            "padding": null,
            "right": null,
            "top": null,
            "visibility": null,
            "width": null
          }
        },
        "ae396bcc8df648e3a4e7889deeadf197": {
          "model_module": "@jupyter-widgets/controls",
          "model_name": "ProgressStyleModel",
          "model_module_version": "1.5.0",
          "state": {
            "_model_module": "@jupyter-widgets/controls",
            "_model_module_version": "1.5.0",
            "_model_name": "ProgressStyleModel",
            "_view_count": null,
            "_view_module": "@jupyter-widgets/base",
            "_view_module_version": "1.2.0",
            "_view_name": "StyleView",
            "bar_color": null,
            "description_width": ""
          }
        },
        "bd9451f2c77e4e9ab476851b326d9e32": {
          "model_module": "@jupyter-widgets/base",
          "model_name": "LayoutModel",
          "model_module_version": "1.2.0",
          "state": {
            "_model_module": "@jupyter-widgets/base",
            "_model_module_version": "1.2.0",
            "_model_name": "LayoutModel",
            "_view_count": null,
            "_view_module": "@jupyter-widgets/base",
            "_view_module_version": "1.2.0",
            "_view_name": "LayoutView",
            "align_content": null,
            "align_items": null,
            "align_self": null,
            "border": null,
            "bottom": null,
            "display": null,
            "flex": null,
            "flex_flow": null,
            "grid_area": null,
            "grid_auto_columns": null,
            "grid_auto_flow": null,
            "grid_auto_rows": null,
            "grid_column": null,
            "grid_gap": null,
            "grid_row": null,
            "grid_template_areas": null,
            "grid_template_columns": null,
            "grid_template_rows": null,
            "height": null,
            "justify_content": null,
            "justify_items": null,
            "left": null,
            "margin": null,
            "max_height": null,
            "max_width": null,
            "min_height": null,
            "min_width": null,
            "object_fit": null,
            "object_position": null,
            "order": null,
            "overflow": null,
            "overflow_x": null,
            "overflow_y": null,
            "padding": null,
            "right": null,
            "top": null,
            "visibility": null,
            "width": null
          }
        },
        "22fa06b9ea844fe5b6ea75b078b775a0": {
          "model_module": "@jupyter-widgets/controls",
          "model_name": "DescriptionStyleModel",
          "model_module_version": "1.5.0",
          "state": {
            "_model_module": "@jupyter-widgets/controls",
            "_model_module_version": "1.5.0",
            "_model_name": "DescriptionStyleModel",
            "_view_count": null,
            "_view_module": "@jupyter-widgets/base",
            "_view_module_version": "1.2.0",
            "_view_name": "StyleView",
            "description_width": ""
          }
        },
        "d325e2bc29964c71a6c2b2ae36e92966": {
          "model_module": "@jupyter-widgets/controls",
          "model_name": "HBoxModel",
          "model_module_version": "1.5.0",
          "state": {
            "_dom_classes": [],
            "_model_module": "@jupyter-widgets/controls",
            "_model_module_version": "1.5.0",
            "_model_name": "HBoxModel",
            "_view_count": null,
            "_view_module": "@jupyter-widgets/controls",
            "_view_module_version": "1.5.0",
            "_view_name": "HBoxView",
            "box_style": "",
            "children": [
              "IPY_MODEL_c0d305746ee244e29bd17a2f36b0336e",
              "IPY_MODEL_0118ba46ef394074be86a2e8ea6b93d0",
              "IPY_MODEL_a3d28e54c3b74f14b4e2d435177a931e"
            ],
            "layout": "IPY_MODEL_003250103779423fa39988c720333619"
          }
        },
        "c0d305746ee244e29bd17a2f36b0336e": {
          "model_module": "@jupyter-widgets/controls",
          "model_name": "HTMLModel",
          "model_module_version": "1.5.0",
          "state": {
            "_dom_classes": [],
            "_model_module": "@jupyter-widgets/controls",
            "_model_module_version": "1.5.0",
            "_model_name": "HTMLModel",
            "_view_count": null,
            "_view_module": "@jupyter-widgets/controls",
            "_view_module_version": "1.5.0",
            "_view_name": "HTMLView",
            "description": "",
            "description_tooltip": null,
            "layout": "IPY_MODEL_0d84a2f472db4ec880602cd459ee1e47",
            "placeholder": "​",
            "style": "IPY_MODEL_e2090d78eb024a319ab2eeca05dd8fd2",
            "value": "100%"
          }
        },
        "0118ba46ef394074be86a2e8ea6b93d0": {
          "model_module": "@jupyter-widgets/controls",
          "model_name": "FloatProgressModel",
          "model_module_version": "1.5.0",
          "state": {
            "_dom_classes": [],
            "_model_module": "@jupyter-widgets/controls",
            "_model_module_version": "1.5.0",
            "_model_name": "FloatProgressModel",
            "_view_count": null,
            "_view_module": "@jupyter-widgets/controls",
            "_view_module_version": "1.5.0",
            "_view_name": "ProgressView",
            "bar_style": "success",
            "description": "",
            "description_tooltip": null,
            "layout": "IPY_MODEL_4fba7982ed3c45388a0a57867cd1e0da",
            "max": 100,
            "min": 0,
            "orientation": "horizontal",
            "style": "IPY_MODEL_9fd92a09802e4deea9111fbd7545a052",
            "value": 100
          }
        },
        "a3d28e54c3b74f14b4e2d435177a931e": {
          "model_module": "@jupyter-widgets/controls",
          "model_name": "HTMLModel",
          "model_module_version": "1.5.0",
          "state": {
            "_dom_classes": [],
            "_model_module": "@jupyter-widgets/controls",
            "_model_module_version": "1.5.0",
            "_model_name": "HTMLModel",
            "_view_count": null,
            "_view_module": "@jupyter-widgets/controls",
            "_view_module_version": "1.5.0",
            "_view_name": "HTMLView",
            "description": "",
            "description_tooltip": null,
            "layout": "IPY_MODEL_7dc5742332f34d6d9609fb9bc816b4df",
            "placeholder": "​",
            "style": "IPY_MODEL_d5b9480efb174a3387fe495cd8de63c6",
            "value": " 100/100 [03:49&lt;00:00,  2.28s/it]"
          }
        },
        "003250103779423fa39988c720333619": {
          "model_module": "@jupyter-widgets/base",
          "model_name": "LayoutModel",
          "model_module_version": "1.2.0",
          "state": {
            "_model_module": "@jupyter-widgets/base",
            "_model_module_version": "1.2.0",
            "_model_name": "LayoutModel",
            "_view_count": null,
            "_view_module": "@jupyter-widgets/base",
            "_view_module_version": "1.2.0",
            "_view_name": "LayoutView",
            "align_content": null,
            "align_items": null,
            "align_self": null,
            "border": null,
            "bottom": null,
            "display": null,
            "flex": null,
            "flex_flow": null,
            "grid_area": null,
            "grid_auto_columns": null,
            "grid_auto_flow": null,
            "grid_auto_rows": null,
            "grid_column": null,
            "grid_gap": null,
            "grid_row": null,
            "grid_template_areas": null,
            "grid_template_columns": null,
            "grid_template_rows": null,
            "height": null,
            "justify_content": null,
            "justify_items": null,
            "left": null,
            "margin": null,
            "max_height": null,
            "max_width": null,
            "min_height": null,
            "min_width": null,
            "object_fit": null,
            "object_position": null,
            "order": null,
            "overflow": null,
            "overflow_x": null,
            "overflow_y": null,
            "padding": null,
            "right": null,
            "top": null,
            "visibility": null,
            "width": null
          }
        },
        "0d84a2f472db4ec880602cd459ee1e47": {
          "model_module": "@jupyter-widgets/base",
          "model_name": "LayoutModel",
          "model_module_version": "1.2.0",
          "state": {
            "_model_module": "@jupyter-widgets/base",
            "_model_module_version": "1.2.0",
            "_model_name": "LayoutModel",
            "_view_count": null,
            "_view_module": "@jupyter-widgets/base",
            "_view_module_version": "1.2.0",
            "_view_name": "LayoutView",
            "align_content": null,
            "align_items": null,
            "align_self": null,
            "border": null,
            "bottom": null,
            "display": null,
            "flex": null,
            "flex_flow": null,
            "grid_area": null,
            "grid_auto_columns": null,
            "grid_auto_flow": null,
            "grid_auto_rows": null,
            "grid_column": null,
            "grid_gap": null,
            "grid_row": null,
            "grid_template_areas": null,
            "grid_template_columns": null,
            "grid_template_rows": null,
            "height": null,
            "justify_content": null,
            "justify_items": null,
            "left": null,
            "margin": null,
            "max_height": null,
            "max_width": null,
            "min_height": null,
            "min_width": null,
            "object_fit": null,
            "object_position": null,
            "order": null,
            "overflow": null,
            "overflow_x": null,
            "overflow_y": null,
            "padding": null,
            "right": null,
            "top": null,
            "visibility": null,
            "width": null
          }
        },
        "e2090d78eb024a319ab2eeca05dd8fd2": {
          "model_module": "@jupyter-widgets/controls",
          "model_name": "DescriptionStyleModel",
          "model_module_version": "1.5.0",
          "state": {
            "_model_module": "@jupyter-widgets/controls",
            "_model_module_version": "1.5.0",
            "_model_name": "DescriptionStyleModel",
            "_view_count": null,
            "_view_module": "@jupyter-widgets/base",
            "_view_module_version": "1.2.0",
            "_view_name": "StyleView",
            "description_width": ""
          }
        },
        "4fba7982ed3c45388a0a57867cd1e0da": {
          "model_module": "@jupyter-widgets/base",
          "model_name": "LayoutModel",
          "model_module_version": "1.2.0",
          "state": {
            "_model_module": "@jupyter-widgets/base",
            "_model_module_version": "1.2.0",
            "_model_name": "LayoutModel",
            "_view_count": null,
            "_view_module": "@jupyter-widgets/base",
            "_view_module_version": "1.2.0",
            "_view_name": "LayoutView",
            "align_content": null,
            "align_items": null,
            "align_self": null,
            "border": null,
            "bottom": null,
            "display": null,
            "flex": null,
            "flex_flow": null,
            "grid_area": null,
            "grid_auto_columns": null,
            "grid_auto_flow": null,
            "grid_auto_rows": null,
            "grid_column": null,
            "grid_gap": null,
            "grid_row": null,
            "grid_template_areas": null,
            "grid_template_columns": null,
            "grid_template_rows": null,
            "height": null,
            "justify_content": null,
            "justify_items": null,
            "left": null,
            "margin": null,
            "max_height": null,
            "max_width": null,
            "min_height": null,
            "min_width": null,
            "object_fit": null,
            "object_position": null,
            "order": null,
            "overflow": null,
            "overflow_x": null,
            "overflow_y": null,
            "padding": null,
            "right": null,
            "top": null,
            "visibility": null,
            "width": null
          }
        },
        "9fd92a09802e4deea9111fbd7545a052": {
          "model_module": "@jupyter-widgets/controls",
          "model_name": "ProgressStyleModel",
          "model_module_version": "1.5.0",
          "state": {
            "_model_module": "@jupyter-widgets/controls",
            "_model_module_version": "1.5.0",
            "_model_name": "ProgressStyleModel",
            "_view_count": null,
            "_view_module": "@jupyter-widgets/base",
            "_view_module_version": "1.2.0",
            "_view_name": "StyleView",
            "bar_color": null,
            "description_width": ""
          }
        },
        "7dc5742332f34d6d9609fb9bc816b4df": {
          "model_module": "@jupyter-widgets/base",
          "model_name": "LayoutModel",
          "model_module_version": "1.2.0",
          "state": {
            "_model_module": "@jupyter-widgets/base",
            "_model_module_version": "1.2.0",
            "_model_name": "LayoutModel",
            "_view_count": null,
            "_view_module": "@jupyter-widgets/base",
            "_view_module_version": "1.2.0",
            "_view_name": "LayoutView",
            "align_content": null,
            "align_items": null,
            "align_self": null,
            "border": null,
            "bottom": null,
            "display": null,
            "flex": null,
            "flex_flow": null,
            "grid_area": null,
            "grid_auto_columns": null,
            "grid_auto_flow": null,
            "grid_auto_rows": null,
            "grid_column": null,
            "grid_gap": null,
            "grid_row": null,
            "grid_template_areas": null,
            "grid_template_columns": null,
            "grid_template_rows": null,
            "height": null,
            "justify_content": null,
            "justify_items": null,
            "left": null,
            "margin": null,
            "max_height": null,
            "max_width": null,
            "min_height": null,
            "min_width": null,
            "object_fit": null,
            "object_position": null,
            "order": null,
            "overflow": null,
            "overflow_x": null,
            "overflow_y": null,
            "padding": null,
            "right": null,
            "top": null,
            "visibility": null,
            "width": null
          }
        },
        "d5b9480efb174a3387fe495cd8de63c6": {
          "model_module": "@jupyter-widgets/controls",
          "model_name": "DescriptionStyleModel",
          "model_module_version": "1.5.0",
          "state": {
            "_model_module": "@jupyter-widgets/controls",
            "_model_module_version": "1.5.0",
            "_model_name": "DescriptionStyleModel",
            "_view_count": null,
            "_view_module": "@jupyter-widgets/base",
            "_view_module_version": "1.2.0",
            "_view_name": "StyleView",
            "description_width": ""
          }
        }
      }
    }
  },
  "cells": [
    {
      "cell_type": "markdown",
      "metadata": {
        "id": "view-in-github",
        "colab_type": "text"
      },
      "source": [
        "<a href=\"https://colab.research.google.com/github/datajcthemax/playdata/blob/main/day28_RNN%EA%B3%BC_GRU.ipynb\" target=\"_parent\"><img src=\"https://colab.research.google.com/assets/colab-badge.svg\" alt=\"Open In Colab\"/></a>"
      ]
    },
    {
      "cell_type": "markdown",
      "source": [
        "# 28번째 이야기\n",
        "- 순환신경망 RNN과 GRU"
      ],
      "metadata": {
        "id": "SFC-Fu9P-OkZ"
      }
    },
    {
      "cell_type": "code",
      "execution_count": null,
      "metadata": {
        "id": "npcREKFR99Mw"
      },
      "outputs": [],
      "source": [
        "import torch\n",
        "import torch.nn as nn\n",
        "import numpy as np\n",
        "import matplotlib.pyplot as plt"
      ]
    },
    {
      "cell_type": "code",
      "source": [
        "# data 구성\n",
        "# 모델\n",
        "# 학습\n",
        "# 평가"
      ],
      "metadata": {
        "id": "D-t3lRtlYedH"
      },
      "execution_count": null,
      "outputs": []
    },
    {
      "cell_type": "code",
      "source": [
        "# 데이터 생성\n",
        "def generate_data(seq_length = 1000):\n",
        "  time_steps = np.linspace(0, np.pi*8, seq_length)\n",
        "  data = np.sin(time_steps)\n",
        "  data = data.reshape(-1,1)\n",
        "  return torch.tensor(data, dtype=torch.float32)"
      ],
      "metadata": {
        "id": "w8ShSFqWYlLr"
      },
      "execution_count": null,
      "outputs": []
    },
    {
      "cell_type": "code",
      "source": [
        "dataset = generate_data()"
      ],
      "metadata": {
        "id": "KmS8vqukY8BL"
      },
      "execution_count": null,
      "outputs": []
    },
    {
      "cell_type": "code",
      "source": [
        "plt.plot(dataset)"
      ],
      "metadata": {
        "colab": {
          "base_uri": "https://localhost:8080/",
          "height": 448
        },
        "id": "siEIVCn8ZBBE",
        "outputId": "f9fa1b17-0cb5-4799-da0b-43d07ec69be6"
      },
      "execution_count": null,
      "outputs": [
        {
          "output_type": "execute_result",
          "data": {
            "text/plain": [
              "[<matplotlib.lines.Line2D at 0x7fd641b96bf0>]"
            ]
          },
          "metadata": {},
          "execution_count": 5
        },
        {
          "output_type": "display_data",
          "data": {
            "text/plain": [
              "<Figure size 640x480 with 1 Axes>"
            ],
            "image/png": "[encoded data removed]"
          },
          "metadata": {}
        }
      ]
    },
    {
      "cell_type": "code",
      "source": [
        "# RNN / GRU Model\n",
        "class TwoModel(nn.Module):\n",
        "  def __init__(self, input_size, hidden_size, output_size, num_layers, rnn_type=\"RNN\"):\n",
        "    super().__init__()\n",
        "    self.hidden_size=hidden_size\n",
        "    self.num_layers = num_layers\n",
        "\n",
        "    if rnn_type == 'RNN':\n",
        "      self.rnn = nn.RNN(input_size, hidden_size, num_layers)\n",
        "    elif rnn_type == 'GRU':\n",
        "      self.rnn = nn.GRU(input_size, hidden_size, num_layers)\n",
        "    self.fc = nn.Linear(hidden_size, output_size)\n",
        "\n",
        "  def forward(self, x, hidden):\n",
        "    out, hidden = self.rnn(x, hidden)\n",
        "    out = self.fc(out)\n",
        "    return out, hidden"
      ],
      "metadata": {
        "id": "ET1m2I_3ZJnU"
      },
      "execution_count": null,
      "outputs": []
    },
    {
      "cell_type": "code",
      "source": [
        "class RNNModel(nn.Module):\n",
        "    def __init__(self, input_size, hidden_size, output_size, num_layers):\n",
        "      super().__init__()\n",
        "      self.hidden_size=hidden_size\n",
        "      self.num_layers = num_layers      \n",
        "      self.rnn = nn.RNN(input_size, hidden_size, num_layers) # RNN      \n",
        "      self.fc = nn.Linear(hidden_size, output_size)\n",
        "\n",
        "    def forward(self, x, hidden):\n",
        "      out, hidden = self.rnn(x, hidden)\n",
        "      out = self.fc(out)\n",
        "      return out, hidden\n",
        "class GRUModel(nn.Module):\n",
        "  def __init__(self, input_size, hidden_size, output_size, num_layers):\n",
        "      super().__init__()\n",
        "      self.hidden_size=hidden_size\n",
        "      self.num_layers = num_layers      \n",
        "      self.rnn = nn.GRU(input_size, hidden_size, num_layers) # GRU      \n",
        "      self.fc = nn.Linear(hidden_size, output_size)\n",
        "\n",
        "  def forward(self, x, hidden):\n",
        "      out, hidden = self.rnn(x, hidden)\n",
        "      out = self.fc(out)\n",
        "      return out, hidden"
      ],
      "metadata": {
        "id": "1KT-16N9dFrS"
      },
      "execution_count": null,
      "outputs": []
    },
    {
      "cell_type": "code",
      "source": [
        "# hyper parameters\n",
        "input_size = 1\n",
        "hidden_size = 32\n",
        "output_size = 1\n",
        "num_layers = 3\n",
        "# RNN\n",
        "learning_rate = 1e-3\n",
        "num_epochs = 100"
      ],
      "metadata": {
        "id": "-_P_crwQgPBc"
      },
      "execution_count": null,
      "outputs": []
    },
    {
      "cell_type": "code",
      "source": [
        "# dataset 구성\n",
        "dataset = generate_data()\n",
        "train_data = dataset[:-200] # train data 800\n",
        "test_data = dataset[-200:]"
      ],
      "metadata": {
        "id": "56drJc23gxsM"
      },
      "execution_count": null,
      "outputs": []
    },
    {
      "cell_type": "code",
      "source": [
        "model = RNNModel(input_size, hidden_size,output_size, num_layers)\n",
        "criterion = nn.MSELoss()\n",
        "optimizer = torch.optim.Adam(model.parameters(), lr=learning_rate)"
      ],
      "metadata": {
        "id": "HBO-p4fthAWJ"
      },
      "execution_count": null,
      "outputs": []
    },
    {
      "cell_type": "code",
      "source": [
        "train_data[0]"
      ],
      "metadata": {
        "colab": {
          "base_uri": "https://localhost:8080/"
        },
        "id": "z4BK4HtminfX",
        "outputId": "deadf675-a249-4ad0-e608-bcec562545d0"
      },
      "execution_count": null,
      "outputs": [
        {
          "output_type": "execute_result",
          "data": {
            "text/plain": [
              "tensor([0.])"
            ]
          },
          "metadata": {},
          "execution_count": 11
        }
      ]
    },
    {
      "cell_type": "code",
      "source": [
        "from tqdm.auto import tqdm\n",
        "for epoch in tqdm(range(num_epochs)):\n",
        "  hidden = torch.zeros(num_layers, 1, hidden_size)\n",
        "  for i in range(train_data.shape[0]):  \n",
        "    x = train_data[i:i+1].unsqueeze(0) #X\n",
        "    y = train_data[i+1:i+2].unsqueeze(0) #label\n",
        "\n",
        "    output, hidden = model(x, hidden)\n",
        "    hidden = hidden.detach()\n",
        "\n",
        "    loss = criterion(output, y)\n",
        "\n",
        "    optimizer.zero_grad()\n",
        "    loss.backward()\n",
        "    optimizer.step()\n",
        "  # with torch.no_grad() # 임시로 학습 모드 정지\n",
        "# Test"
      ],
      "metadata": {
        "colab": {
          "base_uri": "https://localhost:8080/",
          "height": 105,
          "referenced_widgets": [
            "1c94bb70c0de440bb59800a776452d1a",
            "3570e12deb2b4472ab55d5794baf9a66",
            "377f99facbf446b78a5b9b5edfd93463",
            "57dce07a9e9c49c1a62b6e31fc61887b",
            "186c36b3493646f09e93bf92a817ed2c",
            "d9b8fb8da08241abaef25353800cd78a",
            "be4c497c139e4bac85eed321a280905d",
            "bf95d01aadbb4c77b1fe3635121537b9",
            "ae396bcc8df648e3a4e7889deeadf197",
            "bd9451f2c77e4e9ab476851b326d9e32",
            "22fa06b9ea844fe5b6ea75b078b775a0"
          ]
        },
        "id": "abF_h4RpicQM",
        "outputId": "3f9d0fa3-e657-4c03-c6f4-2d8c77987473"
      },
      "execution_count": null,
      "outputs": [
        {
          "output_type": "display_data",
          "data": {
            "text/plain": [
              "  0%|          | 0/100 [00:00<?, ?it/s]"
            ],
            "application/vnd.jupyter.widget-view+json": {
              "version_major": 2,
              "version_minor": 0,
              "model_id": "1c94bb70c0de440bb59800a776452d1a"
            }
          },
          "metadata": {}
        },
        {
          "output_type": "stream",
          "name": "stderr",
          "text": [
            "/usr/local/lib/python3.10/dist-packages/torch/nn/modules/loss.py:536: UserWarning: Using a target size (torch.Size([1, 0, 1])) that is different to the input size (torch.Size([1, 1, 1])). This will likely lead to incorrect results due to broadcasting. Please ensure they have the same size.\n",
            "  return F.mse_loss(input, target, reduction=self.reduction)\n"
          ]
        }
      ]
    },
    {
      "cell_type": "code",
      "source": [
        "model.eval()\n",
        "predicted = []\n",
        "losses = []\n",
        "hidden = torch.zeros(num_layers, 1, hidden_size)\n",
        "for i in range(test_data.shape[0]-1):\n",
        "  x = test_data[i:i+1].unsqueeze(0)\n",
        "  output, hidden = model(x, hidden)\n",
        "  predicted.append(output.item())\n",
        "\n",
        "# 결과 시각화\n",
        "plt.plot(test_data[1:].numpy(), label='True')\n",
        "plt.plot(np.array(predicted), label='Pred')\n",
        "plt.legend()\n",
        "plt.show();"
      ],
      "metadata": {
        "colab": {
          "base_uri": "https://localhost:8080/",
          "height": 430
        },
        "id": "7in2BuHymNUD",
        "outputId": "fcdb0a6e-19bf-4e0c-c0bb-df6f9657d8c4"
      },
      "execution_count": null,
      "outputs": [
        {
          "output_type": "display_data",
          "data": {
            "text/plain": [
              "<Figure size 640x480 with 1 Axes>"
            ],
            "image/png": "[encoded data removed]"
          },
          "metadata": {}
        }
      ]
    },
    {
      "cell_type": "code",
      "source": [
        "model = GRUModel(input_size, hidden_size,output_size, num_layers)\n",
        "criterion = nn.MSELoss()\n",
        "optimizer = torch.optim.Adam(model.parameters(), lr=learning_rate)\n",
        "from tqdm.auto import tqdm\n",
        "for epoch in tqdm(range(num_epochs)):\n",
        "  hidden = torch.zeros(num_layers, 1, hidden_size)\n",
        "  for i in range(train_data.shape[0]):  \n",
        "    x = train_data[i:i+1].unsqueeze(0) #X\n",
        "    y = train_data[i+1:i+2].unsqueeze(0) #label\n",
        "\n",
        "    output, hidden = model(x, hidden)\n",
        "    hidden = hidden.detach()\n",
        "\n",
        "    loss = criterion(output, y)\n",
        "\n",
        "    optimizer.zero_grad()\n",
        "    loss.backward()\n",
        "    optimizer.step()\n",
        "  # with torch.no_grad() # 임시로 학습 모드 정지\n",
        "# Test\n",
        "model.eval()\n",
        "predicted = []\n",
        "hidden = torch.zeros(num_layers, 1, hidden_size)\n",
        "for i in range(test_data.shape[0]-1):\n",
        "  x = test_data[i:i+1].unsqueeze(0)\n",
        "  output, hidden = model(x, hidden)\n",
        "  predicted.append(output.item())\n",
        "\n",
        "# 결과 시각화\n",
        "plt.plot(test_data[1:].numpy(), label='True')\n",
        "plt.plot(np.array(predicted), label='Pred')\n",
        "plt.legend()\n",
        "plt.show();"
      ],
      "metadata": {
        "colab": {
          "base_uri": "https://localhost:8080/",
          "height": 462,
          "referenced_widgets": [
            "d325e2bc29964c71a6c2b2ae36e92966",
            "c0d305746ee244e29bd17a2f36b0336e",
            "0118ba46ef394074be86a2e8ea6b93d0",
            "a3d28e54c3b74f14b4e2d435177a931e",
            "003250103779423fa39988c720333619",
            "0d84a2f472db4ec880602cd459ee1e47",
            "e2090d78eb024a319ab2eeca05dd8fd2",
            "4fba7982ed3c45388a0a57867cd1e0da",
            "9fd92a09802e4deea9111fbd7545a052",
            "7dc5742332f34d6d9609fb9bc816b4df",
            "d5b9480efb174a3387fe495cd8de63c6"
          ]
        },
        "id": "70RF-IskmkL7",
        "outputId": "59ac0144-45df-4af6-ae05-4aa95c47af79"
      },
      "execution_count": null,
      "outputs": [
        {
          "output_type": "display_data",
          "data": {
            "text/plain": [
              "  0%|          | 0/100 [00:00<?, ?it/s]"
            ],
            "application/vnd.jupyter.widget-view+json": {
              "version_major": 2,
              "version_minor": 0,
              "model_id": "d325e2bc29964c71a6c2b2ae36e92966"
            }
          },
          "metadata": {}
        },
        {
          "output_type": "display_data",
          "data": {
            "text/plain": [
              "<Figure size 640x480 with 1 Axes>"
            ],
            "image/png": "[encoded data removed]"
          },
          "metadata": {}
        }
      ]
    },
    {
      "cell_type": "code",
      "source": [
        "img = (np.ones((300,200,3))*100).astype(np.uint8)\n",
        "img[-100:]=200"
      ],
      "metadata": {
        "id": "WBnVrebv2zCx"
      },
      "execution_count": null,
      "outputs": []
    },
    {
      "cell_type": "code",
      "source": [
        "img[-100:,:,0]=150"
      ],
      "metadata": {
        "id": "ltFluP3qLz0Y"
      },
      "execution_count": null,
      "outputs": []
    },
    {
      "cell_type": "code",
      "source": [
        "plt.imshow(img)"
      ],
      "metadata": {
        "colab": {
          "base_uri": "https://localhost:8080/",
          "height": 453
        },
        "id": "8EKW8VUjLbqx",
        "outputId": "45d90091-fbc9-48e7-a8fb-b20e0329dde7"
      },
      "execution_count": null,
      "outputs": [
        {
          "output_type": "execute_result",
          "data": {
            "text/plain": [
              "<matplotlib.image.AxesImage at 0x7fd708881300>"
            ]
          },
          "metadata": {},
          "execution_count": 29
        },
        {
          "output_type": "display_data",
          "data": {
            "text/plain": [
              "<Figure size 640x480 with 1 Axes>"
            ],
            "image/png": "[encoded data removed]"
          },
          "metadata": {}
        }
      ]
    },
    {
      "cell_type": "code",
      "source": [
        "dataset = [img]*10\n",
        "dataset[0]"
      ],
      "metadata": {
        "colab": {
          "base_uri": "https://localhost:8080/"
        },
        "id": "aRkcPr37MJBp",
        "outputId": "4e0f2342-6135-4284-a2cc-c962b1376ce9"
      },
      "execution_count": null,
      "outputs": [
        {
          "output_type": "execute_result",
          "data": {
            "text/plain": [
              "array([[[100, 100, 100],\n",
              "        [100, 100, 100],\n",
              "        [100, 100, 100],\n",
              "        ...,\n",
              "        [100, 100, 100],\n",
              "        [100, 100, 100],\n",
              "        [100, 100, 100]],\n",
              "\n",
              "       [[100, 100, 100],\n",
              "        [100, 100, 100],\n",
              "        [100, 100, 100],\n",
              "        ...,\n",
              "        [100, 100, 100],\n",
              "        [100, 100, 100],\n",
              "        [100, 100, 100]],\n",
              "\n",
              "       [[100, 100, 100],\n",
              "        [100, 100, 100],\n",
              "        [100, 100, 100],\n",
              "        ...,\n",
              "        [100, 100, 100],\n",
              "        [100, 100, 100],\n",
              "        [100, 100, 100]],\n",
              "\n",
              "       ...,\n",
              "\n",
              "       [[150, 200, 200],\n",
              "        [150, 200, 200],\n",
              "        [150, 200, 200],\n",
              "        ...,\n",
              "        [150, 200, 200],\n",
              "        [150, 200, 200],\n",
              "        [150, 200, 200]],\n",
              "\n",
              "       [[150, 200, 200],\n",
              "        [150, 200, 200],\n",
              "        [150, 200, 200],\n",
              "        ...,\n",
              "        [150, 200, 200],\n",
              "        [150, 200, 200],\n",
              "        [150, 200, 200]],\n",
              "\n",
              "       [[150, 200, 200],\n",
              "        [150, 200, 200],\n",
              "        [150, 200, 200],\n",
              "        ...,\n",
              "        [150, 200, 200],\n",
              "        [150, 200, 200],\n",
              "        [150, 200, 200]]], dtype=uint8)"
            ]
          },
          "metadata": {},
          "execution_count": 33
        }
      ]
    },
    {
      "cell_type": "code",
      "source": [
        "dataset[0]"
      ],
      "metadata": {
        "id": "xj44oFtsMb9Y"
      },
      "execution_count": null,
      "outputs": []
    },
    {
      "cell_type": "code",
      "source": [
        "train_arr = np.array(img)"
      ],
      "metadata": {
        "id": "3hpmPgnJMTpo"
      },
      "execution_count": null,
      "outputs": []
    },
    {
      "cell_type": "code",
      "source": [
        "dataset = [\n",
        "    (img, 1)\n",
        "]"
      ],
      "metadata": {
        "id": "c3HTnDqIMUrJ"
      },
      "execution_count": null,
      "outputs": []
    },
    {
      "cell_type": "code",
      "source": [
        "new_dataset = [ (torch.tensor(img, dtype=torch.float32),torch.tensor(label, dtype=torch.float32)  ) for im, label in dataset  ]"
      ],
      "metadata": {
        "id": "BjDFW6r7NSrF"
      },
      "execution_count": null,
      "outputs": []
    },
    {
      "cell_type": "code",
      "source": [
        "d = np.array(dataset, dtype=np.float32)"
      ],
      "metadata": {
        "id": "Qk6mmcXkNCoA"
      },
      "execution_count": null,
      "outputs": []
    },
    {
      "cell_type": "code",
      "source": [
        "new_dataset"
      ],
      "metadata": {
        "colab": {
          "base_uri": "https://localhost:8080/"
        },
        "id": "PJCaoxlWNKWg",
        "outputId": "83c1acba-4324-4c87-a468-3a3b125b16ee"
      },
      "execution_count": null,
      "outputs": [
        {
          "output_type": "execute_result",
          "data": {
            "text/plain": [
              "[(tensor([[[100., 100., 100.],\n",
              "           [100., 100., 100.],\n",
              "           [100., 100., 100.],\n",
              "           ...,\n",
              "           [100., 100., 100.],\n",
              "           [100., 100., 100.],\n",
              "           [100., 100., 100.]],\n",
              "  \n",
              "          [[100., 100., 100.],\n",
              "           [100., 100., 100.],\n",
              "           [100., 100., 100.],\n",
              "           ...,\n",
              "           [100., 100., 100.],\n",
              "           [100., 100., 100.],\n",
              "           [100., 100., 100.]],\n",
              "  \n",
              "          [[100., 100., 100.],\n",
              "           [100., 100., 100.],\n",
              "           [100., 100., 100.],\n",
              "           ...,\n",
              "           [100., 100., 100.],\n",
              "           [100., 100., 100.],\n",
              "           [100., 100., 100.]],\n",
              "  \n",
              "          ...,\n",
              "  \n",
              "          [[150., 200., 200.],\n",
              "           [150., 200., 200.],\n",
              "           [150., 200., 200.],\n",
              "           ...,\n",
              "           [150., 200., 200.],\n",
              "           [150., 200., 200.],\n",
              "           [150., 200., 200.]],\n",
              "  \n",
              "          [[150., 200., 200.],\n",
              "           [150., 200., 200.],\n",
              "           [150., 200., 200.],\n",
              "           ...,\n",
              "           [150., 200., 200.],\n",
              "           [150., 200., 200.],\n",
              "           [150., 200., 200.]],\n",
              "  \n",
              "          [[150., 200., 200.],\n",
              "           [150., 200., 200.],\n",
              "           [150., 200., 200.],\n",
              "           ...,\n",
              "           [150., 200., 200.],\n",
              "           [150., 200., 200.],\n",
              "           [150., 200., 200.]]]),\n",
              "  tensor(1.))]"
            ]
          },
          "metadata": {},
          "execution_count": 43
        }
      ]
    },
    {
      "cell_type": "code",
      "source": [
        "from torchvision import datasets"
      ],
      "metadata": {
        "id": "0tyDrzk3O6v9"
      },
      "execution_count": null,
      "outputs": []
    },
    {
      "cell_type": "code",
      "source": [
        "dataset = datasets.FashionMNIST(root='./data',download=True)"
      ],
      "metadata": {
        "colab": {
          "base_uri": "https://localhost:8080/"
        },
        "id": "9WLPHpSiRZgU",
        "outputId": "5463a014-e1d5-487f-c62e-d8f327d828a9"
      },
      "execution_count": null,
      "outputs": [
        {
          "output_type": "stream",
          "name": "stdout",
          "text": [
            "Downloading http://fashion-mnist.s3-website.eu-central-1.amazonaws.com/train-images-idx3-ubyte.gz\n",
            "Downloading http://fashion-mnist.s3-website.eu-central-1.amazonaws.com/train-images-idx3-ubyte.gz to ./data/FashionMNIST/raw/train-images-idx3-ubyte.gz\n"
          ]
        },
        {
          "output_type": "stream",
          "name": "stderr",
          "text": [
            "100%|██████████| 26421880/26421880 [00:01<00:00, 17168109.02it/s]\n"
          ]
        },
        {
          "output_type": "stream",
          "name": "stdout",
          "text": [
            "Extracting ./data/FashionMNIST/raw/train-images-idx3-ubyte.gz to ./data/FashionMNIST/raw\n",
            "\n",
            "Downloading http://fashion-mnist.s3-website.eu-central-1.amazonaws.com/train-labels-idx1-ubyte.gz\n",
            "Downloading http://fashion-mnist.s3-website.eu-central-1.amazonaws.com/train-labels-idx1-ubyte.gz to ./data/FashionMNIST/raw/train-labels-idx1-ubyte.gz\n"
          ]
        },
        {
          "output_type": "stream",
          "name": "stderr",
          "text": [
            "100%|██████████| 29515/29515 [00:00<00:00, 302527.56it/s]\n"
          ]
        },
        {
          "output_type": "stream",
          "name": "stdout",
          "text": [
            "Extracting ./data/FashionMNIST/raw/train-labels-idx1-ubyte.gz to ./data/FashionMNIST/raw\n",
            "\n",
            "Downloading http://fashion-mnist.s3-website.eu-central-1.amazonaws.com/t10k-images-idx3-ubyte.gz\n",
            "Downloading http://fashion-mnist.s3-website.eu-central-1.amazonaws.com/t10k-images-idx3-ubyte.gz to ./data/FashionMNIST/raw/t10k-images-idx3-ubyte.gz\n"
          ]
        },
        {
          "output_type": "stream",
          "name": "stderr",
          "text": [
            "100%|██████████| 4422102/4422102 [00:00<00:00, 5359559.54it/s]\n"
          ]
        },
        {
          "output_type": "stream",
          "name": "stdout",
          "text": [
            "Extracting ./data/FashionMNIST/raw/t10k-images-idx3-ubyte.gz to ./data/FashionMNIST/raw\n",
            "\n",
            "Downloading http://fashion-mnist.s3-website.eu-central-1.amazonaws.com/t10k-labels-idx1-ubyte.gz\n",
            "Downloading http://fashion-mnist.s3-website.eu-central-1.amazonaws.com/t10k-labels-idx1-ubyte.gz to ./data/FashionMNIST/raw/t10k-labels-idx1-ubyte.gz\n"
          ]
        },
        {
          "output_type": "stream",
          "name": "stderr",
          "text": [
            "100%|██████████| 5148/5148 [00:00<00:00, 16053737.54it/s]\n"
          ]
        },
        {
          "output_type": "stream",
          "name": "stdout",
          "text": [
            "Extracting ./data/FashionMNIST/raw/t10k-labels-idx1-ubyte.gz to ./data/FashionMNIST/raw\n",
            "\n"
          ]
        }
      ]
    },
    {
      "cell_type": "code",
      "source": [
        "img = dataset.data[0]"
      ],
      "metadata": {
        "id": "4RIVDSMkRstB"
      },
      "execution_count": null,
      "outputs": []
    },
    {
      "cell_type": "code",
      "source": [
        "plt.imshow(img)"
      ],
      "metadata": {
        "colab": {
          "base_uri": "https://localhost:8080/",
          "height": 448
        },
        "id": "Ql3ecKH1SjyZ",
        "outputId": "a713d188-a78d-48cf-a60a-b6b795d4b9b9"
      },
      "execution_count": null,
      "outputs": [
        {
          "output_type": "execute_result",
          "data": {
            "text/plain": [
              "<matplotlib.image.AxesImage at 0x7fd63cb05d20>"
            ]
          },
          "metadata": {},
          "execution_count": 57
        },
        {
          "output_type": "display_data",
          "data": {
            "text/plain": [
              "<Figure size 640x480 with 1 Axes>"
            ],
            "image/png": "[encoded data removed]"
          },
          "metadata": {}
        }
      ]
    },
    {
      "cell_type": "code",
      "source": [
        "gray_img = np.ones((200, 300), dtype=np.uint8)*150"
      ],
      "metadata": {
        "id": "MAH2sWCBSmlB"
      },
      "execution_count": null,
      "outputs": []
    },
    {
      "cell_type": "code",
      "source": [
        "plt.imshow(gray_img, cmap='gray')"
      ],
      "metadata": {
        "colab": {
          "base_uri": "https://localhost:8080/",
          "height": 414
        },
        "id": "jWAoV-VnTC9h",
        "outputId": "aed44918-d9ef-47d5-d172-e22df8cc2f3d"
      },
      "execution_count": null,
      "outputs": [
        {
          "output_type": "execute_result",
          "data": {
            "text/plain": [
              "<matplotlib.image.AxesImage at 0x7fd63c7178b0>"
            ]
          },
          "metadata": {},
          "execution_count": 72
        },
        {
          "output_type": "display_data",
          "data": {
            "text/plain": [
              "<Figure size 640x480 with 1 Axes>"
            ],
            "image/png": "[encoded data removed]"
          },
          "metadata": {}
        }
      ]
    },
    {
      "cell_type": "code",
      "source": [
        "gray_img = np.ones((200, 300, 3), dtype=np.uint8)*50\n",
        "plt.imshow(gray_img, cmap='gray')"
      ],
      "metadata": {
        "colab": {
          "base_uri": "https://localhost:8080/",
          "height": 414
        },
        "id": "Ospp42NETLNQ",
        "outputId": "9426b067-2939-4155-8ec5-db10e4aa86a2"
      },
      "execution_count": null,
      "outputs": [
        {
          "output_type": "execute_result",
          "data": {
            "text/plain": [
              "<matplotlib.image.AxesImage at 0x7fd63c799b70>"
            ]
          },
          "metadata": {},
          "execution_count": 73
        },
        {
          "output_type": "display_data",
          "data": {
            "text/plain": [
              "<Figure size 640x480 with 1 Axes>"
            ],
            "image/png": "[encoded data removed]"
          },
          "metadata": {}
        }
      ]
    },
    {
      "cell_type": "code",
      "source": [
        "gray_img"
      ],
      "metadata": {
        "colab": {
          "base_uri": "https://localhost:8080/"
        },
        "id": "pCZpIcDoTvsF",
        "outputId": "b6b61a97-ce29-4081-d405-1b2ee287c068"
      },
      "execution_count": null,
      "outputs": [
        {
          "output_type": "execute_result",
          "data": {
            "text/plain": [
              "array([[[50, 50, 50],\n",
              "        [50, 50, 50],\n",
              "        [50, 50, 50],\n",
              "        ...,\n",
              "        [50, 50, 50],\n",
              "        [50, 50, 50],\n",
              "        [50, 50, 50]],\n",
              "\n",
              "       [[50, 50, 50],\n",
              "        [50, 50, 50],\n",
              "        [50, 50, 50],\n",
              "        ...,\n",
              "        [50, 50, 50],\n",
              "        [50, 50, 50],\n",
              "        [50, 50, 50]],\n",
              "\n",
              "       [[50, 50, 50],\n",
              "        [50, 50, 50],\n",
              "        [50, 50, 50],\n",
              "        ...,\n",
              "        [50, 50, 50],\n",
              "        [50, 50, 50],\n",
              "        [50, 50, 50]],\n",
              "\n",
              "       ...,\n",
              "\n",
              "       [[50, 50, 50],\n",
              "        [50, 50, 50],\n",
              "        [50, 50, 50],\n",
              "        ...,\n",
              "        [50, 50, 50],\n",
              "        [50, 50, 50],\n",
              "        [50, 50, 50]],\n",
              "\n",
              "       [[50, 50, 50],\n",
              "        [50, 50, 50],\n",
              "        [50, 50, 50],\n",
              "        ...,\n",
              "        [50, 50, 50],\n",
              "        [50, 50, 50],\n",
              "        [50, 50, 50]],\n",
              "\n",
              "       [[50, 50, 50],\n",
              "        [50, 50, 50],\n",
              "        [50, 50, 50],\n",
              "        ...,\n",
              "        [50, 50, 50],\n",
              "        [50, 50, 50],\n",
              "        [50, 50, 50]]], dtype=uint8)"
            ]
          },
          "metadata": {},
          "execution_count": 74
        }
      ]
    },
    {
      "cell_type": "code",
      "source": [
        "# img_data shape (배치사이즈, 채널, 세로, 가로)"
      ],
      "metadata": {
        "id": "BFNEWesIT6rH"
      },
      "execution_count": null,
      "outputs": []
    },
    {
      "cell_type": "code",
      "source": [
        "(128, 28, 28) # squeeze 차원 줄이기, un~ 차원 늘리기기"
      ],
      "metadata": {
        "id": "mkNrHrHBUSPe"
      },
      "execution_count": null,
      "outputs": []
    },
    {
      "cell_type": "code",
      "source": [
        "img.shape"
      ],
      "metadata": {
        "colab": {
          "base_uri": "https://localhost:8080/"
        },
        "id": "KVhYGWpmUhqe",
        "outputId": "28aa667d-a688-4cbd-eba4-dc1341944321"
      },
      "execution_count": null,
      "outputs": [
        {
          "output_type": "execute_result",
          "data": {
            "text/plain": [
              "torch.Size([28, 28])"
            ]
          },
          "metadata": {},
          "execution_count": 76
        }
      ]
    },
    {
      "cell_type": "code",
      "source": [
        "tmp = img.unsqueeze(1)\n",
        "tmp.shape"
      ],
      "metadata": {
        "colab": {
          "base_uri": "https://localhost:8080/"
        },
        "id": "COCHZdy1Ul2k",
        "outputId": "dfe50c36-79a8-4387-82d2-57f6799286b9"
      },
      "execution_count": null,
      "outputs": [
        {
          "output_type": "execute_result",
          "data": {
            "text/plain": [
              "torch.Size([28, 1, 28])"
            ]
          },
          "metadata": {},
          "execution_count": 78
        }
      ]
    },
    {
      "cell_type": "code",
      "source": [
        "train_data=[\n",
        "    (\"img\", \"label\"),\n",
        "]"
      ],
      "metadata": {
        "id": "ymJ082JtUp6m"
      },
      "execution_count": null,
      "outputs": []
    },
    {
      "cell_type": "code",
      "source": [
        "for x,y in zip(train_data):\n",
        "  print(x,y)"
      ],
      "metadata": {
        "colab": {
          "base_uri": "https://localhost:8080/"
        },
        "id": "lVh6XZRTrgvO",
        "outputId": "3cd0eaa3-6cb3-4062-f0e1-1b62dc45991d"
      },
      "execution_count": null,
      "outputs": [
        {
          "output_type": "stream",
          "name": "stdout",
          "text": [
            "img label\n"
          ]
        }
      ]
    }
  ]
}