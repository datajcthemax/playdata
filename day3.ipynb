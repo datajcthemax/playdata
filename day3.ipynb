{
  "nbformat": 4,
  "nbformat_minor": 0,
  "metadata": {
    "colab": {
      "provenance": [],
      "authorship_tag": "ABX9TyNH98ERxl7WXQpiW21KXj3G",
      "include_colab_link": true
    },
    "kernelspec": {
      "name": "python3",
      "display_name": "Python 3"
    },
    "language_info": {
      "name": "python"
    }
  },
  "cells": [
    {
      "cell_type": "markdown",
      "metadata": {
        "id": "view-in-github",
        "colab_type": "text"
      },
      "source": [
        "<a href=\"https://colab.research.google.com/github/datajcthemax/playdata/blob/main/day3.ipynb\" target=\"_parent\"><img src=\"https://colab.research.google.com/assets/colab-badge.svg\" alt=\"Open In Colab\"/></a>"
      ]
    },
    {
      "cell_type": "code",
      "execution_count": 1,
      "metadata": {
        "id": "lJRyB2Vvypdm"
      },
      "outputs": [],
      "source": [
        "#continue 의 사용법"
      ]
    },
    {
      "cell_type": "code",
      "source": [
        "#항공사 직원\n",
        "while True:\n",
        "  answer = input(\"탑승권 가져오셨어요?\")\n",
        "  if answer == \"y\":\n",
        "    print(\"F-1번에서 탑승하시면 됩니다\")\n",
        "  elif answer =='n':\n",
        "    print(\"가져 오셔야합니다\")\n",
        "    break\n",
        "  else:\n",
        "    continue\n",
        "  print(\"저희 항공사는 여러분의 편의를 위해서...\")\n",
        "  break\n",
        "\n",
        "print(\"다음 고객 오세요\")\n"
      ],
      "metadata": {
        "colab": {
          "base_uri": "https://localhost:8080/"
        },
        "id": "ARhl1vCoyu7F",
        "outputId": "eb9fedf4-2025-424d-8bb9-2026b31f2ac7"
      },
      "execution_count": 5,
      "outputs": [
        {
          "output_type": "stream",
          "name": "stdout",
          "text": [
            "탑승권 가져오셨어요?n\n",
            "가져 오셔야합니다\n",
            "다음 고객 오세요\n"
          ]
        }
      ]
    },
    {
      "cell_type": "code",
      "source": [
        "#중첩 리스트, 딕셔너리"
      ],
      "metadata": {
        "id": "8x7AcbxjzSZ4"
      },
      "execution_count": 6,
      "outputs": []
    },
    {
      "cell_type": "code",
      "source": [
        "#중첩 리스트: 리스트 안에 리스트 -> AI 행렬\n",
        "a = [\n",
        "    ['커피', '쥬스'], #음료\n",
        "    ['초코', '치즈'], #케이크\n",
        "]"
      ],
      "metadata": {
        "id": "knKSf5Z20cPi"
      },
      "execution_count": 7,
      "outputs": []
    },
    {
      "cell_type": "code",
      "source": [
        "#딕셔너리\n",
        "\n",
        "b = {\n",
        "    '음료':['커피','쥬스'],\n",
        "    '케이크':['초코', '치즈'],\n",
        "     \n",
        "}"
      ],
      "metadata": {
        "id": "MT7ehHXH1HNE"
      },
      "execution_count": 8,
      "outputs": []
    },
    {
      "cell_type": "code",
      "source": [
        "total_price = 0\n",
        "total_menu = {}\n",
        "menu = {\n",
        "    'drink' : {\n",
        "        '아메리카노': 4500,\n",
        "        '라떼': 5000,\n",
        "        '밀크티': 5500\n",
        "    },\n",
        "    'food' : {\n",
        "        '케이크' : 5000, '샌드위치' : 2500\n",
        "    }\n",
        "}\n",
        "\n",
        "\n",
        "def choose_menu():\n",
        "    basket_price = 0\n",
        "    while True:\n",
        "        print(menu)\n",
        "        order = input(\"메뉴를 골라주세요: \")\n",
        "        if order in menu['drink']:\n",
        "            while True:\n",
        "                hot_or_ice = input(\"HOT(따뜻한 음료) 또는 ICE(차가운 음료) 중에서 선택해주세요: \")\n",
        "                print(\"ICE는 500원이 추가됩니다.\")\n",
        "                if hot_or_ice == 'HOT':\n",
        "                    price = menu['drink'][order]\n",
        "                    break\n",
        "                elif hot_or_ice == 'ICE':\n",
        "                    price = menu['drink'][order] + 500\n",
        "                    break\n",
        "                else:\n",
        "                    print(\"잘못된 입력입니다. 다시 선택해주세요.\")\n",
        "        elif order in menu['food']:\n",
        "            price = menu['food'][order]\n",
        "            hot_or_ice = None  # 음식에는 HOT/ICE가 없으므로 None으로 초기화합니다.\n",
        "        else:\n",
        "            print(\"잘못된 입력입니다. 다시 선택해주세요.\")\n",
        "            continue\n",
        "        print(f\"주문하신 메뉴는 {order}이고 가격은 {price}원입니다.\")\n",
        "        count = int(input(\"얼마나 주문하시겠습니까?: \"))\n",
        "        ans = input(f\"{order}를 {count}개 주문하시겠습니까? (Y/N)\")\n",
        "        if ans == 'Y' or ans == 'y':\n",
        "            if hot_or_ice is not None:  # 음료인 경우에만 hot_or_ice를 저장합니다.\n",
        "                total_menu[(order, hot_or_ice)] = total_menu.get((order, hot_or_ice), 0) + count\n",
        "            else:\n",
        "                total_menu[order] = total_menu.get(order, 0) + count\n",
        "            basket_price += (price * count)\n",
        "            print(f\"{order}가 {count}개 장바구니에 추가되었습니다.\")\n",
        "            print(f\"누적 금액은 {basket_price}원입니다.\")\n",
        "        ans2 = input(\"추가 주문 하시겠습니까? (Y/N): \")\n",
        "        if ans2 == 'N' or ans2 == 'n':\n",
        "            break\n",
        "    return basket_price\n",
        "total_price += choose_menu()\n",
        "\n",
        "def select_menu():\n",
        "    global total_price, total_menu\n",
        "    \n",
        "    print(\"현재 주문하신 메뉴는 다음과 같습니다:\")\n",
        "    for key, value in total_menu.items():\n",
        "        if type(key) == tuple:\n",
        "            print(f\"{key[0]} ({key[1]}) : {value}개\")\n",
        "        else:\n",
        "            print(f\"{key} : {value}개\")\n",
        "    print(f\"총 주문 금액은 {total_price}원입니다.\")\n",
        "    \n",
        "    while True:\n",
        "        #print(total_menu.keys())\n",
        "        menu_to_delete_type = input(\"삭제하실 메뉴 종류를 입력해주세요. ex) drink or food. 취소하시려면 0을 입력하세요 : \")\n",
        "\n",
        "        #메뉴취소\n",
        "        if menu_to_delete_type == '0':\n",
        "            break\n",
        "\n",
        "        elif menu_to_delete_type == 'drink':\n",
        "            menu_to_delete = input(\"삭제할 메뉴를 입력하세요 (음식명, HOT/ICE). 이전 단계로 돌아가려면 0을 입력하세요 : \")\n",
        "            if menu_to_delete == 0:\n",
        "                continue\n",
        "            #드링크류는 HOT/ICE 때문에 값을 튜플로 받아야함\n",
        "            else:\n",
        "                menu_to_delete = tuple(menu_to_delete.split(\", \"))\n",
        "            \n",
        "        elif menu_to_delete_type == 'food':\n",
        "            menu_to_delete = input(\"삭제할 메뉴를 입력하세요. 이전 단계로 돌아가려면 0을 입력하세요 : \")\n",
        "            if menu_to_delete == 0:\n",
        "                continue\n",
        "\n",
        "        else:\n",
        "            print(\"잘못입력 하셨습니다. 다시 시도해 주세요\")\n",
        "            continue\n",
        "        \n",
        "        #잘못된 값\n",
        "        if menu_to_delete not in total_menu.keys():\n",
        "            print(\"잘못된 입력입니다. 다시 입력해주세요.\")\n",
        "            continue\n",
        "        #올바른 값\n",
        "        else:\n",
        "            count_to_delete = int(input(f\"{menu_to_delete}를 몇 개 삭제하시겠습니까?: \"))\n",
        "            #너무 많이 삭제\n",
        "            if count_to_delete > total_menu[menu_to_delete]:\n",
        "                print(\"삭제할 수 있는 개수보다 많습니다. 다시 입력해주세요.\")\n",
        "                continue\n",
        "            #전부 삭제\n",
        "            elif count_to_delete == total_menu[menu_to_delete]:\n",
        "                total_menu.pop(menu_to_delete)\n",
        "                #금액 제거\n",
        "                if menu_to_delete in menu['drink']:\n",
        "                    if menu_to_delete in menu['ice'].keys():\n",
        "                        total_price -= (menu['drink'][menu_to_delete] + 500) * count_to_delete\n",
        "                    else:\n",
        "                        total_price -= menu['drink'][menu_to_delete] * count_to_delete\n",
        "                elif menu_to_delete in menu['food']:\n",
        "                    total_price -= menu['food'][menu_to_delete] * count_to_delete\n",
        "            #일부분 삭제\n",
        "            else:\n",
        "                if isinstance(menu_to_delete, tuple):\n",
        "                    total_menu[menu_to_delete] -= count_to_delete\n",
        "                else:\n",
        "                    total_menu[menu_to_delete] -= count_to_delete\n",
        "\n",
        "                if menu_to_delete in menu['drink']:\n",
        "                    if menu_to_delete in menu['ice'].keys():\n",
        "                        total_price -= (menu['drink'][menu_to_delete] + 500) * count_to_delete\n",
        "                    else:\n",
        "                        total_price -= menu['drink'][menu_to_delete] * count_to_delete\n",
        "                elif menu_to_delete in menu['food']:\n",
        "                    total_price -= menu['food'][menu_to_delete] * count_to_delete\n",
        "            print(f\"{menu_to_delete} {count_to_delete}개를 장바구니에서 삭제하였습니다.\")\n",
        "            print(f\"현재 금액은 {total_price}원입니다.\")\n",
        "select_menu()\n",
        "print(f\"최종 주문하신 메뉴는 {total_menu}입니다.\")\n",
        "print(f\"총 주문 금액은 {total_price}원입니다.\")\n",
        "\n",
        "while True:\n",
        "    money = int(input(\"지불하실 금액을 입력해주세요 : \"))\n",
        "    if total_price == money:\n",
        "        print(\"이용해 주셔서 감사합니다.\")\n",
        "        break\n",
        "    elif total_price < money:\n",
        "        print(\"이용해 주셔서 감사합니다.\")\n",
        "        print(f\"잔돈 : {money - total_price}\")\n",
        "    elif total_price > money:\n",
        "        print(f\"남은 금액 : {total_price - money}\")\n",
        "        total_price -= money\n",
        "\n",
        "        \n",
        "#메뉴를 음료와 음식으로 구분하여 보여준 후 \n",
        "#음료의 경우는 HOT/ICE 조건이 있어 값을 장바구니 딕셔너리의 키 값을 튜플로 저장합니다.\n",
        "#while 문을 활용하여 만족할때 까지 주문 받습니다.\n",
        "#장바구니에서 원하지 않는 메뉴 삭제합니다.\n",
        "#현재 주문중인 메뉴를 보여줍니다.\n",
        "#최종 주문 확정인 메뉴를 보여줍니다\n",
        "#금액을 보여준 후 계산을 합니다.\n",
        "##저장되는 딕셔너리에 값이 복잡하고 일관성이 떨어져 활용하기 어렵다는 단점이 있습니다."
      ],
      "metadata": {
        "colab": {
          "base_uri": "https://localhost:8080/"
        },
        "id": "Ena0DXvt47xf",
        "outputId": "d2de077a-3314-466c-b11d-7cee9369c7f7"
      },
      "execution_count": 9,
      "outputs": [
        {
          "output_type": "stream",
          "name": "stdout",
          "text": [
            "{'drink': {'아메리카노': 4500, '라떼': 5000, '밀크티': 5500}, 'food': {'케이크': 5000, '샌드위치': 2500}}\n",
            "메뉴를 골라주세요: 아메리카노\n",
            "HOT(따뜻한 음료) 또는 ICE(차가운 음료) 중에서 선택해주세요: ICE\n",
            "ICE는 500원이 추가됩니다.\n",
            "주문하신 메뉴는 아메리카노이고 가격은 5000원입니다.\n",
            "얼마나 주문하시겠습니까?: 2\n",
            "아메리카노를 2개 주문하시겠습니까? (Y/N)Y\n",
            "아메리카노가 2개 장바구니에 추가되었습니다.\n",
            "누적 금액은 10000원입니다.\n",
            "추가 주문 하시겠습니까? (Y/N): Y\n",
            "{'drink': {'아메리카노': 4500, '라떼': 5000, '밀크티': 5500}, 'food': {'케이크': 5000, '샌드위치': 2500}}\n",
            "메뉴를 골라주세요: 케이크\n",
            "주문하신 메뉴는 케이크이고 가격은 5000원입니다.\n",
            "얼마나 주문하시겠습니까?: 1\n",
            "케이크를 1개 주문하시겠습니까? (Y/N)Y\n",
            "케이크가 1개 장바구니에 추가되었습니다.\n",
            "누적 금액은 15000원입니다.\n",
            "추가 주문 하시겠습니까? (Y/N): N\n",
            "현재 주문하신 메뉴는 다음과 같습니다:\n",
            "아메리카노 (ICE) : 2개\n",
            "케이크 : 1개\n",
            "총 주문 금액은 15000원입니다.\n",
            "삭제하실 메뉴 종류를 입력해주세요. ex) drink or food. 취소하시려면 0을 입력하세요 : 0\n",
            "최종 주문하신 메뉴는 {('아메리카노', 'ICE'): 2, '케이크': 1}입니다.\n",
            "총 주문 금액은 15000원입니다.\n",
            "지불하실 금액을 입력해주세요 : 15000\n",
            "이용해 주셔서 감사합니다.\n"
          ]
        }
      ]
    },
    {
      "cell_type": "code",
      "source": [],
      "metadata": {
        "id": "SFb6eidy48h_"
      },
      "execution_count": 9,
      "outputs": []
    }
  ]
}