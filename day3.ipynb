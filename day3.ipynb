{
  "nbformat": 4,
  "nbformat_minor": 0,
  "metadata": {
    "colab": {
      "provenance": [],
      "authorship_tag": "ABX9TyNa5I7u+nn2AbzwQtnvJAWm",
      "include_colab_link": true
    },
    "kernelspec": {
      "name": "python3",
      "display_name": "Python 3"
    },
    "language_info": {
      "name": "python"
    }
  },
  "cells": [
    {
      "cell_type": "markdown",
      "metadata": {
        "id": "view-in-github",
        "colab_type": "text"
      },
      "source": [
        "<a href=\"https://colab.research.google.com/github/datajcthemax/playdata/blob/main/day3.ipynb\" target=\"_parent\"><img src=\"https://colab.research.google.com/assets/colab-badge.svg\" alt=\"Open In Colab\"/></a>"
      ]
    },
    {
      "cell_type": "code",
      "execution_count": null,
      "metadata": {
        "id": "lJRyB2Vvypdm"
      },
      "outputs": [],
      "source": [
        "#continue 의 사용법"
      ]
    },
    {
      "cell_type": "code",
      "source": [
        "#항공사 직원\n",
        "while True:\n",
        "  answer = input(\"탑승권 가져오셨어요?\")\n",
        "  if answer == \"y\":\n",
        "    print(\"F-1번에서 탑승하시면 됩니다\")\n",
        "  elif answer =='n':\n",
        "    print(\"가져 오셔야합니다\")\n",
        "    break\n",
        "  else:\n",
        "    continue\n",
        "  print(\"저희 항공사는 여러분의 편의를 위해서...\")\n",
        "  break\n",
        "\n",
        "print(\"다음 고객 오세요\")\n"
      ],
      "metadata": {
        "colab": {
          "base_uri": "https://localhost:8080/"
        },
        "id": "ARhl1vCoyu7F",
        "outputId": "eb9fedf4-2025-424d-8bb9-2026b31f2ac7"
      },
      "execution_count": null,
      "outputs": [
        {
          "output_type": "stream",
          "name": "stdout",
          "text": [
            "탑승권 가져오셨어요?n\n",
            "가져 오셔야합니다\n",
            "다음 고객 오세요\n"
          ]
        }
      ]
    },
    {
      "cell_type": "code",
      "source": [
        "#중첩 리스트, 딕셔너리"
      ],
      "metadata": {
        "id": "8x7AcbxjzSZ4"
      },
      "execution_count": null,
      "outputs": []
    },
    {
      "cell_type": "code",
      "source": [
        "#중첩 리스트: 리스트 안에 리스트 -> AI 행렬\n",
        "a = [\n",
        "    ['커피', '쥬스'], #음료\n",
        "    ['초코', '치즈'], #케이크\n",
        "]"
      ],
      "metadata": {
        "id": "knKSf5Z20cPi"
      },
      "execution_count": null,
      "outputs": []
    },
    {
      "cell_type": "code",
      "source": [
        "#딕셔너리\n",
        "\n",
        "b = {\n",
        "    '음료':['커피','쥬스'],\n",
        "    '케이크':['초코', '치즈'],\n",
        "     \n",
        "}"
      ],
      "metadata": {
        "id": "MT7ehHXH1HNE"
      },
      "execution_count": null,
      "outputs": []
    },
    {
      "cell_type": "code",
      "source": [
        "total_price = 0\n",
        "total_menu = {}\n",
        "menu = {\n",
        "    'drink' : {\n",
        "        '아메리카노': 4500,\n",
        "        '라떼': 5000,\n",
        "        '밀크티': 5500\n",
        "    },\n",
        "    'food' : {\n",
        "        '케이크' : 5000, '샌드위치' : 2500\n",
        "    }\n",
        "}\n",
        "\n",
        "\n",
        "def choose_menu():\n",
        "    basket_price = 0\n",
        "    while True:\n",
        "        print(menu)\n",
        "        order = input(\"메뉴를 골라주세요: \")\n",
        "        if order in menu['drink']:\n",
        "            while True:\n",
        "                hot_or_ice = input(\"HOT(따뜻한 음료) 또는 ICE(차가운 음료) 중에서 선택해주세요: \")\n",
        "                print(\"ICE는 500원이 추가됩니다.\")\n",
        "                if hot_or_ice == 'HOT':\n",
        "                    price = menu['drink'][order]\n",
        "                    break\n",
        "                elif hot_or_ice == 'ICE':\n",
        "                    price = menu['drink'][order] + 500\n",
        "                    break\n",
        "                else:\n",
        "                    print(\"잘못된 입력입니다. 다시 선택해주세요.\")\n",
        "        elif order in menu['food']:\n",
        "            price = menu['food'][order]\n",
        "            hot_or_ice = None  # 음식에는 HOT/ICE가 없으므로 None으로 초기화합니다.\n",
        "        else:\n",
        "            print(\"잘못된 입력입니다. 다시 선택해주세요.\")\n",
        "            continue\n",
        "        print(f\"주문하신 메뉴는 {order}이고 가격은 {price}원입니다.\")\n",
        "        count = int(input(\"얼마나 주문하시겠습니까?: \"))\n",
        "        ans = input(f\"{order}를 {count}개 주문하시겠습니까? (Y/N)\")\n",
        "        if ans == 'Y' or ans == 'y':\n",
        "            if hot_or_ice is not None:  # 음료인 경우에만 hot_or_ice를 저장합니다.\n",
        "                total_menu[(order, hot_or_ice)] = total_menu.get((order, hot_or_ice), 0) + count\n",
        "            else:\n",
        "                total_menu[order] = total_menu.get(order, 0) + count\n",
        "            basket_price += (price * count)\n",
        "            print(f\"{order}가 {count}개 장바구니에 추가되었습니다.\")\n",
        "            print(f\"누적 금액은 {basket_price}원입니다.\")\n",
        "        ans2 = input(\"추가 주문 하시겠습니까? (Y/N): \")\n",
        "        if ans2 == 'N' or ans2 == 'n':\n",
        "            break\n",
        "    return basket_price\n",
        "total_price += choose_menu()\n",
        "\n",
        "def select_menu():\n",
        "    global total_price, total_menu\n",
        "    \n",
        "    print(\"현재 주문하신 메뉴는 다음과 같습니다:\")\n",
        "    for key, value in total_menu.items():\n",
        "        if type(key) == tuple:\n",
        "            print(f\"{key[0]} ({key[1]}) : {value}개\")\n",
        "        else:\n",
        "            print(f\"{key} : {value}개\")\n",
        "    print(f\"총 주문 금액은 {total_price}원입니다.\")\n",
        "    \n",
        "    while True:\n",
        "        #print(total_menu.keys())\n",
        "        menu_to_delete_type = input(\"삭제하실 메뉴 종류를 입력해주세요. ex) drink or food. 취소하시려면 0을 입력하세요 : \")\n",
        "\n",
        "        #메뉴취소\n",
        "        if menu_to_delete_type == '0':\n",
        "            break\n",
        "\n",
        "        elif menu_to_delete_type == 'drink':\n",
        "            menu_to_delete = input(\"삭제할 메뉴를 입력하세요 (음식명, HOT/ICE). 이전 단계로 돌아가려면 0을 입력하세요 : \")\n",
        "            if menu_to_delete == 0:\n",
        "                continue\n",
        "            #드링크류는 HOT/ICE 때문에 값을 튜플로 받아야함\n",
        "            else:\n",
        "                menu_to_delete = tuple(menu_to_delete.split(\", \"))\n",
        "            \n",
        "        elif menu_to_delete_type == 'food':\n",
        "            menu_to_delete = input(\"삭제할 메뉴를 입력하세요. 이전 단계로 돌아가려면 0을 입력하세요 : \")\n",
        "            if menu_to_delete == 0:\n",
        "                continue\n",
        "\n",
        "        else:\n",
        "            print(\"잘못입력 하셨습니다. 다시 시도해 주세요\")\n",
        "            continue\n",
        "        \n",
        "        #잘못된 값\n",
        "        if menu_to_delete not in total_menu.keys():\n",
        "            print(\"잘못된 입력입니다. 다시 입력해주세요.\")\n",
        "            continue\n",
        "        #올바른 값\n",
        "        else:\n",
        "            count_to_delete = int(input(f\"{menu_to_delete}를 몇 개 삭제하시겠습니까?: \"))\n",
        "            #너무 많이 삭제\n",
        "            if count_to_delete > total_menu[menu_to_delete]:\n",
        "                print(\"삭제할 수 있는 개수보다 많습니다. 다시 입력해주세요.\")\n",
        "                continue\n",
        "            #전부 삭제\n",
        "            elif count_to_delete == total_menu[menu_to_delete]:\n",
        "                total_menu.pop(menu_to_delete)\n",
        "                #금액 제거\n",
        "                if menu_to_delete in menu['drink']:\n",
        "                    if menu_to_delete in menu['ice'].keys():\n",
        "                        total_price -= (menu['drink'][menu_to_delete] + 500) * count_to_delete\n",
        "                    else:\n",
        "                        total_price -= menu['drink'][menu_to_delete] * count_to_delete\n",
        "                elif menu_to_delete in menu['food']:\n",
        "                    total_price -= menu['food'][menu_to_delete] * count_to_delete\n",
        "            #일부분 삭제\n",
        "            else:\n",
        "                if isinstance(menu_to_delete, tuple):\n",
        "                    total_menu[menu_to_delete] -= count_to_delete\n",
        "                else:\n",
        "                    total_menu[menu_to_delete] -= count_to_delete\n",
        "\n",
        "                if menu_to_delete in menu['drink']:\n",
        "                    if menu_to_delete in menu['ice'].keys():\n",
        "                        total_price -= (menu['drink'][menu_to_delete] + 500) * count_to_delete\n",
        "                    else:\n",
        "                        total_price -= menu['drink'][menu_to_delete] * count_to_delete\n",
        "                elif menu_to_delete in menu['food']:\n",
        "                    total_price -= menu['food'][menu_to_delete] * count_to_delete\n",
        "            print(f\"{menu_to_delete} {count_to_delete}개를 장바구니에서 삭제하였습니다.\")\n",
        "            print(f\"현재 금액은 {total_price}원입니다.\")\n",
        "select_menu()\n",
        "print(f\"최종 주문하신 메뉴는 {total_menu}입니다.\")\n",
        "print(f\"총 주문 금액은 {total_price}원입니다.\")\n",
        "\n",
        "while True:\n",
        "    money = int(input(\"지불하실 금액을 입력해주세요 : \"))\n",
        "    if total_price == money:\n",
        "        print(\"이용해 주셔서 감사합니다.\")\n",
        "        break\n",
        "    elif total_price < money:\n",
        "        print(\"이용해 주셔서 감사합니다.\")\n",
        "        print(f\"잔돈 : {money - total_price}\")\n",
        "    elif total_price > money:\n",
        "        print(f\"남은 금액 : {total_price - money}\")\n",
        "        total_price -= money\n",
        "\n",
        "        \n",
        "#메뉴를 음료와 음식으로 구분하여 보여준 후 \n",
        "#음료의 경우는 HOT/ICE 조건이 있어 값을 장바구니 딕셔너리의 키 값을 튜플로 저장합니다.\n",
        "#while 문을 활용하여 만족할때 까지 주문 받습니다.\n",
        "#장바구니에서 원하지 않는 메뉴 삭제합니다.\n",
        "#현재 주문중인 메뉴를 보여줍니다.\n",
        "#최종 주문 확정인 메뉴를 보여줍니다\n",
        "#금액을 보여준 후 계산을 합니다.\n",
        "##저장되는 딕셔너리에 값이 복잡하고 일관성이 떨어져 활용하기 어렵다는 단점이 있습니다."
      ],
      "metadata": {
        "colab": {
          "base_uri": "https://localhost:8080/"
        },
        "id": "Ena0DXvt47xf",
        "outputId": "d2de077a-3314-466c-b11d-7cee9369c7f7"
      },
      "execution_count": null,
      "outputs": [
        {
          "output_type": "stream",
          "name": "stdout",
          "text": [
            "{'drink': {'아메리카노': 4500, '라떼': 5000, '밀크티': 5500}, 'food': {'케이크': 5000, '샌드위치': 2500}}\n",
            "메뉴를 골라주세요: 아메리카노\n",
            "HOT(따뜻한 음료) 또는 ICE(차가운 음료) 중에서 선택해주세요: ICE\n",
            "ICE는 500원이 추가됩니다.\n",
            "주문하신 메뉴는 아메리카노이고 가격은 5000원입니다.\n",
            "얼마나 주문하시겠습니까?: 2\n",
            "아메리카노를 2개 주문하시겠습니까? (Y/N)Y\n",
            "아메리카노가 2개 장바구니에 추가되었습니다.\n",
            "누적 금액은 10000원입니다.\n",
            "추가 주문 하시겠습니까? (Y/N): Y\n",
            "{'drink': {'아메리카노': 4500, '라떼': 5000, '밀크티': 5500}, 'food': {'케이크': 5000, '샌드위치': 2500}}\n",
            "메뉴를 골라주세요: 케이크\n",
            "주문하신 메뉴는 케이크이고 가격은 5000원입니다.\n",
            "얼마나 주문하시겠습니까?: 1\n",
            "케이크를 1개 주문하시겠습니까? (Y/N)Y\n",
            "케이크가 1개 장바구니에 추가되었습니다.\n",
            "누적 금액은 15000원입니다.\n",
            "추가 주문 하시겠습니까? (Y/N): N\n",
            "현재 주문하신 메뉴는 다음과 같습니다:\n",
            "아메리카노 (ICE) : 2개\n",
            "케이크 : 1개\n",
            "총 주문 금액은 15000원입니다.\n",
            "삭제하실 메뉴 종류를 입력해주세요. ex) drink or food. 취소하시려면 0을 입력하세요 : 0\n",
            "최종 주문하신 메뉴는 {('아메리카노', 'ICE'): 2, '케이크': 1}입니다.\n",
            "총 주문 금액은 15000원입니다.\n",
            "지불하실 금액을 입력해주세요 : 15000\n",
            "이용해 주셔서 감사합니다.\n"
          ]
        }
      ]
    },
    {
      "cell_type": "code",
      "source": [
        "# 두 수를 입력받아 사칙연산을 하는 계산기 프로그램\n",
        "# def 함수명(매개변수):\n",
        "#   프로그램\n",
        "#   return 결과값\n",
        "\n",
        "\n"
      ],
      "metadata": {
        "id": "SFb6eidy48h_"
      },
      "execution_count": null,
      "outputs": []
    },
    {
      "cell_type": "code",
      "source": [
        "# 덧셈연산 함수\n",
        "def plus(a,b):\n",
        "  a = int(a)\n",
        "  b = int(b)\n",
        "  result = a + b\n",
        "  return result\n"
      ],
      "metadata": {
        "id": "bzO8h076DsMg"
      },
      "execution_count": null,
      "outputs": []
    },
    {
      "cell_type": "code",
      "source": [
        "num1 = int(input(\"첫번째 수:\"))\n",
        "num2 = int(input(\"두번째 수:\"))\n",
        "\n",
        "#함수 호출\n",
        "#함수명(매개변수)\n",
        "\n",
        "plus(num1,num2)"
      ],
      "metadata": {
        "colab": {
          "base_uri": "https://localhost:8080/"
        },
        "id": "CG-IGsi9D1w6",
        "outputId": "af93db96-44da-44ba-d68f-000d2f06a159"
      },
      "execution_count": null,
      "outputs": [
        {
          "name": "stdout",
          "output_type": "stream",
          "text": [
            "첫번째 수:2\n",
            "두번째 수:3\n"
          ]
        },
        {
          "output_type": "execute_result",
          "data": {
            "text/plain": [
              "5"
            ]
          },
          "metadata": {},
          "execution_count": 16
        }
      ]
    },
    {
      "cell_type": "code",
      "source": [
        "type(a)"
      ],
      "metadata": {
        "colab": {
          "base_uri": "https://localhost:8080/"
        },
        "id": "2W7wIClKEH-j",
        "outputId": "3a19f46a-1cc7-4cdd-ef03-e3f3617173a2"
      },
      "execution_count": null,
      "outputs": [
        {
          "output_type": "execute_result",
          "data": {
            "text/plain": [
              "str"
            ]
          },
          "metadata": {},
          "execution_count": 13
        }
      ]
    },
    {
      "cell_type": "code",
      "source": [
        "ret = plus(a=num1, b=num2)\n",
        "print(ret)"
      ],
      "metadata": {
        "colab": {
          "base_uri": "https://localhost:8080/"
        },
        "id": "KakGorBBEQr9",
        "outputId": "9f775ed9-578b-4c6f-d1eb-45c0090c664e"
      },
      "execution_count": null,
      "outputs": [
        {
          "output_type": "stream",
          "name": "stdout",
          "text": [
            "5\n"
          ]
        }
      ]
    },
    {
      "cell_type": "code",
      "source": [
        "#업그레이드 버젼-키오스크\n",
        "#1. 주문만 받기\n",
        "def get_order(): \n",
        "  order = input(\"what do you want?\")\n",
        "  order_list = [order]\n",
        "  return order_list\n"
      ],
      "metadata": {
        "id": "ho3dmE1ZFLuH"
      },
      "execution_count": null,
      "outputs": []
    },
    {
      "cell_type": "code",
      "source": [
        "order_1 =get_order()"
      ],
      "metadata": {
        "colab": {
          "base_uri": "https://localhost:8080/"
        },
        "id": "7x-6Y7b7FxbW",
        "outputId": "6b443696-0e4b-4f86-b629-d8ffb7d117ab"
      },
      "execution_count": null,
      "outputs": [
        {
          "name": "stdout",
          "output_type": "stream",
          "text": [
            "what do you want?burger\n"
          ]
        }
      ]
    },
    {
      "cell_type": "code",
      "source": [
        "order_1"
      ],
      "metadata": {
        "colab": {
          "base_uri": "https://localhost:8080/"
        },
        "id": "kf0aIIb6F5hv",
        "outputId": "484b1841-cd0b-41b5-cbcf-2d45d4dd66c5"
      },
      "execution_count": null,
      "outputs": [
        {
          "output_type": "execute_result",
          "data": {
            "text/plain": [
              "['burger']"
            ]
          },
          "metadata": {},
          "execution_count": 20
        }
      ]
    },
    {
      "cell_type": "code",
      "source": [
        "#2. 주문 + 수량\n",
        "def get_order_amount():\n",
        "  order = input(\"what do you want?\")\n",
        "  amount = int(input(\"how many?\"))\n",
        "  order_list = {order:amount}\n",
        "  return order_list"
      ],
      "metadata": {
        "id": "LbAksM_PF9eX"
      },
      "execution_count": null,
      "outputs": []
    },
    {
      "cell_type": "code",
      "source": [
        "get_order()"
      ],
      "metadata": {
        "colab": {
          "base_uri": "https://localhost:8080/"
        },
        "id": "q9pQEaUmGO_f",
        "outputId": "2761f625-af5b-4ac7-ee39-5845577e5c6d"
      },
      "execution_count": null,
      "outputs": [
        {
          "name": "stdout",
          "output_type": "stream",
          "text": [
            "what do you want?burger\n"
          ]
        },
        {
          "output_type": "execute_result",
          "data": {
            "text/plain": [
              "['burger']"
            ]
          },
          "metadata": {},
          "execution_count": 23
        }
      ]
    },
    {
      "cell_type": "code",
      "source": [
        "get_order_amount()"
      ],
      "metadata": {
        "colab": {
          "base_uri": "https://localhost:8080/"
        },
        "id": "LU5nWDeUGV9Y",
        "outputId": "5aeafc0f-f434-41cb-a608-2fcfdad11fa7"
      },
      "execution_count": null,
      "outputs": [
        {
          "name": "stdout",
          "output_type": "stream",
          "text": [
            "what do you want?burger\n",
            "how many?3\n"
          ]
        },
        {
          "output_type": "execute_result",
          "data": {
            "text/plain": [
              "{'burger': 3}"
            ]
          },
          "metadata": {},
          "execution_count": 24
        }
      ]
    },
    {
      "cell_type": "code",
      "source": [
        "# 3. 메뉴 정보를 외부에서 받아서 주문 받는 함수\n",
        "def get_order_with_menu(menu): #menu는 리스트\n",
        "  for m in menu:\n",
        "    print(m)\n",
        "  order = input(\"what do you want?\")\n",
        "  amount = int(input(\"how many?\"))\n",
        "  order_list = {order:amount}\n",
        "  return order_list\n"
      ],
      "metadata": {
        "id": "BPkrUwO0Gbsy"
      },
      "execution_count": null,
      "outputs": []
    },
    {
      "cell_type": "code",
      "source": [
        "many_menu = ['coffee', '밥', '케이크']\n",
        "order_12=get_order_with_menu(many_menu)"
      ],
      "metadata": {
        "colab": {
          "base_uri": "https://localhost:8080/"
        },
        "id": "2Xxw7cZDGzHD",
        "outputId": "e4399486-0a73-4308-cdab-c1f50e633e0e"
      },
      "execution_count": null,
      "outputs": [
        {
          "name": "stdout",
          "output_type": "stream",
          "text": [
            "coffee\n",
            "what do you want?비스켓\n",
            "how many?2\n"
          ]
        }
      ]
    },
    {
      "cell_type": "code",
      "source": [
        "order_12"
      ],
      "metadata": {
        "colab": {
          "base_uri": "https://localhost:8080/"
        },
        "id": "Po61KrsuHPQm",
        "outputId": "02828fa5-8bfb-4914-9f6f-c8692dde920d"
      },
      "execution_count": null,
      "outputs": [
        {
          "output_type": "execute_result",
          "data": {
            "text/plain": [
              "{'비스켓': 2}"
            ]
          },
          "metadata": {},
          "execution_count": 27
        }
      ]
    },
    {
      "cell_type": "code",
      "source": [
        "#subtraction function\n",
        "def subtraction():\n",
        "  a = int(input(\"first number:\"))\n",
        "  b = int(input(\"second number:\"))\n",
        "  result = a-b\n",
        "  return result\n"
      ],
      "metadata": {
        "id": "Fmy7fedJHUVb"
      },
      "execution_count": null,
      "outputs": []
    },
    {
      "cell_type": "code",
      "source": [
        "subtraction()"
      ],
      "metadata": {
        "colab": {
          "base_uri": "https://localhost:8080/"
        },
        "id": "VhVCZXYmJCVI",
        "outputId": "62b619e1-08f4-494a-9088-0ed4672070c0"
      },
      "execution_count": null,
      "outputs": [
        {
          "name": "stdout",
          "output_type": "stream",
          "text": [
            "first number:2\n",
            "second number:3\n"
          ]
        },
        {
          "output_type": "execute_result",
          "data": {
            "text/plain": [
              "-1"
            ]
          },
          "metadata": {},
          "execution_count": 34
        }
      ]
    },
    {
      "cell_type": "code",
      "source": [
        "#multiplication function\n",
        "def multiplication():\n",
        "  a = int(input(\"first number:\"))\n",
        "  b = int(input(\"second number:\"))\n",
        "  result = a*b\n",
        "  return result"
      ],
      "metadata": {
        "id": "2UVO6OxFJGiZ"
      },
      "execution_count": null,
      "outputs": []
    },
    {
      "cell_type": "code",
      "source": [
        "multiplication()"
      ],
      "metadata": {
        "colab": {
          "base_uri": "https://localhost:8080/"
        },
        "id": "JHdBSkOLJz4o",
        "outputId": "e34993fa-4e00-4802-ab5c-d23367deb8ca"
      },
      "execution_count": null,
      "outputs": [
        {
          "name": "stdout",
          "output_type": "stream",
          "text": [
            "first number:3\n",
            "second number:4\n"
          ]
        },
        {
          "output_type": "execute_result",
          "data": {
            "text/plain": [
              "12"
            ]
          },
          "metadata": {},
          "execution_count": 36
        }
      ]
    },
    {
      "cell_type": "code",
      "source": [
        "#division function\n",
        "def division():\n",
        "  a = int(input(\"first number:\"))\n",
        "  b = int(input(\"second number:\"))\n",
        "  result = a/b\n",
        "  return result"
      ],
      "metadata": {
        "id": "3mRIG3oFJ1O8"
      },
      "execution_count": null,
      "outputs": []
    },
    {
      "cell_type": "code",
      "source": [
        "division()"
      ],
      "metadata": {
        "colab": {
          "base_uri": "https://localhost:8080/"
        },
        "id": "oHzqT93HJ-Cj",
        "outputId": "1ccad4fa-99aa-4dcb-c8aa-4820aeb688b4"
      },
      "execution_count": null,
      "outputs": [
        {
          "name": "stdout",
          "output_type": "stream",
          "text": [
            "first number:6\n",
            "second number:5\n"
          ]
        },
        {
          "output_type": "execute_result",
          "data": {
            "text/plain": [
              "1.2"
            ]
          },
          "metadata": {},
          "execution_count": 38
        }
      ]
    },
    {
      "cell_type": "code",
      "source": [
        "#몫 function\n",
        "def 몫():\n",
        "  a = int(input(\"first number:\"))\n",
        "  b = int(input(\"second number:\"))\n",
        "  result = a//b\n",
        "  return result"
      ],
      "metadata": {
        "id": "hRR-TCp4J_iH"
      },
      "execution_count": null,
      "outputs": []
    },
    {
      "cell_type": "code",
      "source": [
        "몫()"
      ],
      "metadata": {
        "colab": {
          "base_uri": "https://localhost:8080/"
        },
        "id": "JSE29PnNKM0x",
        "outputId": "37e4aff0-501b-49fc-fb6f-cec66e33ef0b"
      },
      "execution_count": null,
      "outputs": [
        {
          "name": "stdout",
          "output_type": "stream",
          "text": [
            "first number:2\n",
            "second number:4\n"
          ]
        },
        {
          "output_type": "execute_result",
          "data": {
            "text/plain": [
              "0"
            ]
          },
          "metadata": {},
          "execution_count": 40
        }
      ]
    },
    {
      "cell_type": "code",
      "source": [
        "몫()"
      ],
      "metadata": {
        "colab": {
          "base_uri": "https://localhost:8080/"
        },
        "id": "Jta9QSf8KOgc",
        "outputId": "66efa89e-4e25-46f7-c62a-93ad56298a01"
      },
      "execution_count": null,
      "outputs": [
        {
          "name": "stdout",
          "output_type": "stream",
          "text": [
            "first number:18\n",
            "second number:2\n"
          ]
        },
        {
          "output_type": "execute_result",
          "data": {
            "text/plain": [
              "9"
            ]
          },
          "metadata": {},
          "execution_count": 41
        }
      ]
    },
    {
      "cell_type": "code",
      "source": [
        "#remainder function\n",
        "def remainder():\n",
        "  a = int(input(\"first number:\"))\n",
        "  b = int(input(\"second number:\"))\n",
        "  result = a%b\n",
        "  return result"
      ],
      "metadata": {
        "id": "osIzesEDKRCi"
      },
      "execution_count": null,
      "outputs": []
    },
    {
      "cell_type": "code",
      "source": [
        "remainder()"
      ],
      "metadata": {
        "colab": {
          "base_uri": "https://localhost:8080/"
        },
        "id": "RcKiu7SLKaon",
        "outputId": "fe15c80d-b363-4822-a0f7-fc1f7b596bff"
      },
      "execution_count": null,
      "outputs": [
        {
          "name": "stdout",
          "output_type": "stream",
          "text": [
            "first number:4\n",
            "second number:3\n"
          ]
        },
        {
          "output_type": "execute_result",
          "data": {
            "text/plain": [
              "1"
            ]
          },
          "metadata": {},
          "execution_count": 43
        }
      ]
    },
    {
      "cell_type": "code",
      "source": [
        "def cal(y,a,b):\n",
        "    if y == '+':\n",
        "        print(a+b)\n",
        "    elif y == '-':\n",
        "        print(a-b)\n",
        "    elif y == '*':\n",
        "        print(a*b)\n",
        "    elif y == '/':\n",
        "        print(a/b)\n",
        "    else:\n",
        "        print('연산식을 넣으시오')\n",
        "a = int(input('숫자를 넣으시오'))\n",
        "b = int(input('숫자를 넣으시오'))\n",
        "exp = input('''\n",
        "연산식을 넣으시오\n",
        "연산식은 '*','-','+','/'만 가능합니다\n",
        "''')\n",
        "cal(exp,a,b)"
      ],
      "metadata": {
        "colab": {
          "base_uri": "https://localhost:8080/"
        },
        "id": "Bj-rjXDzKcJG",
        "outputId": "509584b0-e4af-4f2d-80b3-854b2d4a62c7"
      },
      "execution_count": null,
      "outputs": [
        {
          "output_type": "stream",
          "name": "stdout",
          "text": [
            "숫자를 넣으시오7\n",
            "숫자를 넣으시오5\n",
            "\n",
            "연산식을 넣으시오\n",
            "연산식은 '*','-','+','/'만 가능합니다\n",
            "+\n",
            "12\n"
          ]
        }
      ]
    },
    {
      "cell_type": "code",
      "source": [
        "menu = {'burger':3000, 'salad':2000, 'chicken': 5000}\n",
        "def get_order_amount():\n",
        "  order = input(\"what do you want?\")\n",
        "  amount = int(input(\"how many?\"))\n",
        "  order_list = {order:amount}\n",
        "  print(f\"{order_list}\")\n",
        "  order_price = menu[order] * amount\n",
        "  return order_price\n"
      ],
      "metadata": {
        "id": "VHL0kscSOW3r"
      },
      "execution_count": null,
      "outputs": []
    },
    {
      "cell_type": "code",
      "source": [
        "get_order_amount()"
      ],
      "metadata": {
        "colab": {
          "base_uri": "https://localhost:8080/"
        },
        "id": "ZLuGxTMyS0Om",
        "outputId": "d1a7c4d0-427e-4e6d-f3c3-c7798d70e75a"
      },
      "execution_count": null,
      "outputs": [
        {
          "output_type": "stream",
          "name": "stdout",
          "text": [
            "what do you want?burger\n",
            "how many?2\n",
            "{'burger': 2}\n"
          ]
        },
        {
          "output_type": "execute_result",
          "data": {
            "text/plain": [
              "6000"
            ]
          },
          "metadata": {},
          "execution_count": 57
        }
      ]
    },
    {
      "cell_type": "code",
      "source": [
        "#1 매개변수에 기본값을 주는 경우 default parameter"
      ],
      "metadata": {
        "id": "d8UISStnS30P"
      },
      "execution_count": 58,
      "outputs": []
    },
    {
      "cell_type": "code",
      "source": [
        "def func(a=1,b=2):\n",
        "  ret = a + b\n",
        "  return ret"
      ],
      "metadata": {
        "id": "rJfP0PXeXG2R"
      },
      "execution_count": 59,
      "outputs": []
    },
    {
      "cell_type": "code",
      "source": [
        "func()"
      ],
      "metadata": {
        "colab": {
          "base_uri": "https://localhost:8080/",
          "height": 170
        },
        "id": "fMEFtBmGXP3u",
        "outputId": "c621a6bc-110d-4dcf-eb87-5838d583de69"
      },
      "execution_count": 63,
      "outputs": [
        {
          "output_type": "error",
          "ename": "TypeError",
          "evalue": "ignored",
          "traceback": [
            "\u001b[0;31m---------------------------------------------------------------------------\u001b[0m",
            "\u001b[0;31mTypeError\u001b[0m                                 Traceback (most recent call last)",
            "\u001b[0;32m<ipython-input-63-bd1982955a12>\u001b[0m in \u001b[0;36m<module>\u001b[0;34m\u001b[0m\n\u001b[0;32m----> 1\u001b[0;31m \u001b[0mfunc\u001b[0m\u001b[0;34m(\u001b[0m\u001b[0;34m)\u001b[0m\u001b[0;34m\u001b[0m\u001b[0;34m\u001b[0m\u001b[0m\n\u001b[0m",
            "\u001b[0;31mTypeError\u001b[0m: func() missing 2 required positional arguments: 'a' and 'b'"
          ]
        }
      ]
    },
    {
      "cell_type": "code",
      "source": [
        "def cafe(order = '커피'):\n",
        "  print('주문하신', order, '가 나왔습니다.')"
      ],
      "metadata": {
        "id": "Nx5f2MvVXSKr"
      },
      "execution_count": 64,
      "outputs": []
    },
    {
      "cell_type": "code",
      "source": [
        "cafe('라떼')"
      ],
      "metadata": {
        "colab": {
          "base_uri": "https://localhost:8080/"
        },
        "id": "7PnjqsC-X6Rb",
        "outputId": "5bdfce71-02b3-48d8-d7f9-61eb190033aa"
      },
      "execution_count": 66,
      "outputs": [
        {
          "output_type": "stream",
          "name": "stdout",
          "text": [
            "주문하신 라떼 가 나왔습니다.\n"
          ]
        }
      ]
    },
    {
      "cell_type": "code",
      "source": [
        "#2. 무제한 인자 받기\n",
        "def test(*args):\n",
        "  print(args)\n",
        "  print(type(args))\n"
      ],
      "metadata": {
        "id": "_iPMjH9NX8uh"
      },
      "execution_count": 77,
      "outputs": []
    },
    {
      "cell_type": "code",
      "source": [
        "test(1,2,3,4)"
      ],
      "metadata": {
        "colab": {
          "base_uri": "https://localhost:8080/"
        },
        "id": "yyzsiCEuYVC6",
        "outputId": "847fd1ee-10ea-4ba4-e845-7e0c685862d9"
      },
      "execution_count": 78,
      "outputs": [
        {
          "output_type": "stream",
          "name": "stdout",
          "text": [
            "(1, 2, 3, 4)\n",
            "<class 'tuple'>\n"
          ]
        }
      ]
    },
    {
      "cell_type": "code",
      "source": [
        "def test1(*args):\n",
        "  for a in args:\n",
        "    print(a)"
      ],
      "metadata": {
        "id": "NM3yxcapYYwl"
      },
      "execution_count": 79,
      "outputs": []
    },
    {
      "cell_type": "code",
      "source": [
        "test1(1,2,3)"
      ],
      "metadata": {
        "colab": {
          "base_uri": "https://localhost:8080/"
        },
        "id": "EnFu2IEGY3UQ",
        "outputId": "61586f1c-9fb9-4183-9809-13f430428bc1"
      },
      "execution_count": 81,
      "outputs": [
        {
          "output_type": "stream",
          "name": "stdout",
          "text": [
            "1\n",
            "2\n",
            "3\n"
          ]
        }
      ]
    },
    {
      "cell_type": "code",
      "source": [
        "a=[1,2,3,4,]\n",
        "test1(a)"
      ],
      "metadata": {
        "colab": {
          "base_uri": "https://localhost:8080/"
        },
        "id": "8HHd1109Y4wV",
        "outputId": "e7031e28-f589-4207-8f44-acfb476b0c05"
      },
      "execution_count": 82,
      "outputs": [
        {
          "output_type": "stream",
          "name": "stdout",
          "text": [
            "[1, 2, 3, 4]\n"
          ]
        }
      ]
    },
    {
      "cell_type": "code",
      "source": [
        "test1(*a)#test1(1,2,3,4)"
      ],
      "metadata": {
        "colab": {
          "base_uri": "https://localhost:8080/"
        },
        "id": "dq4oZCxAZDPm",
        "outputId": "be348155-e1ca-45bc-ca51-4711410b973b"
      },
      "execution_count": 83,
      "outputs": [
        {
          "output_type": "stream",
          "name": "stdout",
          "text": [
            "1\n",
            "2\n",
            "3\n",
            "4\n"
          ]
        }
      ]
    },
    {
      "cell_type": "code",
      "source": [
        "#3. 일부분 무제한 인자 받기\n",
        "def test2(a, *args):\n",
        "  print(a,\"의 메뉴를 보여드립니다\")\n",
        "  for i in args:\n",
        "    print(i)\n"
      ],
      "metadata": {
        "id": "O4WmWUOoZUoA"
      },
      "execution_count": 87,
      "outputs": []
    },
    {
      "cell_type": "code",
      "source": [
        "menu = ['coffee','tea']\n",
        "cafe_name = '스타벅스_서초점'\n",
        "\n",
        "test2(cafe_name, *menu)"
      ],
      "metadata": {
        "colab": {
          "base_uri": "https://localhost:8080/"
        },
        "id": "72sobu1FZvLb",
        "outputId": "dc2f9c4d-2196-4e48-fe00-05d8ec30b2c2"
      },
      "execution_count": 88,
      "outputs": [
        {
          "output_type": "stream",
          "name": "stdout",
          "text": [
            "스타벅스_서초점 의 메뉴를 보여드립니다\n",
            "coffee\n",
            "tea\n"
          ]
        }
      ]
    },
    {
      "cell_type": "code",
      "source": [
        "#4. 무제한 인자받기, dictionary\n",
        "def test3(**args):\n",
        "  print(type(args))\n",
        "  print(args)"
      ],
      "metadata": {
        "id": "ZWbRku8cZ8Dw"
      },
      "execution_count": 89,
      "outputs": []
    },
    {
      "cell_type": "code",
      "source": [
        "test3(1,2)"
      ],
      "metadata": {
        "colab": {
          "base_uri": "https://localhost:8080/",
          "height": 170
        },
        "id": "HdOh_tcgaf2h",
        "outputId": "ebf381b5-d26e-49a1-a2a1-b8cdca3bcd05"
      },
      "execution_count": 90,
      "outputs": [
        {
          "output_type": "error",
          "ename": "TypeError",
          "evalue": "ignored",
          "traceback": [
            "\u001b[0;31m---------------------------------------------------------------------------\u001b[0m",
            "\u001b[0;31mTypeError\u001b[0m                                 Traceback (most recent call last)",
            "\u001b[0;32m<ipython-input-90-b01dbce23255>\u001b[0m in \u001b[0;36m<module>\u001b[0;34m\u001b[0m\n\u001b[0;32m----> 1\u001b[0;31m \u001b[0mtest3\u001b[0m\u001b[0;34m(\u001b[0m\u001b[0;36m1\u001b[0m\u001b[0;34m,\u001b[0m\u001b[0;36m2\u001b[0m\u001b[0;34m)\u001b[0m\u001b[0;34m\u001b[0m\u001b[0;34m\u001b[0m\u001b[0m\n\u001b[0m",
            "\u001b[0;31mTypeError\u001b[0m: test3() takes 0 positional arguments but 2 were given"
          ]
        }
      ]
    },
    {
      "cell_type": "code",
      "source": [
        "test3(a=1,b=2)"
      ],
      "metadata": {
        "colab": {
          "base_uri": "https://localhost:8080/"
        },
        "id": "UXT6FJeValy-",
        "outputId": "1c34065a-ed88-488b-84dc-3a1769a33f42"
      },
      "execution_count": 91,
      "outputs": [
        {
          "output_type": "stream",
          "name": "stdout",
          "text": [
            "<class 'dict'>\n",
            "{'a': 1, 'b': 2}\n"
          ]
        }
      ]
    },
    {
      "cell_type": "code",
      "source": [
        "d = {'coffee':4500, 'cake':12000}\n",
        "test3(d)"
      ],
      "metadata": {
        "colab": {
          "base_uri": "https://localhost:8080/",
          "height": 188
        },
        "id": "8KMPDbHVasZR",
        "outputId": "7481be78-3835-4971-b41e-2c6c4a8991d7"
      },
      "execution_count": 92,
      "outputs": [
        {
          "output_type": "error",
          "ename": "TypeError",
          "evalue": "ignored",
          "traceback": [
            "\u001b[0;31m---------------------------------------------------------------------------\u001b[0m",
            "\u001b[0;31mTypeError\u001b[0m                                 Traceback (most recent call last)",
            "\u001b[0;32m<ipython-input-92-ad45c73ce670>\u001b[0m in \u001b[0;36m<module>\u001b[0;34m\u001b[0m\n\u001b[1;32m      1\u001b[0m \u001b[0md\u001b[0m \u001b[0;34m=\u001b[0m \u001b[0;34m{\u001b[0m\u001b[0;34m'coffee'\u001b[0m\u001b[0;34m:\u001b[0m\u001b[0;36m4500\u001b[0m\u001b[0;34m,\u001b[0m \u001b[0;34m'cake'\u001b[0m\u001b[0;34m:\u001b[0m\u001b[0;36m12000\u001b[0m\u001b[0;34m}\u001b[0m\u001b[0;34m\u001b[0m\u001b[0;34m\u001b[0m\u001b[0m\n\u001b[0;32m----> 2\u001b[0;31m \u001b[0mtest3\u001b[0m\u001b[0;34m(\u001b[0m\u001b[0md\u001b[0m\u001b[0;34m)\u001b[0m\u001b[0;34m\u001b[0m\u001b[0;34m\u001b[0m\u001b[0m\n\u001b[0m",
            "\u001b[0;31mTypeError\u001b[0m: test3() takes 0 positional arguments but 1 was given"
          ]
        }
      ]
    },
    {
      "cell_type": "code",
      "source": [
        "test3(**d)"
      ],
      "metadata": {
        "colab": {
          "base_uri": "https://localhost:8080/"
        },
        "id": "r3EQsBkTa-Pr",
        "outputId": "cd0cb20c-c6bc-4c67-ca7c-b0571c89a4e6"
      },
      "execution_count": 93,
      "outputs": [
        {
          "output_type": "stream",
          "name": "stdout",
          "text": [
            "<class 'dict'>\n",
            "{'coffee': 4500, 'cake': 12000}\n"
          ]
        }
      ]
    },
    {
      "cell_type": "code",
      "source": [
        "#한국 스타벅스 메뉴에 피자 20000 치킨 30000"
      ],
      "metadata": {
        "id": "RMVN8eO2bBGb"
      },
      "execution_count": 105,
      "outputs": []
    },
    {
      "cell_type": "code",
      "source": [
        "kor_menu = {'coffee':5000, 'cake':40000}\n",
        "\n",
        "def add_menu(**args):\n",
        "  #들어온 여러 메뉴 추가 정보를 하나씩 빼면서 \n",
        "  for k, v in args.items(): #args.keys(), args.values()\n",
        "  #기존 메뉴에 넣기\n",
        "  #dic[key] = value\n",
        "    kor_menu[k] = v"
      ],
      "metadata": {
        "id": "krIExvsyb2xB"
      },
      "execution_count": 107,
      "outputs": []
    },
    {
      "cell_type": "code",
      "source": [
        "add_menu(피자=20000, 치킨=30000)"
      ],
      "metadata": {
        "id": "kpytn5RzcRpj"
      },
      "execution_count": 109,
      "outputs": []
    },
    {
      "cell_type": "code",
      "source": [
        "kor_menu"
      ],
      "metadata": {
        "colab": {
          "base_uri": "https://localhost:8080/"
        },
        "id": "isRDvqKlfcXJ",
        "outputId": "691066dd-1fe3-419d-ba6f-7d4a49b0f094"
      },
      "execution_count": 110,
      "outputs": [
        {
          "output_type": "execute_result",
          "data": {
            "text/plain": [
              "{'coffee': 5000, 'cake': 40000, '피자': 20000, '치킨': 30000}"
            ]
          },
          "metadata": {},
          "execution_count": 110
        }
      ]
    },
    {
      "cell_type": "code",
      "source": [],
      "metadata": {
        "id": "ts7d15LJfsu3"
      },
      "execution_count": null,
      "outputs": []
    }
  ]
}