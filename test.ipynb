{
 "cells": [
  {
   "cell_type": "code",
   "execution_count": 2,
   "metadata": {},
   "outputs": [
    {
     "name": "stdout",
     "output_type": "stream",
     "text": [
      "     order_id customer_id  category_id  product_id order_date  quantity   \n",
      "0         555   customer9            4          19 2023-04-08         6  \\\n",
      "1         557  customer10            3          21 2023-01-07         3   \n",
      "2         558   customer8            4          16 2023-03-12         9   \n",
      "3         559  customer12            4          12 2023-02-01         1   \n",
      "4         560   customer1            1           4 2023-02-01         5   \n",
      "..        ...         ...          ...         ...        ...       ...   \n",
      "323       900   customer2            1          31 2022-11-17         4   \n",
      "324       901   customer6            2          36 2022-08-14         2   \n",
      "325       902   customer8            2           8 2022-01-03         1   \n",
      "326       903  customer13            4          12 2022-06-22         8   \n",
      "327       904   customer2            1          32 2022-12-29         6   \n",
      "\n",
      "     total_amount  \n",
      "0        23394000  \n",
      "1            3000  \n",
      "2         4491000  \n",
      "3         2899000  \n",
      "4            3000  \n",
      "..            ...  \n",
      "323         28000  \n",
      "324         16000  \n",
      "325          6000  \n",
      "326      23192000  \n",
      "327         48000  \n",
      "\n",
      "[328 rows x 7 columns]\n"
     ]
    }
   ],
   "source": [
    "import pandas as pd\n",
    "from sqlalchemy import create_engine\n",
    "\n",
    "HOST = '3.35.138.95'\n",
    "USER = 'myname'\n",
    "PW = '1234'\n",
    "DATABASE = 'mydb'\n",
    "PORT = '52505'\n",
    "\n",
    "# Create a SQLAlchemy engine object\n",
    "engine = create_engine(f'mysql+pymysql://{USER}:{PW}@{HOST}:{PORT}/{DATABASE}')\n",
    "\n",
    "# Query the order_his table and store the results in a dataframe\n",
    "df = pd.read_sql_table('order_his', engine)\n",
    "\n",
    "# Print the dataframe\n",
    "print(df)\n"
   ]
  },
  {
   "cell_type": "code",
   "execution_count": 3,
   "metadata": {},
   "outputs": [
    {
     "name": "stdout",
     "output_type": "stream",
     "text": [
      "CSV file created successfully.\n"
     ]
    }
   ],
   "source": [
    "import pandas as pd\n",
    "from sqlalchemy import create_engine\n",
    "\n",
    "HOST = '3.35.138.95'\n",
    "USER = 'myname'\n",
    "PW = '1234'\n",
    "DATABASE = 'mydb'\n",
    "PORT = '52505'\n",
    "\n",
    "# Create a SQLAlchemy engine object\n",
    "engine = create_engine(f'mysql+pymysql://{USER}:{PW}@{HOST}:{PORT}/{DATABASE}')\n",
    "\n",
    "# Query the order_his table and store the results in a dataframe\n",
    "df = pd.read_sql_table('order_his', engine)\n",
    "\n",
    "# Write the dataframe to a CSV file\n",
    "df.to_csv('order_his.csv', index=False)\n",
    "\n",
    "# Print a message to indicate the CSV file was created\n",
    "print('CSV file created successfully.')\n"
   ]
  },
  {
   "cell_type": "code",
   "execution_count": 8,
   "metadata": {},
   "outputs": [],
   "source": [
    "order_history = pd.read_csv('order_his.csv')"
   ]
  },
  {
   "cell_type": "code",
   "execution_count": 9,
   "metadata": {},
   "outputs": [
    {
     "name": "stdout",
     "output_type": "stream",
     "text": [
      "     order_id customer_id  category_id  product_id  order_date  quantity   \n",
      "0         555   customer9            4          19  2023-04-08         6  \\\n",
      "1         557  customer10            3          21  2023-01-07         3   \n",
      "2         558   customer8            4          16  2023-03-12         9   \n",
      "3         559  customer12            4          12  2023-02-01         1   \n",
      "4         560   customer1            1           4  2023-02-01         5   \n",
      "..        ...         ...          ...         ...         ...       ...   \n",
      "323       900   customer2            1          31  2022-11-17         4   \n",
      "324       901   customer6            2          36  2022-08-14         2   \n",
      "325       902   customer8            2           8  2022-01-03         1   \n",
      "326       903  customer13            4          12  2022-06-22         8   \n",
      "327       904   customer2            1          32  2022-12-29         6   \n",
      "\n",
      "     total_amount  \n",
      "0        23394000  \n",
      "1            3000  \n",
      "2         4491000  \n",
      "3         2899000  \n",
      "4            3000  \n",
      "..            ...  \n",
      "323         28000  \n",
      "324         16000  \n",
      "325          6000  \n",
      "326      23192000  \n",
      "327         48000  \n",
      "\n",
      "[328 rows x 7 columns]\n"
     ]
    }
   ],
   "source": [
    "print(order_history)"
   ]
  },
  {
   "cell_type": "code",
   "execution_count": 10,
   "metadata": {},
   "outputs": [
    {
     "data": {
      "text/plain": [
       "(328, 7)"
      ]
     },
     "execution_count": 10,
     "metadata": {},
     "output_type": "execute_result"
    }
   ],
   "source": [
    "order_history.shape"
   ]
  },
  {
   "cell_type": "code",
   "execution_count": 11,
   "metadata": {},
   "outputs": [
    {
     "data": {
      "text/plain": [
       "Index(['order_id', 'customer_id', 'category_id', 'product_id', 'order_date',\n",
       "       'quantity', 'total_amount'],\n",
       "      dtype='object')"
      ]
     },
     "execution_count": 11,
     "metadata": {},
     "output_type": "execute_result"
    }
   ],
   "source": [
    "order_history.columns"
   ]
  },
  {
   "cell_type": "code",
   "execution_count": 12,
   "metadata": {},
   "outputs": [
    {
     "data": {
      "text/plain": [
       "order_id        0\n",
       "customer_id     0\n",
       "category_id     0\n",
       "product_id      0\n",
       "order_date      0\n",
       "quantity        0\n",
       "total_amount    0\n",
       "dtype: int64"
      ]
     },
     "execution_count": 12,
     "metadata": {},
     "output_type": "execute_result"
    }
   ],
   "source": [
    "order_history.isnull().sum()"
   ]
  },
  {
   "cell_type": "code",
   "execution_count": 13,
   "metadata": {},
   "outputs": [
    {
     "name": "stdout",
     "output_type": "stream",
     "text": [
      "CSV file created successfully.\n"
     ]
    }
   ],
   "source": [
    "# Query the order_his table and store the results in a dataframe\n",
    "df = pd.read_sql_table('market_list', engine)\n",
    "\n",
    "# Write the dataframe to a CSV file\n",
    "df.to_csv('market_list.csv', index=False)\n",
    "\n",
    "# Print a message to indicate the CSV file was created\n",
    "print('CSV file created successfully.')"
   ]
  },
  {
   "cell_type": "code",
   "execution_count": 14,
   "metadata": {},
   "outputs": [],
   "source": [
    "market_list = pd.read_csv('market_list.csv')"
   ]
  },
  {
   "cell_type": "code",
   "execution_count": 15,
   "metadata": {},
   "outputs": [
    {
     "name": "stdout",
     "output_type": "stream",
     "text": [
      "    id  category_id       product_name  product_price   \n",
      "0    1            1                새우깡            900  \\\n",
      "1    2            1               돼지고기           1000   \n",
      "2    3            1                소고기          10000   \n",
      "3    4            1                 라면            600   \n",
      "4    5            1                 치킨          20000   \n",
      "5    6            2               황금칫솔           5000   \n",
      "6    7            2         clorox 20L          15000   \n",
      "7    8            2          아이좋아 50mL           6000   \n",
      "8    9            2           옥시크린 15L          25000   \n",
      "9   10            2         이치카치카 30mg           3500   \n",
      "10  11            4          LG 그램 노트북        1699000   \n",
      "11  12            4        MacBook Pro        2899000   \n",
      "12  13            4        Dell XPS 13        2199000   \n",
      "13  14            4          삼성 무풍 에어컨        1540000   \n",
      "14  15            4      LG 퓨리케어 공기청정기        1110000   \n",
      "15  16            4             삼성 냉장고         499000   \n",
      "16  17            4     LG 65인치 스마트 TV        1499000   \n",
      "17  18            4    삼성 55인치 QLED TV        1699000   \n",
      "18  19            4  Sony 65인치 OLED TV        3899000   \n",
      "19  20            4      LG 5.1채널 사운드바         799000   \n",
      "20  21            3                 개껌           1000   \n",
      "21  22            3               고양이껌           1000   \n",
      "22  23            3              강아지목줄           2500   \n",
      "23  24            3                 소간          15000   \n",
      "24  25            3                돼지간          10000   \n",
      "25  26            1                 사과           3000   \n",
      "26  27            1                  배           4000   \n",
      "27  28            1                토마토           2500   \n",
      "28  29            1                 오이           1500   \n",
      "29  30            1                 포도           5000   \n",
      "30  31            1                 딸기           7000   \n",
      "31  32            1               파인애플           8000   \n",
      "32  33            1                 수박          10000   \n",
      "33  34            2                 치약           3000   \n",
      "34  35            2                면도기          15000   \n",
      "35  36            2                 샴푸           8000   \n",
      "36  37            2                 로션          10000   \n",
      "37  38            3              강아지사료          10000   \n",
      "38  39            3              고양이사료           8000   \n",
      "39  40            3               배변패드           5000   \n",
      "40  41            3                 안경          15000   \n",
      "41  42            4                 TV         500000   \n",
      "42  43            4                에어컨         600000   \n",
      "43  44            1               딸기우유           1000   \n",
      "44  45            3              강아지패드           2000   \n",
      "45  46            1            김치찌개 라면           1500   \n",
      "46  47            3              고양이털공           3000   \n",
      "47  48            3                 시계          40000   \n",
      "48  49            3               아이워치         150000   \n",
      "49  50            1                 감자            300   \n",
      "\n",
      "                  product_details  product_count  \n",
      "0                         500kcal           1431  \n",
      "1                             g 당            942  \n",
      "2                             g 당           1956  \n",
      "3                              매움            538  \n",
      "4                             한마리          29993  \n",
      "5               부드러운 촉감에 깨끗해지는 칫솔            114  \n",
      "6                             세정제         199984  \n",
      "7                향균 99% 라일락향 펌프비누         199968  \n",
      "8                              세제         199978  \n",
      "9                           어린이치약         199995  \n",
      "10  LG전자 그램 14Z90P-GA56K 플래티넘 그레이            362  \n",
      "11           애플 2021 맥북프로 14형 1TB             23  \n",
      "12         델 XPS 13 9310-NX9T54KB            613  \n",
      "13        삼성전자 AR9500T 형 1등급 14평형            175  \n",
      "14       LG전자 PURI CARE AS95GDWV0            486  \n",
      "15           삼성전자 소형 가정용 냉장고 100L            139  \n",
      "16                LG전자 65UN730CNA            465  \n",
      "17      삼성전자 55인치 QLED QN55Q70TAF            858  \n",
      "18          소니 65인치 OLED KD-65A8G            364  \n",
      "19           LG전자 5.1채널 사운드바 SK9Y            316  \n",
      "20                         강아지 간식            163  \n",
      "21                         고양이 간식            514  \n",
      "22                 강아지를 제어할수있는 도구            604  \n",
      "23                   말린 소간, 동물 간식           5242  \n",
      "24                  말린 돼지간, 동물 간식            357  \n",
      "25                          충주사과.             63  \n",
      "26                         생산지 국산             46  \n",
      "27                          대저토마토            105  \n",
      "28                         아삭이 고추              6  \n",
      "29                         샤인 머스켓             43  \n",
      "30                         생산지 국산         199996  \n",
      "31                        생산지 동남아             14  \n",
      "32                         생산지 국산         199992  \n",
      "33              입 안을 깨끗하게 청소해줍니다.             22  \n",
      "34                            질렉트         199963  \n",
      "35                          쿨민트샴푸             24  \n",
      "36                          수분보습용         199992  \n",
      "37                           대형견용             37  \n",
      "38                 건강한 성장을 도와줍니다.             66  \n",
      "39          배변 시 편리하게 사용할 수 있습니다.             16  \n",
      "40          아름다운 디자인과 편안함이 일품입니다.         199976  \n",
      "41             고화질 화면으로 시청을 즐기세요.         199995  \n",
      "42                     시원한 바람이 나옴         199972  \n",
      "43                         딸기맛 우유         199998  \n",
      "44                       강아지 배변패드         199973  \n",
      "45                       김치찌개맛 라면         199966  \n",
      "46                           고양이볼         199985  \n",
      "47                         군전용 시계            548  \n",
      "48                           애플워치         199964  \n",
      "49                          대홍단감자         199986  \n"
     ]
    }
   ],
   "source": [
    "print(market_list)"
   ]
  },
  {
   "cell_type": "code",
   "execution_count": 17,
   "metadata": {},
   "outputs": [
    {
     "data": {
      "text/plain": [
       "Index(['id', 'category_id', 'product_name', 'product_price', 'product_details',\n",
       "       'product_count'],\n",
       "      dtype='object')"
      ]
     },
     "execution_count": 17,
     "metadata": {},
     "output_type": "execute_result"
    }
   ],
   "source": [
    "market_list.columns"
   ]
  },
  {
   "cell_type": "code",
   "execution_count": 18,
   "metadata": {},
   "outputs": [
    {
     "name": "stdout",
     "output_type": "stream",
     "text": [
      "Original dataframe:\n",
      "     id  category_id       product_name  product_price   \n",
      "0    1            1                새우깡            900  \\\n",
      "1    2            1               돼지고기           1000   \n",
      "2    3            1                소고기          10000   \n",
      "3    4            1                 라면            600   \n",
      "4    5            1                 치킨          20000   \n",
      "5    6            2               황금칫솔           5000   \n",
      "6    7            2         clorox 20L          15000   \n",
      "7    8            2          아이좋아 50mL           6000   \n",
      "8    9            2           옥시크린 15L          25000   \n",
      "9   10            2         이치카치카 30mg           3500   \n",
      "10  11            4          LG 그램 노트북        1699000   \n",
      "11  12            4        MacBook Pro        2899000   \n",
      "12  13            4        Dell XPS 13        2199000   \n",
      "13  14            4          삼성 무풍 에어컨        1540000   \n",
      "14  15            4      LG 퓨리케어 공기청정기        1110000   \n",
      "15  16            4             삼성 냉장고         499000   \n",
      "16  17            4     LG 65인치 스마트 TV        1499000   \n",
      "17  18            4    삼성 55인치 QLED TV        1699000   \n",
      "18  19            4  Sony 65인치 OLED TV        3899000   \n",
      "19  20            4      LG 5.1채널 사운드바         799000   \n",
      "20  21            3                 개껌           1000   \n",
      "21  22            3               고양이껌           1000   \n",
      "22  23            3              강아지목줄           2500   \n",
      "23  24            3                 소간          15000   \n",
      "24  25            3                돼지간          10000   \n",
      "25  26            1                 사과           3000   \n",
      "26  27            1                  배           4000   \n",
      "27  28            1                토마토           2500   \n",
      "28  29            1                 오이           1500   \n",
      "29  30            1                 포도           5000   \n",
      "30  31            1                 딸기           7000   \n",
      "31  32            1               파인애플           8000   \n",
      "32  33            1                 수박          10000   \n",
      "33  34            2                 치약           3000   \n",
      "34  35            2                면도기          15000   \n",
      "35  36            2                 샴푸           8000   \n",
      "36  37            2                 로션          10000   \n",
      "37  38            3              강아지사료          10000   \n",
      "38  39            3              고양이사료           8000   \n",
      "39  40            3               배변패드           5000   \n",
      "40  41            3                 안경          15000   \n",
      "41  42            4                 TV         500000   \n",
      "42  43            4                에어컨         600000   \n",
      "43  44            1               딸기우유           1000   \n",
      "44  45            3              강아지패드           2000   \n",
      "45  46            1            김치찌개 라면           1500   \n",
      "46  47            3              고양이털공           3000   \n",
      "47  48            3                 시계          40000   \n",
      "48  49            3               아이워치         150000   \n",
      "49  50            1                 감자            300   \n",
      "\n",
      "                  product_details  product_count  \n",
      "0                         500kcal           1431  \n",
      "1                             g 당            942  \n",
      "2                             g 당           1956  \n",
      "3                              매움            538  \n",
      "4                             한마리          29993  \n",
      "5               부드러운 촉감에 깨끗해지는 칫솔            114  \n",
      "6                             세정제         199984  \n",
      "7                향균 99% 라일락향 펌프비누         199968  \n",
      "8                              세제         199978  \n",
      "9                           어린이치약         199995  \n",
      "10  LG전자 그램 14Z90P-GA56K 플래티넘 그레이            362  \n",
      "11           애플 2021 맥북프로 14형 1TB             23  \n",
      "12         델 XPS 13 9310-NX9T54KB            613  \n",
      "13        삼성전자 AR9500T 형 1등급 14평형            175  \n",
      "14       LG전자 PURI CARE AS95GDWV0            486  \n",
      "15           삼성전자 소형 가정용 냉장고 100L            139  \n",
      "16                LG전자 65UN730CNA            465  \n",
      "17      삼성전자 55인치 QLED QN55Q70TAF            858  \n",
      "18          소니 65인치 OLED KD-65A8G            364  \n",
      "19           LG전자 5.1채널 사운드바 SK9Y            316  \n",
      "20                         강아지 간식            163  \n",
      "21                         고양이 간식            514  \n",
      "22                 강아지를 제어할수있는 도구            604  \n",
      "23                   말린 소간, 동물 간식           5242  \n",
      "24                  말린 돼지간, 동물 간식            357  \n",
      "25                          충주사과.             63  \n",
      "26                         생산지 국산             46  \n",
      "27                          대저토마토            105  \n",
      "28                         아삭이 고추              6  \n",
      "29                         샤인 머스켓             43  \n",
      "30                         생산지 국산         199996  \n",
      "31                        생산지 동남아             14  \n",
      "32                         생산지 국산         199992  \n",
      "33              입 안을 깨끗하게 청소해줍니다.             22  \n",
      "34                            질렉트         199963  \n",
      "35                          쿨민트샴푸             24  \n",
      "36                          수분보습용         199992  \n",
      "37                           대형견용             37  \n",
      "38                 건강한 성장을 도와줍니다.             66  \n",
      "39          배변 시 편리하게 사용할 수 있습니다.             16  \n",
      "40          아름다운 디자인과 편안함이 일품입니다.         199976  \n",
      "41             고화질 화면으로 시청을 즐기세요.         199995  \n",
      "42                     시원한 바람이 나옴         199972  \n",
      "43                         딸기맛 우유         199998  \n",
      "44                       강아지 배변패드         199973  \n",
      "45                       김치찌개맛 라면         199966  \n",
      "46                           고양이볼         199985  \n",
      "47                         군전용 시계            548  \n",
      "48                           애플워치         199964  \n",
      "49                          대홍단감자         199986  \n",
      "\n",
      "Renamed dataframe:\n",
      "     product_id  category_id       product_name  product_price   \n",
      "0            1            1                새우깡            900  \\\n",
      "1            2            1               돼지고기           1000   \n",
      "2            3            1                소고기          10000   \n",
      "3            4            1                 라면            600   \n",
      "4            5            1                 치킨          20000   \n",
      "5            6            2               황금칫솔           5000   \n",
      "6            7            2         clorox 20L          15000   \n",
      "7            8            2          아이좋아 50mL           6000   \n",
      "8            9            2           옥시크린 15L          25000   \n",
      "9           10            2         이치카치카 30mg           3500   \n",
      "10          11            4          LG 그램 노트북        1699000   \n",
      "11          12            4        MacBook Pro        2899000   \n",
      "12          13            4        Dell XPS 13        2199000   \n",
      "13          14            4          삼성 무풍 에어컨        1540000   \n",
      "14          15            4      LG 퓨리케어 공기청정기        1110000   \n",
      "15          16            4             삼성 냉장고         499000   \n",
      "16          17            4     LG 65인치 스마트 TV        1499000   \n",
      "17          18            4    삼성 55인치 QLED TV        1699000   \n",
      "18          19            4  Sony 65인치 OLED TV        3899000   \n",
      "19          20            4      LG 5.1채널 사운드바         799000   \n",
      "20          21            3                 개껌           1000   \n",
      "21          22            3               고양이껌           1000   \n",
      "22          23            3              강아지목줄           2500   \n",
      "23          24            3                 소간          15000   \n",
      "24          25            3                돼지간          10000   \n",
      "25          26            1                 사과           3000   \n",
      "26          27            1                  배           4000   \n",
      "27          28            1                토마토           2500   \n",
      "28          29            1                 오이           1500   \n",
      "29          30            1                 포도           5000   \n",
      "30          31            1                 딸기           7000   \n",
      "31          32            1               파인애플           8000   \n",
      "32          33            1                 수박          10000   \n",
      "33          34            2                 치약           3000   \n",
      "34          35            2                면도기          15000   \n",
      "35          36            2                 샴푸           8000   \n",
      "36          37            2                 로션          10000   \n",
      "37          38            3              강아지사료          10000   \n",
      "38          39            3              고양이사료           8000   \n",
      "39          40            3               배변패드           5000   \n",
      "40          41            3                 안경          15000   \n",
      "41          42            4                 TV         500000   \n",
      "42          43            4                에어컨         600000   \n",
      "43          44            1               딸기우유           1000   \n",
      "44          45            3              강아지패드           2000   \n",
      "45          46            1            김치찌개 라면           1500   \n",
      "46          47            3              고양이털공           3000   \n",
      "47          48            3                 시계          40000   \n",
      "48          49            3               아이워치         150000   \n",
      "49          50            1                 감자            300   \n",
      "\n",
      "                  product_details  product_count  \n",
      "0                         500kcal           1431  \n",
      "1                             g 당            942  \n",
      "2                             g 당           1956  \n",
      "3                              매움            538  \n",
      "4                             한마리          29993  \n",
      "5               부드러운 촉감에 깨끗해지는 칫솔            114  \n",
      "6                             세정제         199984  \n",
      "7                향균 99% 라일락향 펌프비누         199968  \n",
      "8                              세제         199978  \n",
      "9                           어린이치약         199995  \n",
      "10  LG전자 그램 14Z90P-GA56K 플래티넘 그레이            362  \n",
      "11           애플 2021 맥북프로 14형 1TB             23  \n",
      "12         델 XPS 13 9310-NX9T54KB            613  \n",
      "13        삼성전자 AR9500T 형 1등급 14평형            175  \n",
      "14       LG전자 PURI CARE AS95GDWV0            486  \n",
      "15           삼성전자 소형 가정용 냉장고 100L            139  \n",
      "16                LG전자 65UN730CNA            465  \n",
      "17      삼성전자 55인치 QLED QN55Q70TAF            858  \n",
      "18          소니 65인치 OLED KD-65A8G            364  \n",
      "19           LG전자 5.1채널 사운드바 SK9Y            316  \n",
      "20                         강아지 간식            163  \n",
      "21                         고양이 간식            514  \n",
      "22                 강아지를 제어할수있는 도구            604  \n",
      "23                   말린 소간, 동물 간식           5242  \n",
      "24                  말린 돼지간, 동물 간식            357  \n",
      "25                          충주사과.             63  \n",
      "26                         생산지 국산             46  \n",
      "27                          대저토마토            105  \n",
      "28                         아삭이 고추              6  \n",
      "29                         샤인 머스켓             43  \n",
      "30                         생산지 국산         199996  \n",
      "31                        생산지 동남아             14  \n",
      "32                         생산지 국산         199992  \n",
      "33              입 안을 깨끗하게 청소해줍니다.             22  \n",
      "34                            질렉트         199963  \n",
      "35                          쿨민트샴푸             24  \n",
      "36                          수분보습용         199992  \n",
      "37                           대형견용             37  \n",
      "38                 건강한 성장을 도와줍니다.             66  \n",
      "39          배변 시 편리하게 사용할 수 있습니다.             16  \n",
      "40          아름다운 디자인과 편안함이 일품입니다.         199976  \n",
      "41             고화질 화면으로 시청을 즐기세요.         199995  \n",
      "42                     시원한 바람이 나옴         199972  \n",
      "43                         딸기맛 우유         199998  \n",
      "44                       강아지 배변패드         199973  \n",
      "45                       김치찌개맛 라면         199966  \n",
      "46                           고양이볼         199985  \n",
      "47                         군전용 시계            548  \n",
      "48                           애플워치         199964  \n",
      "49                          대홍단감자         199986  \n"
     ]
    }
   ],
   "source": [
    "\n",
    "\n",
    "\n",
    "# Print the original dataframe\n",
    "print(\"Original dataframe:\\n\", market_list)\n",
    "\n",
    "# Rename the column names\n",
    "market_list = market_list.rename(columns={'id': 'product_id'})\n",
    "\n",
    "# Print the renamed dataframe\n",
    "print(\"\\nRenamed dataframe:\\n\", market_list)\n"
   ]
  },
  {
   "cell_type": "code",
   "execution_count": 19,
   "metadata": {},
   "outputs": [
    {
     "name": "stdout",
     "output_type": "stream",
     "text": [
      "     order_id customer_id  category_id_x  product_id  order_date  quantity   \n",
      "0         555   customer9              4          19  2023-04-08         6  \\\n",
      "1         571  customer12              4          19  2023-03-25         1   \n",
      "2         597  customer14              4          19  2023-04-10         4   \n",
      "3         676   customer5              4          19  2023-03-07         3   \n",
      "4         831   customer4              4          19  2022-01-20         8   \n",
      "..        ...         ...            ...         ...         ...       ...   \n",
      "323       848   customer9              3          41  2022-11-11         6   \n",
      "324       876   customer1              3          41  2022-05-24         1   \n",
      "325       759   customer7              1           5  2022-07-07         1   \n",
      "326       894   customer4              1           5  2022-03-09         7   \n",
      "327       893   customer2              1          44  2023-03-02         2   \n",
      "\n",
      "     total_amount  category_id_y       product_name  product_price   \n",
      "0        23394000              4  Sony 65인치 OLED TV        3899000  \\\n",
      "1         3899000              4  Sony 65인치 OLED TV        3899000   \n",
      "2        15596000              4  Sony 65인치 OLED TV        3899000   \n",
      "3        11697000              4  Sony 65인치 OLED TV        3899000   \n",
      "4        31192000              4  Sony 65인치 OLED TV        3899000   \n",
      "..            ...            ...                ...            ...   \n",
      "323         90000              3                 안경          15000   \n",
      "324         15000              3                 안경          15000   \n",
      "325         20000              1                 치킨          20000   \n",
      "326        140000              1                 치킨          20000   \n",
      "327          2000              1               딸기우유           1000   \n",
      "\n",
      "           product_details  product_count  \n",
      "0    소니 65인치 OLED KD-65A8G            364  \n",
      "1    소니 65인치 OLED KD-65A8G            364  \n",
      "2    소니 65인치 OLED KD-65A8G            364  \n",
      "3    소니 65인치 OLED KD-65A8G            364  \n",
      "4    소니 65인치 OLED KD-65A8G            364  \n",
      "..                     ...            ...  \n",
      "323  아름다운 디자인과 편안함이 일품입니다.         199976  \n",
      "324  아름다운 디자인과 편안함이 일품입니다.         199976  \n",
      "325                    한마리          29993  \n",
      "326                    한마리          29993  \n",
      "327                 딸기맛 우유         199998  \n",
      "\n",
      "[328 rows x 12 columns]\n"
     ]
    }
   ],
   "source": [
    "# Merge the two dataframes based on the product_id column\n",
    "merged_df = pd.merge(order_history, market_list, on='product_id')\n",
    "\n",
    "# Print the merged dataframe\n",
    "print(merged_df)"
   ]
  },
  {
   "cell_type": "code",
   "execution_count": 20,
   "metadata": {},
   "outputs": [
    {
     "name": "stdout",
     "output_type": "stream",
     "text": [
      "order_date\n",
      "April        39482500\n",
      "August        6035000\n",
      "December     40955000\n",
      "February      2543600\n",
      "January      50367600\n",
      "July          9434500\n",
      "June         23503500\n",
      "March         4187200\n",
      "May          22138500\n",
      "November     45468200\n",
      "October      18141000\n",
      "September    13731400\n",
      "Name: total_amount, dtype: int64\n"
     ]
    }
   ],
   "source": [
    "# Convert the 'order_date' column to datetime format\n",
    "merged_df['order_date'] = pd.to_datetime(merged_df['order_date'])\n",
    "\n",
    "# Filter the dataframe to only include rows from January to December 2022\n",
    "sales_2022 = merged_df[(merged_df['order_date'].dt.year == 2022) & (merged_df['order_date'].dt.month <= 12)]\n",
    "\n",
    "# Group the dataframe by month and sum the total_amount column\n",
    "monthly_sales = sales_2022.groupby(sales_2022['order_date'].dt.strftime('%B'))['total_amount'].sum()\n",
    "\n",
    "# Print the monthly sales dataframe\n",
    "print(monthly_sales)"
   ]
  },
  {
   "cell_type": "code",
   "execution_count": 21,
   "metadata": {},
   "outputs": [
    {
     "data": {
      "image/png": "[encoded data removed]",
      "text/plain": [
       "<Figure size 640x480 with 1 Axes>"
      ]
     },
     "metadata": {},
     "output_type": "display_data"
    }
   ],
   "source": [
    "import matplotlib.pyplot as plt\n",
    "# Plot the monthly sales as a bar graph\n",
    "plt.bar(monthly_sales.index, monthly_sales.values)\n",
    "\n",
    "# Set the title and axis labels\n",
    "plt.title('Monthly Sales')\n",
    "plt.xlabel('Month')\n",
    "plt.ylabel('Total Amount')\n",
    "\n",
    "# Show the plot\n",
    "plt.show()"
   ]
  },
  {
   "cell_type": "code",
   "execution_count": 22,
   "metadata": {},
   "outputs": [
    {
     "data": {
      "text/plain": [
       "<Figure size 1000x600 with 0 Axes>"
      ]
     },
     "metadata": {},
     "output_type": "display_data"
    }
   ],
   "source": [
    "# Create a new figure object with a larger size\n",
    "fig = plt.figure(figsize=(10, 6))"
   ]
  },
  {
   "cell_type": "code",
   "execution_count": 24,
   "metadata": {},
   "outputs": [],
   "source": [
    "# Show the plot\n",
    "plt.show()"
   ]
  },
  {
   "cell_type": "code",
   "execution_count": 26,
   "metadata": {},
   "outputs": [
    {
     "data": {
      "image/png": "[encoded data removed]",
      "text/plain": [
       "<Figure size 1500x600 with 1 Axes>"
      ]
     },
     "metadata": {},
     "output_type": "display_data"
    }
   ],
   "source": [
    "# Create a new figure object with a larger size\n",
    "fig = plt.figure(figsize=(15, 6))\n",
    "\n",
    "# Plot the monthly sales as a bar graph\n",
    "plt.bar(monthly_sales.index, monthly_sales.values)\n",
    "\n",
    "# Set the title and axis labels\n",
    "plt.title('Monthly Sales')\n",
    "plt.xlabel('Month')\n",
    "plt.ylabel('Total Amount')\n",
    "\n",
    "# Show the plot\n",
    "plt.show()"
   ]
  },
  {
   "cell_type": "code",
   "execution_count": 1,
   "metadata": {},
   "outputs": [
    {
     "name": "stdout",
     "output_type": "stream",
     "text": [
      "3.7.1\n"
     ]
    }
   ],
   "source": [
    "import matplotlib\n",
    "print(matplotlib.__version__)\n"
   ]
  }
 ],
 "metadata": {
  "kernelspec": {
   "display_name": "Python 3",
   "language": "python",
   "name": "python3"
  },
  "language_info": {
   "codemirror_mode": {
    "name": "ipython",
    "version": 3
   },
   "file_extension": ".py",
   "mimetype": "text/x-python",
   "name": "python",
   "nbconvert_exporter": "python",
   "pygments_lexer": "ipython3",
   "version": "3.8.0"
  },
  "orig_nbformat": 4
 },
 "nbformat": 4,
 "nbformat_minor": 2
}
