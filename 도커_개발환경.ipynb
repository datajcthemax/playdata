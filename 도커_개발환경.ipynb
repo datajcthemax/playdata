{
  "nbformat": 4,
  "nbformat_minor": 0,
  "metadata": {
    "colab": {
      "provenance": [],
      "authorship_tag": "ABX9TyPCqmjE/QALlMlh92KVJ+Oh",
      "include_colab_link": true
    },
    "kernelspec": {
      "name": "python3",
      "display_name": "Python 3"
    },
    "language_info": {
      "name": "python"
    }
  },
  "cells": [
    {
      "cell_type": "markdown",
      "metadata": {
        "id": "view-in-github",
        "colab_type": "text"
      },
      "source": [
        "<a href=\"https://colab.research.google.com/github/datajcthemax/playdata/blob/main/%EB%8F%84%EC%BB%A4_%EA%B0%9C%EB%B0%9C%ED%99%98%EA%B2%BD.ipynb\" target=\"_parent\"><img src=\"https://colab.research.google.com/assets/colab-badge.svg\" alt=\"Open In Colab\"/></a>"
      ]
    },
    {
      "cell_type": "markdown",
      "source": [
        "1. d-mario24라는 가상의 회사에 팀 루이지 깃헙에 초대 받고 다른 사람 초대하기\n",
        "2. 루이지팀에서 사용하는 로컬 개발환경 맞추기 ex: omyzsh, agnoster 테마 사용 등등\n",
        "3. https://onestone-dev.tistory.com/63 맥 사용 시 이사이트 참조.\n",
        "4. 리눅스 커맨드 복습: ssh scp, cat, grep, cut, >, >>, cron, vi\n",
        "5. docker는 애플리케이션을 신속하게 구축, 테스트 및 배포할 수 있는 소프트웨어 플랫폼입니다.\n",
        "6. docker설치후 airflow 연결 https://towardsdatascience.com/run-airflow-docker-1b83a57616fb\n",
        "7. 깃헙 개발환경 맞추기\n",
        "8. https://usingu.co.kr/frontend/git/%ED%95%9C-%EC%BB%B4%ED%93%A8%ED%84%B0%EC%97%90%EC%84%9C-github-%EA%B3%84%EC%A0%95-%EC%97%AC%EB%9F%AC%EA%B0%9C-%EC%82%AC%EC%9A%A9%ED%95%98%EA%B8%B0/ 여기서 ssh키 생성하고 깃헙 추가하는거 하고\n",
        "9. 강사님한테 https://github.com/d-mario24 초대 해달라고 하셈.\n",
        "10. https://semver.org/lang/ko/ 읽어보셈\n",
        "11. home에서 mkdir code 만들고. 내 이름 폴더 만들고 mkdir jai. git clone git@github.com:d-mario24/etl.git.\n",
        "12. cd etl <-etl 들어감\n",
        "  git branch v0.1.0/jai <- 새로운 브랜치  생성\n",
        "  git checkout v0.1.0/jai <- 새로운 브랜치 들어감\n",
        "  git push <- 푸시\n",
        "  git push --set-upstream origin v0.1.0/jai <- 깃허브 푸시\n",
        "  vi README.md <- 리드미 만듬\n",
        "  git add . <- 깃 애드\n",
        "  git commit -m \"hi\" <- 깃 커밋 엠 \"변경사항\"\n",
        "  git push <- 푸시\n",
        "13. 깃허브 내 브랜치로 가서 풀리퀘스트 작성해보기 \n"
      ],
      "metadata": {
        "id": "hhFGY8MJ_C57"
      }
    },
    {
      "cell_type": "code",
      "execution_count": null,
      "metadata": {
        "id": "rLw3qH91-xHg"
      },
      "outputs": [],
      "source": [
        "\n"
      ]
    }
  ]
}