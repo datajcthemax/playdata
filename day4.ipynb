{
  "nbformat": 4,
  "nbformat_minor": 0,
  "metadata": {
    "colab": {
      "provenance": [],
      "authorship_tag": "ABX9TyOOvL495m1OVKnMAglmRfS8",
      "include_colab_link": true
    },
    "kernelspec": {
      "name": "python3",
      "display_name": "Python 3"
    },
    "language_info": {
      "name": "python"
    }
  },
  "cells": [
    {
      "cell_type": "markdown",
      "metadata": {
        "id": "view-in-github",
        "colab_type": "text"
      },
      "source": [
        "<a href=\"https://colab.research.google.com/github/datajcthemax/playdata/blob/main/day4.ipynb\" target=\"_parent\"><img src=\"https://colab.research.google.com/assets/colab-badge.svg\" alt=\"Open In Colab\"/></a>"
      ]
    },
    {
      "cell_type": "code",
      "execution_count": null,
      "metadata": {
        "id": "dFw1MU7608FT"
      },
      "outputs": [],
      "source": []
    },
    {
      "cell_type": "markdown",
      "source": [
        "#오늘의 계획\n",
        "-클래스\n",
        "-모듈, 패키지, 파일입출력\n",
        "-스타벅스 키오스크 마무리 -클래스, 함수 전체 담아서\n",
        "-다른 주제?!\n",
        "\n"
      ],
      "metadata": {
        "id": "r3mhO5eM5vLS"
      }
    },
    {
      "cell_type": "code",
      "source": [
        "#클래스 상속"
      ],
      "metadata": {
        "id": "j6dSPG4Z6RZo"
      },
      "execution_count": 1,
      "outputs": []
    },
    {
      "cell_type": "code",
      "source": [
        "class Cafe:\n",
        "  def __init__(self, name):\n",
        "    self.name = name\n",
        "  def sell(self):\n",
        "    print('주문하신 커피 나왔습니다.')\n",
        "  def __str__(self):\n",
        "    return self.name\n",
        "  def __repr__(self):\n",
        "    return self.name+\"~~!!\"\n",
        "  "
      ],
      "metadata": {
        "id": "s70GTnsQ84Wn"
      },
      "execution_count": 42,
      "outputs": []
    },
    {
      "cell_type": "code",
      "source": [
        "cafe = Cafe('스타벅스 서초점')"
      ],
      "metadata": {
        "id": "f98HsRwW9Q6l"
      },
      "execution_count": 43,
      "outputs": []
    },
    {
      "cell_type": "code",
      "source": [
        "cafe. name"
      ],
      "metadata": {
        "colab": {
          "base_uri": "https://localhost:8080/",
          "height": 36
        },
        "id": "r5H7ophN9X5_",
        "outputId": "b63ed948-f0fc-4dc1-a947-4ca691b50b5e"
      },
      "execution_count": 44,
      "outputs": [
        {
          "output_type": "execute_result",
          "data": {
            "text/plain": [
              "'스타벅스 서초점'"
            ],
            "application/vnd.google.colaboratory.intrinsic+json": {
              "type": "string"
            }
          },
          "metadata": {},
          "execution_count": 44
        }
      ]
    },
    {
      "cell_type": "code",
      "source": [
        "cafe.sell()"
      ],
      "metadata": {
        "colab": {
          "base_uri": "https://localhost:8080/"
        },
        "id": "dUmftWJ39bZF",
        "outputId": "7fad8486-6afe-426a-d051-c0662c751be1"
      },
      "execution_count": 45,
      "outputs": [
        {
          "output_type": "stream",
          "name": "stdout",
          "text": [
            "주문하신 커피 나왔습니다.\n"
          ]
        }
      ]
    },
    {
      "cell_type": "code",
      "source": [
        "print(cafe)"
      ],
      "metadata": {
        "colab": {
          "base_uri": "https://localhost:8080/"
        },
        "id": "6yGaH2L99d99",
        "outputId": "7641b74a-6d77-442d-84c1-ff6125ad9f35"
      },
      "execution_count": 46,
      "outputs": [
        {
          "output_type": "stream",
          "name": "stdout",
          "text": [
            "스타벅스 서초점\n"
          ]
        }
      ]
    },
    {
      "cell_type": "code",
      "source": [
        "class EdiyaCafe(Cafe):\n",
        "  def __init__(self,name):\n",
        "    super().__init__(name) #\n",
        "  def sing(self):\n",
        "    print('즐거운 노래부르기')"
      ],
      "metadata": {
        "id": "1NC4YbpP9j-z"
      },
      "execution_count": 29,
      "outputs": []
    },
    {
      "cell_type": "code",
      "source": [
        "ediya_cafe = EdiyaCafe('이디아 서초점')"
      ],
      "metadata": {
        "id": "JRb3DooJ-qeS"
      },
      "execution_count": 30,
      "outputs": []
    },
    {
      "cell_type": "code",
      "source": [
        "ediya_cafe.name"
      ],
      "metadata": {
        "colab": {
          "base_uri": "https://localhost:8080/",
          "height": 36
        },
        "id": "46Xby5pQ_FWm",
        "outputId": "cb2c5923-5bed-4523-f644-2ca521528ed4"
      },
      "execution_count": 31,
      "outputs": [
        {
          "output_type": "execute_result",
          "data": {
            "text/plain": [
              "'이디아 서초점'"
            ],
            "application/vnd.google.colaboratory.intrinsic+json": {
              "type": "string"
            }
          },
          "metadata": {},
          "execution_count": 31
        }
      ]
    },
    {
      "cell_type": "code",
      "source": [
        "ediya_cafe.sell()"
      ],
      "metadata": {
        "colab": {
          "base_uri": "https://localhost:8080/"
        },
        "id": "GKzyw0ni_Ic_",
        "outputId": "a2e15925-7efd-482b-85ef-0f67877bb513"
      },
      "execution_count": 32,
      "outputs": [
        {
          "output_type": "stream",
          "name": "stdout",
          "text": [
            "주문하신 커피 나왔습니다.\n"
          ]
        }
      ]
    },
    {
      "cell_type": "code",
      "source": [
        "ediya_cafe.sing()"
      ],
      "metadata": {
        "colab": {
          "base_uri": "https://localhost:8080/"
        },
        "id": "9N3rQ_YZ_L8p",
        "outputId": "7878726f-752f-43d0-d835-57b5f9a9235c"
      },
      "execution_count": 33,
      "outputs": [
        {
          "output_type": "stream",
          "name": "stdout",
          "text": [
            "즐거운 노래부르기\n"
          ]
        }
      ]
    },
    {
      "cell_type": "code",
      "source": [
        "class TwoCafe(EdiyaCafe):\n",
        "  def __init__(self, name, address='미국 뉴욕시'):\n",
        "    super().__init__(name)\n",
        "    self.address = address"
      ],
      "metadata": {
        "id": "WnVkl59T_k3q"
      },
      "execution_count": 38,
      "outputs": []
    },
    {
      "cell_type": "code",
      "source": [
        "two_cafe = TwoCafe('뉴욕점')"
      ],
      "metadata": {
        "id": "liKaf7Sq__Mk"
      },
      "execution_count": 39,
      "outputs": []
    },
    {
      "cell_type": "code",
      "source": [
        "two_cafe.sing()"
      ],
      "metadata": {
        "colab": {
          "base_uri": "https://localhost:8080/"
        },
        "id": "ajCnw0lpADb-",
        "outputId": "9f9f4f1f-60ee-494a-ae35-1631edcab243"
      },
      "execution_count": 40,
      "outputs": [
        {
          "output_type": "stream",
          "name": "stdout",
          "text": [
            "즐거운 노래부르기\n"
          ]
        }
      ]
    },
    {
      "cell_type": "code",
      "source": [
        "two_cafe.address"
      ],
      "metadata": {
        "colab": {
          "base_uri": "https://localhost:8080/",
          "height": 36
        },
        "id": "61g9jSkRAQUw",
        "outputId": "0c6a63a4-96ef-4b12-b644-9c5c92cadaed"
      },
      "execution_count": 41,
      "outputs": [
        {
          "output_type": "execute_result",
          "data": {
            "text/plain": [
              "'미국 뉴욕시'"
            ],
            "application/vnd.google.colaboratory.intrinsic+json": {
              "type": "string"
            }
          },
          "metadata": {},
          "execution_count": 41
        }
      ]
    },
    {
      "cell_type": "code",
      "source": [
        "class StarCafe(EdiyaCafe):\n",
        "  def __init__(self, name, menu: list=[]): #inner comment\n",
        "    super().__init__(name)\n",
        "    self.menu = menu\n",
        "\n",
        "  #기존 함수 덮어쓰기\n",
        "  def sing(self):\n",
        "    print(\"즐거운 노래와 함께 춤도 춥니다\")"
      ],
      "metadata": {
        "id": "NpvoHRnfASkK"
      },
      "execution_count": 52,
      "outputs": []
    },
    {
      "cell_type": "code",
      "source": [
        "star_cafe = StarCafe('프랑스 ')"
      ],
      "metadata": {
        "id": "rXrg2MkUBbL3"
      },
      "execution_count": 54,
      "outputs": []
    },
    {
      "cell_type": "code",
      "source": [
        "star_cafe.name, star_cafe.menu"
      ],
      "metadata": {
        "colab": {
          "base_uri": "https://localhost:8080/"
        },
        "id": "ZPPbGHdFBhL3",
        "outputId": "765c9eb7-c51b-464d-e032-ba255bb36ac2"
      },
      "execution_count": 55,
      "outputs": [
        {
          "output_type": "execute_result",
          "data": {
            "text/plain": [
              "('프랑스 ', [])"
            ]
          },
          "metadata": {},
          "execution_count": 55
        }
      ]
    },
    {
      "cell_type": "code",
      "source": [
        "star_cafe.sing()"
      ],
      "metadata": {
        "colab": {
          "base_uri": "https://localhost:8080/"
        },
        "id": "jol3GLTtBplx",
        "outputId": "be00dc10-4908-441a-f3d2-6506d9b92a0f"
      },
      "execution_count": 57,
      "outputs": [
        {
          "output_type": "stream",
          "name": "stdout",
          "text": [
            "즐거운 노래와 함께 춤도 춥니다\n"
          ]
        }
      ]
    },
    {
      "cell_type": "code",
      "source": [],
      "metadata": {
        "id": "fWwBvtjpBuyl"
      },
      "execution_count": null,
      "outputs": []
    },
    {
      "cell_type": "markdown",
      "source": [
        "##실습\n",
        "##배민 프로그램 - 가계관리 : ....\n",
        "##클래스 상속!\n",
        "##슬랙에 올려주세요 간단한 설명과 함께"
      ],
      "metadata": {
        "id": "bMheDoqfCA7k"
      }
    },
    {
      "cell_type": "code",
      "source": [
        "class Delivery:\n",
        "  def __init__(self, name, address, menu=[]):\n",
        "    self.name = name\n",
        "    self.address = address\n",
        "    self.menu = menu\n",
        "  def clean(self):\n",
        "    print('매장청소 매일매일')\n",
        "  def smile(self):\n",
        "    print('웃어')\n",
        "  def __str__(self):\n",
        "    return self.name\n",
        "  def __repr__(self):\n",
        "    return self.name+\"~~!!\""
      ],
      "metadata": {
        "id": "Ox6ROAImCPae"
      },
      "execution_count": 133,
      "outputs": []
    },
    {
      "cell_type": "code",
      "source": [
        "baemin_nambu = Delivery('배민','남부터미널점', menu=['닭도리탕','비빔밥','삼겹살'])"
      ],
      "metadata": {
        "id": "RRB6igdIGHwt"
      },
      "execution_count": 156,
      "outputs": []
    },
    {
      "cell_type": "code",
      "source": [
        "baemin_nambu.name"
      ],
      "metadata": {
        "colab": {
          "base_uri": "https://localhost:8080/",
          "height": 36
        },
        "id": "qRSGfGewHwEe",
        "outputId": "a9d6f695-bf63-4de6-df6f-0ef25bbcbde0"
      },
      "execution_count": 135,
      "outputs": [
        {
          "output_type": "execute_result",
          "data": {
            "text/plain": [
              "'배민'"
            ],
            "application/vnd.google.colaboratory.intrinsic+json": {
              "type": "string"
            }
          },
          "metadata": {},
          "execution_count": 135
        }
      ]
    },
    {
      "cell_type": "code",
      "source": [
        "baemin_nambu.address"
      ],
      "metadata": {
        "colab": {
          "base_uri": "https://localhost:8080/",
          "height": 36
        },
        "id": "TGSUFIH3HyZN",
        "outputId": "0d36ee06-ae4c-4f08-e215-8cce55ea36fe"
      },
      "execution_count": 136,
      "outputs": [
        {
          "output_type": "execute_result",
          "data": {
            "text/plain": [
              "'남부터미널점'"
            ],
            "application/vnd.google.colaboratory.intrinsic+json": {
              "type": "string"
            }
          },
          "metadata": {},
          "execution_count": 136
        }
      ]
    },
    {
      "cell_type": "code",
      "source": [
        "baemin_nambu.clean()"
      ],
      "metadata": {
        "colab": {
          "base_uri": "https://localhost:8080/"
        },
        "id": "rv1pReMNH1pL",
        "outputId": "cc58fe4e-3ab3-4585-c564-75ac0637c9ea"
      },
      "execution_count": 137,
      "outputs": [
        {
          "output_type": "stream",
          "name": "stdout",
          "text": [
            "매장청소 매일매일\n"
          ]
        }
      ]
    },
    {
      "cell_type": "code",
      "source": [
        "baemin_nambu.menu"
      ],
      "metadata": {
        "colab": {
          "base_uri": "https://localhost:8080/"
        },
        "id": "iLB3GdaNIpu_",
        "outputId": "524997d1-8845-455b-cf02-4778165bb838"
      },
      "execution_count": 138,
      "outputs": [
        {
          "output_type": "execute_result",
          "data": {
            "text/plain": [
              "['닭도리탕', '비빔밥', '삼겹살']"
            ]
          },
          "metadata": {},
          "execution_count": 138
        }
      ]
    },
    {
      "cell_type": "code",
      "source": [
        "baemin_nambu.smile()"
      ],
      "metadata": {
        "colab": {
          "base_uri": "https://localhost:8080/"
        },
        "id": "KqW8JRlSKB9c",
        "outputId": "3d0ca476-0a32-4e3d-ce7c-b4eec6dd1023"
      },
      "execution_count": 139,
      "outputs": [
        {
          "output_type": "stream",
          "name": "stdout",
          "text": [
            "웃어\n"
          ]
        }
      ]
    },
    {
      "cell_type": "code",
      "source": [
        "class FastDelivery(Delivery):\n",
        "  def __init__(self, name, address, menu=[]):\n",
        "    super().__init__(name)\n",
        "    self.address = address\n",
        "    self.menu = menu\n",
        "  def sing(self):\n",
        "    print('즐거운 노래부르기')"
      ],
      "metadata": {
        "id": "kDRkJENeKc3-"
      },
      "execution_count": 149,
      "outputs": []
    },
    {
      "cell_type": "code",
      "source": [
        "fast_delivery = FastDelivery('교대점')"
      ],
      "metadata": {
        "colab": {
          "base_uri": "https://localhost:8080/",
          "height": 170
        },
        "id": "Ozm6hW_dLgZT",
        "outputId": "f91f27e8-fd9e-49d0-ac0b-e280fea772f5"
      },
      "execution_count": 155,
      "outputs": [
        {
          "output_type": "error",
          "ename": "TypeError",
          "evalue": "ignored",
          "traceback": [
            "\u001b[0;31m---------------------------------------------------------------------------\u001b[0m",
            "\u001b[0;31mTypeError\u001b[0m                                 Traceback (most recent call last)",
            "\u001b[0;32m<ipython-input-155-dfc75ab803c6>\u001b[0m in \u001b[0;36m<cell line: 1>\u001b[0;34m()\u001b[0m\n\u001b[0;32m----> 1\u001b[0;31m \u001b[0mfast_delivery\u001b[0m \u001b[0;34m=\u001b[0m \u001b[0mFastDelivery\u001b[0m\u001b[0;34m(\u001b[0m\u001b[0;34m'교대점'\u001b[0m\u001b[0;34m)\u001b[0m\u001b[0;34m\u001b[0m\u001b[0;34m\u001b[0m\u001b[0m\n\u001b[0m",
            "\u001b[0;31mTypeError\u001b[0m: __init__() missing 1 required positional argument: 'address'"
          ]
        }
      ]
    },
    {
      "cell_type": "code",
      "source": [],
      "metadata": {
        "id": "3U0uzZksLqrs"
      },
      "execution_count": null,
      "outputs": []
    }
  ]
}