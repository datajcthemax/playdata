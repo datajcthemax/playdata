{
  "nbformat": 4,
  "nbformat_minor": 0,
  "metadata": {
    "colab": {
      "provenance": [],
      "authorship_tag": "ABX9TyMsI4ngDpNV3PJFQgSMZJ70",
      "include_colab_link": true
    },
    "kernelspec": {
      "name": "python3",
      "display_name": "Python 3"
    },
    "language_info": {
      "name": "python"
    }
  },
  "cells": [
    {
      "cell_type": "markdown",
      "metadata": {
        "id": "view-in-github",
        "colab_type": "text"
      },
      "source": [
        "<a href=\"https://colab.research.google.com/github/datajcthemax/playdata/blob/main/day4.ipynb\" target=\"_parent\"><img src=\"https://colab.research.google.com/assets/colab-badge.svg\" alt=\"Open In Colab\"/></a>"
      ]
    },
    {
      "cell_type": "code",
      "execution_count": null,
      "metadata": {
        "id": "dFw1MU7608FT"
      },
      "outputs": [],
      "source": []
    },
    {
      "cell_type": "markdown",
      "source": [
        "#오늘의 계획\n",
        "-클래스\n",
        "-모듈, 패키지, 파일입출력\n",
        "-스타벅스 키오스크 마무리 -클래스, 함수 전체 담아서\n",
        "-다른 주제?!\n",
        "\n"
      ],
      "metadata": {
        "id": "r3mhO5eM5vLS"
      }
    },
    {
      "cell_type": "code",
      "source": [
        "#클래스 상속"
      ],
      "metadata": {
        "id": "j6dSPG4Z6RZo"
      },
      "execution_count": 1,
      "outputs": []
    },
    {
      "cell_type": "code",
      "source": [
        "class Cafe:\n",
        "  def __init__(self, name):\n",
        "    self.name = name\n",
        "  def sell(self):\n",
        "    print('주문하신 커피 나왔습니다.')\n",
        "  def __str__(self):\n",
        "    return self.name\n",
        "  def __repr__(self):\n",
        "    return self.name+\"~~!!\"\n",
        "  "
      ],
      "metadata": {
        "id": "s70GTnsQ84Wn"
      },
      "execution_count": 42,
      "outputs": []
    },
    {
      "cell_type": "code",
      "source": [
        "cafe = Cafe('스타벅스 서초점')"
      ],
      "metadata": {
        "id": "f98HsRwW9Q6l"
      },
      "execution_count": 43,
      "outputs": []
    },
    {
      "cell_type": "code",
      "source": [
        "cafe. name"
      ],
      "metadata": {
        "colab": {
          "base_uri": "https://localhost:8080/",
          "height": 36
        },
        "id": "r5H7ophN9X5_",
        "outputId": "b63ed948-f0fc-4dc1-a947-4ca691b50b5e"
      },
      "execution_count": 44,
      "outputs": [
        {
          "output_type": "execute_result",
          "data": {
            "text/plain": [
              "'스타벅스 서초점'"
            ],
            "application/vnd.google.colaboratory.intrinsic+json": {
              "type": "string"
            }
          },
          "metadata": {},
          "execution_count": 44
        }
      ]
    },
    {
      "cell_type": "code",
      "source": [
        "cafe.sell()"
      ],
      "metadata": {
        "colab": {
          "base_uri": "https://localhost:8080/"
        },
        "id": "dUmftWJ39bZF",
        "outputId": "7fad8486-6afe-426a-d051-c0662c751be1"
      },
      "execution_count": 45,
      "outputs": [
        {
          "output_type": "stream",
          "name": "stdout",
          "text": [
            "주문하신 커피 나왔습니다.\n"
          ]
        }
      ]
    },
    {
      "cell_type": "code",
      "source": [
        "print(cafe)"
      ],
      "metadata": {
        "colab": {
          "base_uri": "https://localhost:8080/"
        },
        "id": "6yGaH2L99d99",
        "outputId": "7641b74a-6d77-442d-84c1-ff6125ad9f35"
      },
      "execution_count": 46,
      "outputs": [
        {
          "output_type": "stream",
          "name": "stdout",
          "text": [
            "스타벅스 서초점\n"
          ]
        }
      ]
    },
    {
      "cell_type": "code",
      "source": [
        "class EdiyaCafe(Cafe):\n",
        "  def __init__(self,name):\n",
        "    super().__init__(name) \n",
        "  def sing(self):\n",
        "    print('즐거운 노래부르기')"
      ],
      "metadata": {
        "id": "1NC4YbpP9j-z"
      },
      "execution_count": 29,
      "outputs": []
    },
    {
      "cell_type": "code",
      "source": [
        "ediya_cafe = EdiyaCafe('이디아 서초점')"
      ],
      "metadata": {
        "id": "JRb3DooJ-qeS"
      },
      "execution_count": 30,
      "outputs": []
    },
    {
      "cell_type": "code",
      "source": [
        "ediya_cafe.name"
      ],
      "metadata": {
        "colab": {
          "base_uri": "https://localhost:8080/",
          "height": 36
        },
        "id": "46Xby5pQ_FWm",
        "outputId": "cb2c5923-5bed-4523-f644-2ca521528ed4"
      },
      "execution_count": 31,
      "outputs": [
        {
          "output_type": "execute_result",
          "data": {
            "text/plain": [
              "'이디아 서초점'"
            ],
            "application/vnd.google.colaboratory.intrinsic+json": {
              "type": "string"
            }
          },
          "metadata": {},
          "execution_count": 31
        }
      ]
    },
    {
      "cell_type": "code",
      "source": [
        "ediya_cafe.sell()"
      ],
      "metadata": {
        "colab": {
          "base_uri": "https://localhost:8080/"
        },
        "id": "GKzyw0ni_Ic_",
        "outputId": "a2e15925-7efd-482b-85ef-0f67877bb513"
      },
      "execution_count": 32,
      "outputs": [
        {
          "output_type": "stream",
          "name": "stdout",
          "text": [
            "주문하신 커피 나왔습니다.\n"
          ]
        }
      ]
    },
    {
      "cell_type": "code",
      "source": [
        "ediya_cafe.sing()"
      ],
      "metadata": {
        "colab": {
          "base_uri": "https://localhost:8080/"
        },
        "id": "9N3rQ_YZ_L8p",
        "outputId": "7878726f-752f-43d0-d835-57b5f9a9235c"
      },
      "execution_count": 33,
      "outputs": [
        {
          "output_type": "stream",
          "name": "stdout",
          "text": [
            "즐거운 노래부르기\n"
          ]
        }
      ]
    },
    {
      "cell_type": "code",
      "source": [
        "class TwoCafe(EdiyaCafe):\n",
        "  def __init__(self, name, address='미국 뉴욕시'):\n",
        "    super().__init__(name)\n",
        "    self.address = address"
      ],
      "metadata": {
        "id": "WnVkl59T_k3q"
      },
      "execution_count": 38,
      "outputs": []
    },
    {
      "cell_type": "code",
      "source": [
        "two_cafe = TwoCafe('뉴욕점')"
      ],
      "metadata": {
        "id": "liKaf7Sq__Mk"
      },
      "execution_count": 39,
      "outputs": []
    },
    {
      "cell_type": "code",
      "source": [
        "two_cafe.sing()"
      ],
      "metadata": {
        "colab": {
          "base_uri": "https://localhost:8080/"
        },
        "id": "ajCnw0lpADb-",
        "outputId": "9f9f4f1f-60ee-494a-ae35-1631edcab243"
      },
      "execution_count": 40,
      "outputs": [
        {
          "output_type": "stream",
          "name": "stdout",
          "text": [
            "즐거운 노래부르기\n"
          ]
        }
      ]
    },
    {
      "cell_type": "code",
      "source": [
        "two_cafe.address"
      ],
      "metadata": {
        "colab": {
          "base_uri": "https://localhost:8080/",
          "height": 36
        },
        "id": "61g9jSkRAQUw",
        "outputId": "0c6a63a4-96ef-4b12-b644-9c5c92cadaed"
      },
      "execution_count": 41,
      "outputs": [
        {
          "output_type": "execute_result",
          "data": {
            "text/plain": [
              "'미국 뉴욕시'"
            ],
            "application/vnd.google.colaboratory.intrinsic+json": {
              "type": "string"
            }
          },
          "metadata": {},
          "execution_count": 41
        }
      ]
    },
    {
      "cell_type": "code",
      "source": [
        "class StarCafe(EdiyaCafe):\n",
        "  def __init__(self, name, menu: list=[]): #inner comment\n",
        "    super().__init__(name)\n",
        "    self.menu = menu\n",
        "\n",
        "  #기존 함수 덮어쓰기\n",
        "  def sing(self):\n",
        "    print(\"즐거운 노래와 함께 춤도 춥니다\")"
      ],
      "metadata": {
        "id": "NpvoHRnfASkK"
      },
      "execution_count": 52,
      "outputs": []
    },
    {
      "cell_type": "code",
      "source": [
        "star_cafe = StarCafe('프랑스 ')"
      ],
      "metadata": {
        "id": "rXrg2MkUBbL3"
      },
      "execution_count": 54,
      "outputs": []
    },
    {
      "cell_type": "code",
      "source": [
        "star_cafe.name, star_cafe.menu"
      ],
      "metadata": {
        "colab": {
          "base_uri": "https://localhost:8080/"
        },
        "id": "ZPPbGHdFBhL3",
        "outputId": "765c9eb7-c51b-464d-e032-ba255bb36ac2"
      },
      "execution_count": 55,
      "outputs": [
        {
          "output_type": "execute_result",
          "data": {
            "text/plain": [
              "('프랑스 ', [])"
            ]
          },
          "metadata": {},
          "execution_count": 55
        }
      ]
    },
    {
      "cell_type": "code",
      "source": [
        "star_cafe.sing()"
      ],
      "metadata": {
        "colab": {
          "base_uri": "https://localhost:8080/"
        },
        "id": "jol3GLTtBplx",
        "outputId": "be00dc10-4908-441a-f3d2-6506d9b92a0f"
      },
      "execution_count": 57,
      "outputs": [
        {
          "output_type": "stream",
          "name": "stdout",
          "text": [
            "즐거운 노래와 함께 춤도 춥니다\n"
          ]
        }
      ]
    },
    {
      "cell_type": "code",
      "source": [],
      "metadata": {
        "id": "fWwBvtjpBuyl"
      },
      "execution_count": null,
      "outputs": []
    },
    {
      "cell_type": "markdown",
      "source": [
        "##실습\n",
        "##배민 프로그램 - 가계관리 : ....\n",
        "##클래스 상속!\n",
        "##슬랙에 올려주세요 간단한 설명과 함께"
      ],
      "metadata": {
        "id": "bMheDoqfCA7k"
      }
    },
    {
      "cell_type": "code",
      "source": [
        "class Store_Manager:\n",
        "  def __init__(self, name, address=''):\n",
        "    self.name = name\n",
        "    self.address = address\n",
        "  def clean(self):\n",
        "    print('매장청소 매일매일')\n",
        "  def smile(self):\n",
        "    print('웃어')\n",
        "\n",
        "class Jokbal(Store_Manager):\n",
        "  def __init__(self, name, address='교대', review='⭐️⭐️⭐️⭐️⭐️'):\n",
        "    super().__init__(name)\n",
        "    self.address = address\n",
        "    self.review = review\n",
        "  def service(self):\n",
        "    print('쟁반국수 서비스는 국룰')\n",
        "  \n",
        "jokbal = Jokbal('족발집 교대점')\n",
        "jokbal.service()\n",
        "jokbal.review"
      ],
      "metadata": {
        "colab": {
          "base_uri": "https://localhost:8080/",
          "height": 54
        },
        "id": "Ox6ROAImCPae",
        "outputId": "1bd379f2-65f6-4b2e-be7f-daa528e2ab74"
      },
      "execution_count": 221,
      "outputs": [
        {
          "output_type": "stream",
          "name": "stdout",
          "text": [
            "쟁반국수 서비스는 국룰\n"
          ]
        },
        {
          "output_type": "execute_result",
          "data": {
            "text/plain": [
              "'⭐️⭐️⭐️⭐️⭐️'"
            ],
            "application/vnd.google.colaboratory.intrinsic+json": {
              "type": "string"
            }
          },
          "metadata": {},
          "execution_count": 221
        }
      ]
    },
    {
      "cell_type": "code",
      "source": [
        "class Jokbal(Store_Manager):\n",
        "  def __init__(self, name, address='교대', review='⭐️⭐️⭐️⭐️⭐️'):\n",
        "    super().__init__(name)\n",
        "    self.address = address\n",
        "    self.review = review\n",
        "  def sing(self):\n",
        "    print('즐거운 노래부르기')"
      ],
      "metadata": {
        "id": "kDRkJENeKc3-"
      },
      "execution_count": 215,
      "outputs": []
    },
    {
      "cell_type": "code",
      "source": [
        "jokbal = Jokbal('족발집 교대점')"
      ],
      "metadata": {
        "id": "TCC4PZiLWoya"
      },
      "execution_count": 216,
      "outputs": []
    },
    {
      "cell_type": "code",
      "source": [
        "jokbal.name"
      ],
      "metadata": {
        "colab": {
          "base_uri": "https://localhost:8080/",
          "height": 36
        },
        "id": "HJtXXGBJXTZ0",
        "outputId": "74a17e86-565a-45f2-b955-ff68897bb74c"
      },
      "execution_count": 217,
      "outputs": [
        {
          "output_type": "execute_result",
          "data": {
            "text/plain": [
              "'족발집 교대점'"
            ],
            "application/vnd.google.colaboratory.intrinsic+json": {
              "type": "string"
            }
          },
          "metadata": {},
          "execution_count": 217
        }
      ]
    },
    {
      "cell_type": "code",
      "source": [
        "jokbal.address"
      ],
      "metadata": {
        "colab": {
          "base_uri": "https://localhost:8080/",
          "height": 36
        },
        "id": "xtFo8METXVUW",
        "outputId": "94e2658c-ab50-4590-c57e-745b16b638c9"
      },
      "execution_count": 218,
      "outputs": [
        {
          "output_type": "execute_result",
          "data": {
            "text/plain": [
              "'교대'"
            ],
            "application/vnd.google.colaboratory.intrinsic+json": {
              "type": "string"
            }
          },
          "metadata": {},
          "execution_count": 218
        }
      ]
    },
    {
      "cell_type": "code",
      "source": [
        "jokbal.review"
      ],
      "metadata": {
        "colab": {
          "base_uri": "https://localhost:8080/",
          "height": 36
        },
        "id": "7nSqzvZOXawP",
        "outputId": "f58d16e9-88cf-4272-b931-af880d16563f"
      },
      "execution_count": 219,
      "outputs": [
        {
          "output_type": "execute_result",
          "data": {
            "text/plain": [
              "'⭐️⭐️⭐️⭐️⭐️'"
            ],
            "application/vnd.google.colaboratory.intrinsic+json": {
              "type": "string"
            }
          },
          "metadata": {},
          "execution_count": 219
        }
      ]
    },
    {
      "cell_type": "code",
      "source": [],
      "metadata": {
        "id": "KTO2qREfX2Dm"
      },
      "execution_count": null,
      "outputs": []
    }
  ]
}