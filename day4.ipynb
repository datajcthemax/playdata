{
  "nbformat": 4,
  "nbformat_minor": 0,
  "metadata": {
    "colab": {
      "provenance": [],
      "authorship_tag": "ABX9TyNs0r8bRqQJdoSUi8LADG4j",
      "include_colab_link": true
    },
    "kernelspec": {
      "name": "python3",
      "display_name": "Python 3"
    },
    "language_info": {
      "name": "python"
    }
  },
  "cells": [
    {
      "cell_type": "markdown",
      "metadata": {
        "id": "view-in-github",
        "colab_type": "text"
      },
      "source": [
        "<a href=\"https://colab.research.google.com/github/datajcthemax/playdata/blob/main/day4.ipynb\" target=\"_parent\"><img src=\"https://colab.research.google.com/assets/colab-badge.svg\" alt=\"Open In Colab\"/></a>"
      ]
    },
    {
      "cell_type": "code",
      "execution_count": null,
      "metadata": {
        "id": "dFw1MU7608FT"
      },
      "outputs": [],
      "source": []
    },
    {
      "cell_type": "markdown",
      "source": [
        "#오늘의 계획\n",
        "-클래스\n",
        "-모듈, 패키지, 파일입출력\n",
        "-스타벅스 키오스크 마무리 -클래스, 함수 전체 담아서\n",
        "-다른 주제?!\n",
        "\n"
      ],
      "metadata": {
        "id": "r3mhO5eM5vLS"
      }
    },
    {
      "cell_type": "code",
      "source": [
        "#클래스 상속"
      ],
      "metadata": {
        "id": "j6dSPG4Z6RZo"
      },
      "execution_count": null,
      "outputs": []
    },
    {
      "cell_type": "code",
      "source": [
        "class Cafe:\n",
        "  def __init__(self, name):\n",
        "    self.name = name\n",
        "  def sell(self):\n",
        "    print('주문하신 커피 나왔습니다.')\n",
        "  def __str__(self):\n",
        "    return self.name\n",
        "  def __repr__(self):\n",
        "    return self.name+\"~~!!\"\n",
        "  "
      ],
      "metadata": {
        "id": "s70GTnsQ84Wn"
      },
      "execution_count": null,
      "outputs": []
    },
    {
      "cell_type": "code",
      "source": [
        "cafe = Cafe('스타벅스 서초점')"
      ],
      "metadata": {
        "id": "f98HsRwW9Q6l"
      },
      "execution_count": null,
      "outputs": []
    },
    {
      "cell_type": "code",
      "source": [
        "cafe. name"
      ],
      "metadata": {
        "colab": {
          "base_uri": "https://localhost:8080/",
          "height": 36
        },
        "id": "r5H7ophN9X5_",
        "outputId": "b63ed948-f0fc-4dc1-a947-4ca691b50b5e"
      },
      "execution_count": null,
      "outputs": [
        {
          "output_type": "execute_result",
          "data": {
            "text/plain": [
              "'스타벅스 서초점'"
            ],
            "application/vnd.google.colaboratory.intrinsic+json": {
              "type": "string"
            }
          },
          "metadata": {},
          "execution_count": 44
        }
      ]
    },
    {
      "cell_type": "code",
      "source": [
        "cafe.sell()"
      ],
      "metadata": {
        "colab": {
          "base_uri": "https://localhost:8080/"
        },
        "id": "dUmftWJ39bZF",
        "outputId": "7fad8486-6afe-426a-d051-c0662c751be1"
      },
      "execution_count": null,
      "outputs": [
        {
          "output_type": "stream",
          "name": "stdout",
          "text": [
            "주문하신 커피 나왔습니다.\n"
          ]
        }
      ]
    },
    {
      "cell_type": "code",
      "source": [
        "print(cafe)"
      ],
      "metadata": {
        "colab": {
          "base_uri": "https://localhost:8080/"
        },
        "id": "6yGaH2L99d99",
        "outputId": "7641b74a-6d77-442d-84c1-ff6125ad9f35"
      },
      "execution_count": null,
      "outputs": [
        {
          "output_type": "stream",
          "name": "stdout",
          "text": [
            "스타벅스 서초점\n"
          ]
        }
      ]
    },
    {
      "cell_type": "code",
      "source": [
        "class EdiyaCafe(Cafe):\n",
        "  def __init__(self,name):\n",
        "    super().__init__(name) \n",
        "  def sing(self):\n",
        "    print('즐거운 노래부르기')"
      ],
      "metadata": {
        "id": "1NC4YbpP9j-z"
      },
      "execution_count": null,
      "outputs": []
    },
    {
      "cell_type": "code",
      "source": [
        "ediya_cafe = EdiyaCafe('이디아 서초점')"
      ],
      "metadata": {
        "id": "JRb3DooJ-qeS"
      },
      "execution_count": null,
      "outputs": []
    },
    {
      "cell_type": "code",
      "source": [
        "ediya_cafe.name"
      ],
      "metadata": {
        "colab": {
          "base_uri": "https://localhost:8080/",
          "height": 36
        },
        "id": "46Xby5pQ_FWm",
        "outputId": "cb2c5923-5bed-4523-f644-2ca521528ed4"
      },
      "execution_count": null,
      "outputs": [
        {
          "output_type": "execute_result",
          "data": {
            "text/plain": [
              "'이디아 서초점'"
            ],
            "application/vnd.google.colaboratory.intrinsic+json": {
              "type": "string"
            }
          },
          "metadata": {},
          "execution_count": 31
        }
      ]
    },
    {
      "cell_type": "code",
      "source": [
        "ediya_cafe.sell()"
      ],
      "metadata": {
        "colab": {
          "base_uri": "https://localhost:8080/"
        },
        "id": "GKzyw0ni_Ic_",
        "outputId": "a2e15925-7efd-482b-85ef-0f67877bb513"
      },
      "execution_count": null,
      "outputs": [
        {
          "output_type": "stream",
          "name": "stdout",
          "text": [
            "주문하신 커피 나왔습니다.\n"
          ]
        }
      ]
    },
    {
      "cell_type": "code",
      "source": [
        "ediya_cafe.sing()"
      ],
      "metadata": {
        "colab": {
          "base_uri": "https://localhost:8080/"
        },
        "id": "9N3rQ_YZ_L8p",
        "outputId": "7878726f-752f-43d0-d835-57b5f9a9235c"
      },
      "execution_count": null,
      "outputs": [
        {
          "output_type": "stream",
          "name": "stdout",
          "text": [
            "즐거운 노래부르기\n"
          ]
        }
      ]
    },
    {
      "cell_type": "code",
      "source": [
        "class TwoCafe(EdiyaCafe):\n",
        "  def __init__(self, name, address='미국 뉴욕시'):\n",
        "    super().__init__(name)\n",
        "    self.address = address"
      ],
      "metadata": {
        "id": "WnVkl59T_k3q"
      },
      "execution_count": null,
      "outputs": []
    },
    {
      "cell_type": "code",
      "source": [
        "two_cafe = TwoCafe('뉴욕점')"
      ],
      "metadata": {
        "id": "liKaf7Sq__Mk"
      },
      "execution_count": null,
      "outputs": []
    },
    {
      "cell_type": "code",
      "source": [
        "two_cafe.sing()"
      ],
      "metadata": {
        "colab": {
          "base_uri": "https://localhost:8080/"
        },
        "id": "ajCnw0lpADb-",
        "outputId": "9f9f4f1f-60ee-494a-ae35-1631edcab243"
      },
      "execution_count": null,
      "outputs": [
        {
          "output_type": "stream",
          "name": "stdout",
          "text": [
            "즐거운 노래부르기\n"
          ]
        }
      ]
    },
    {
      "cell_type": "code",
      "source": [
        "two_cafe.address"
      ],
      "metadata": {
        "colab": {
          "base_uri": "https://localhost:8080/",
          "height": 36
        },
        "id": "61g9jSkRAQUw",
        "outputId": "0c6a63a4-96ef-4b12-b644-9c5c92cadaed"
      },
      "execution_count": null,
      "outputs": [
        {
          "output_type": "execute_result",
          "data": {
            "text/plain": [
              "'미국 뉴욕시'"
            ],
            "application/vnd.google.colaboratory.intrinsic+json": {
              "type": "string"
            }
          },
          "metadata": {},
          "execution_count": 41
        }
      ]
    },
    {
      "cell_type": "code",
      "source": [
        "class StarCafe(EdiyaCafe):\n",
        "  def __init__(self, name, menu: list=[]): #inner comment\n",
        "    super().__init__(name)\n",
        "    self.menu = menu\n",
        "\n",
        "  #기존 함수 덮어쓰기\n",
        "  def sing(self):\n",
        "    print(\"즐거운 노래와 함께 춤도 춥니다\")"
      ],
      "metadata": {
        "id": "NpvoHRnfASkK"
      },
      "execution_count": null,
      "outputs": []
    },
    {
      "cell_type": "code",
      "source": [
        "star_cafe = StarCafe('프랑스 ')"
      ],
      "metadata": {
        "id": "rXrg2MkUBbL3"
      },
      "execution_count": null,
      "outputs": []
    },
    {
      "cell_type": "code",
      "source": [
        "star_cafe.name, star_cafe.menu"
      ],
      "metadata": {
        "colab": {
          "base_uri": "https://localhost:8080/"
        },
        "id": "ZPPbGHdFBhL3",
        "outputId": "765c9eb7-c51b-464d-e032-ba255bb36ac2"
      },
      "execution_count": null,
      "outputs": [
        {
          "output_type": "execute_result",
          "data": {
            "text/plain": [
              "('프랑스 ', [])"
            ]
          },
          "metadata": {},
          "execution_count": 55
        }
      ]
    },
    {
      "cell_type": "code",
      "source": [
        "star_cafe.sing()"
      ],
      "metadata": {
        "colab": {
          "base_uri": "https://localhost:8080/"
        },
        "id": "jol3GLTtBplx",
        "outputId": "be00dc10-4908-441a-f3d2-6506d9b92a0f"
      },
      "execution_count": null,
      "outputs": [
        {
          "output_type": "stream",
          "name": "stdout",
          "text": [
            "즐거운 노래와 함께 춤도 춥니다\n"
          ]
        }
      ]
    },
    {
      "cell_type": "code",
      "source": [],
      "metadata": {
        "id": "fWwBvtjpBuyl"
      },
      "execution_count": null,
      "outputs": []
    },
    {
      "cell_type": "markdown",
      "source": [
        "##실습\n",
        "##배민 프로그램 - 가계관리 : ....\n",
        "##클래스 상속!\n",
        "##슬랙에 올려주세요 간단한 설명과 함께"
      ],
      "metadata": {
        "id": "bMheDoqfCA7k"
      }
    },
    {
      "cell_type": "code",
      "source": [
        "class Store_Manager:\n",
        "  def __init__(self, name, address=''):\n",
        "    self.name = name\n",
        "    self.address = address\n",
        "  def clean(self):\n",
        "    print('매장청소 매일매일')\n",
        "  def smile(self):\n",
        "    print('웃어')\n",
        "\n",
        "class Jokbal(Store_Manager):\n",
        "  def __init__(self, name, address='교대', review='⭐️⭐️⭐️⭐️⭐️'):\n",
        "    super().__init__(name)\n",
        "    self.address = address\n",
        "    self.review = review\n",
        "  def service(self):\n",
        "    print('쟁반국수 서비스는 국룰')\n",
        "  \n",
        "jokbal = Jokbal('족발집 교대점')\n",
        "jokbal.service()\n",
        "jokbal.review"
      ],
      "metadata": {
        "colab": {
          "base_uri": "https://localhost:8080/",
          "height": 54
        },
        "id": "Ox6ROAImCPae",
        "outputId": "b0f86e76-a145-4f2b-ae1d-3f20057c5c49"
      },
      "execution_count": null,
      "outputs": [
        {
          "output_type": "stream",
          "name": "stdout",
          "text": [
            "쟁반국수 서비스는 국룰\n"
          ]
        },
        {
          "output_type": "execute_result",
          "data": {
            "text/plain": [
              "'⭐️⭐️⭐️⭐️⭐️'"
            ],
            "application/vnd.google.colaboratory.intrinsic+json": {
              "type": "string"
            }
          },
          "metadata": {},
          "execution_count": 223
        }
      ]
    },
    {
      "cell_type": "code",
      "source": [
        "class Jokbal(Store_Manager):\n",
        "  def __init__(self, name, address='교대', review='⭐️⭐️⭐️⭐️⭐️'):\n",
        "    super().__init__(name)\n",
        "    self.address = address\n",
        "    self.review = review\n",
        "  def sing(self):\n",
        "    print('즐거운 노래부르기')"
      ],
      "metadata": {
        "id": "kDRkJENeKc3-"
      },
      "execution_count": null,
      "outputs": []
    },
    {
      "cell_type": "code",
      "source": [
        "jokbal = Jokbal('족발집 교대점')"
      ],
      "metadata": {
        "id": "TCC4PZiLWoya"
      },
      "execution_count": null,
      "outputs": []
    },
    {
      "cell_type": "code",
      "source": [
        "jokbal.name"
      ],
      "metadata": {
        "colab": {
          "base_uri": "https://localhost:8080/",
          "height": 36
        },
        "id": "HJtXXGBJXTZ0",
        "outputId": "74a17e86-565a-45f2-b955-ff68897bb74c"
      },
      "execution_count": null,
      "outputs": [
        {
          "output_type": "execute_result",
          "data": {
            "text/plain": [
              "'족발집 교대점'"
            ],
            "application/vnd.google.colaboratory.intrinsic+json": {
              "type": "string"
            }
          },
          "metadata": {},
          "execution_count": 217
        }
      ]
    },
    {
      "cell_type": "code",
      "source": [
        "jokbal.address"
      ],
      "metadata": {
        "colab": {
          "base_uri": "https://localhost:8080/",
          "height": 36
        },
        "id": "xtFo8METXVUW",
        "outputId": "94e2658c-ab50-4590-c57e-745b16b638c9"
      },
      "execution_count": null,
      "outputs": [
        {
          "output_type": "execute_result",
          "data": {
            "text/plain": [
              "'교대'"
            ],
            "application/vnd.google.colaboratory.intrinsic+json": {
              "type": "string"
            }
          },
          "metadata": {},
          "execution_count": 218
        }
      ]
    },
    {
      "cell_type": "code",
      "source": [
        "jokbal.review"
      ],
      "metadata": {
        "colab": {
          "base_uri": "https://localhost:8080/",
          "height": 36
        },
        "id": "7nSqzvZOXawP",
        "outputId": "f58d16e9-88cf-4272-b931-af880d16563f"
      },
      "execution_count": null,
      "outputs": [
        {
          "output_type": "execute_result",
          "data": {
            "text/plain": [
              "'⭐️⭐️⭐️⭐️⭐️'"
            ],
            "application/vnd.google.colaboratory.intrinsic+json": {
              "type": "string"
            }
          },
          "metadata": {},
          "execution_count": 219
        }
      ]
    },
    {
      "cell_type": "code",
      "source": [
        "# class의 다른 활용\n",
        "class Gear:\n",
        "  def __init__(self):\n",
        "    self.name = '수동'\n",
        "\n",
        "class Engine:\n",
        "  def __init__(self):\n",
        "    self.engine_name = '수퍼엔진'\n",
        "\n",
        "class Car(Gear, Engine):\n",
        "  def __init__(self, car_name):\n",
        "    super().__init__()\n",
        "    self.car_name = car_name\n"
      ],
      "metadata": {
        "id": "KTO2qREfX2Dm"
      },
      "execution_count": null,
      "outputs": []
    },
    {
      "cell_type": "code",
      "source": [
        "c = Car('람보르기니')"
      ],
      "metadata": {
        "id": "bL_MK0ElpOPJ"
      },
      "execution_count": null,
      "outputs": []
    },
    {
      "cell_type": "code",
      "source": [],
      "metadata": {
        "id": "mUcQZZfOpaMS"
      },
      "execution_count": null,
      "outputs": []
    },
    {
      "cell_type": "code",
      "source": [
        "print(c)"
      ],
      "metadata": {
        "colab": {
          "base_uri": "https://localhost:8080/"
        },
        "id": "r_EV61AiqGLs",
        "outputId": "c75ec80b-1716-4e27-b2a6-1a4ac84322a9"
      },
      "execution_count": null,
      "outputs": [
        {
          "output_type": "stream",
          "name": "stdout",
          "text": [
            "<__main__.Car object at 0x7efed2371a00>\n"
          ]
        }
      ]
    },
    {
      "cell_type": "code",
      "source": [
        "#파일 입출력\n",
        "with open('test.txt','w') as f:\n",
        "  f.write('hello')"
      ],
      "metadata": {
        "id": "jUnUrAoGqKEr"
      },
      "execution_count": null,
      "outputs": []
    },
    {
      "cell_type": "code",
      "source": [
        "# 파일 읽기\n",
        "with open('test.txt','r') as f:\n",
        "  output = f.read()"
      ],
      "metadata": {
        "id": "K3besOxC9i3c"
      },
      "execution_count": null,
      "outputs": []
    },
    {
      "cell_type": "code",
      "source": [
        "output"
      ],
      "metadata": {
        "colab": {
          "base_uri": "https://localhost:8080/",
          "height": 36
        },
        "id": "a6r-Brkv96iY",
        "outputId": "040ec609-ade9-4acc-bff3-7ebacd06dc3c"
      },
      "execution_count": null,
      "outputs": [
        {
          "output_type": "execute_result",
          "data": {
            "text/plain": [
              "'hello'"
            ],
            "application/vnd.google.colaboratory.intrinsic+json": {
              "type": "string"
            }
          },
          "metadata": {},
          "execution_count": 240
        }
      ]
    },
    {
      "cell_type": "code",
      "source": [],
      "metadata": {
        "id": "a6oE_Tji-wgQ"
      },
      "execution_count": null,
      "outputs": []
    },
    {
      "cell_type": "code",
      "source": [
        "#### 패치노트\n",
        "#클래스 Cafe를 만듬\n",
        "#클래스 Cafe_1에서 Take_Out 기능과 run함수를 추가함\n",
        "\n",
        "#'메뉴': [0가격, 1타입(drink/food), 2온도, 3사이즈, 4갯수, 5메뉴 주문 번호]\n",
        "class Cafe:\n",
        "    def __init__(self):\n",
        "        self.total_price = 0\n",
        "        self.total_menu = {}\n",
        "        self.basket = {}\n",
        "        self.menu_num = 0\n",
        "        self.menu = {\n",
        "            # 음료 메뉴\n",
        "            '아메리카노': [3000, 'drink', 'hot/ice', '중/대/특대', 0,0],\n",
        "            '라떼': [4000, 'drink', 'hot/ice', '중/대/특대', 0,0],\n",
        "            '밀크티': [4500, 'drink', 'hot/ice', '중/대/특대', 0,0],\n",
        "\n",
        "            # 음식 메뉴\n",
        "            '케이크' : [5000, 'food', '', '', 0,0],\n",
        "            '샌드위치' : [4000, 'food', '', '', 0,0]\n",
        "           }\n",
        "\n",
        "\n",
        "    def add_cart_menu(self):\n",
        "        ans = input(\"메뉴를 골라주세요 : \")\n",
        "        if ans not in self.menu:\n",
        "            print(f\"{ans}은(는) 메뉴에 없습니다.\")\n",
        "            ans2 = input(\"종료하시겠습니까? : (Y/N)\")\n",
        "            if ans2 == 'Y' or ans2 == 'y':\n",
        "                return\n",
        "            else:\n",
        "                self.add_cart_menu()\n",
        "        \n",
        "        #고른게 음료메뉴인 경우\n",
        "        elif self.menu[ans][1] == 'drink':\n",
        "            self.basket[ans] = self.menu[ans]\n",
        "            self.menu_num +=1\n",
        "            #음료 설정하는 함수\n",
        "            self.set_drink(ans)\n",
        "        \n",
        "        #고른게 음식메뉴인 경우\n",
        "        elif self.menu[ans][1] == 'food':\n",
        "            self.basket[ans] = self.menu[ans]\n",
        "            self.menu_num +=1\n",
        "            #음식 설정하는 함수\n",
        "            self.set_food(ans)\n",
        "\n",
        "        else:\n",
        "            print(\"뭔가 잘못되었습니다.\")\n",
        "            return\n",
        "        \n",
        "\n",
        "        #추가 주문\n",
        "        print(\"현재까지 주문한 메뉴입니다.\\n\",self.total_menu)\n",
        "        add_more = input(\"더 주문 하시겠습니까? : (Y/N)\")\n",
        "        if add_more == 'Y'or add_more == 'y':\n",
        "            self.add_cart_menu()\n",
        "        \n",
        "        #메뉴 수정\n",
        "        ans3 = input(\"메뉴를 수정하시겠습니까? : (Y/N)\")\n",
        "        if ans3 == 'Y'or ans3 == 'y':\n",
        "            self.change_menu()\n",
        "\n",
        "        #계산\n",
        "        self.get_price()\n",
        "\n",
        "    #'메뉴': [0가격, 1타입(drink/food), 2온도, 3사이즈, 4갯수]\n",
        "    def set_drink(self, ans):\n",
        "        #온도 설정\n",
        "        print(\"ice는 500원이 추가됩니다.\")\n",
        "        temp = input(\"온도를 선택해주세요 : (HOT/ICE)\")\n",
        "        if temp == 'HOT' or temp == 'hot' or temp == 'h':\n",
        "            self.basket[ans][2] = 'HOT'\n",
        "        elif temp == 'ICE' or temp == 'ice' or temp == 'i':\n",
        "            self.basket[ans][2] = 'ICE'\n",
        "            self.basket[ans][0] += 500\n",
        "        else:\n",
        "            print(\"잘못된 입력입니다.\")\n",
        "            ans2 = input(\"종료하시겠습니까? : (Y/N)\")\n",
        "            if ans2 == 'Y'or ans2 == 'y':\n",
        "                return\n",
        "            else:\n",
        "                self.set_drink(ans)\n",
        "                    \n",
        "        #사이즈 설정\n",
        "        print(\"대 사이즈는 500원\\n특대 사이즈는 1000원이 추가됩니다\")\n",
        "        size = input(\"크기를 선택해주세요 : (중/대/특대)\")\n",
        "        if size == '중':\n",
        "            self.basket[ans][3] = '중'\n",
        "        elif size == '대':\n",
        "            self.basket[ans][3] = '대'\n",
        "            self.basket[ans][0] += 500\n",
        "        elif size == '특대':\n",
        "            self.basket[ans][3] = '특대'   \n",
        "            self.basket[ans][0] += 1000\n",
        "\n",
        "        else:\n",
        "            print(\"잘못된 입력입니다.\")\n",
        "            ans2 = input(\"종료하시겠습니까? : (Y/N)\")\n",
        "            if ans2 == 'Y'or ans2 == 'y':\n",
        "                return\n",
        "            else:\n",
        "                self.set_drink(ans)\n",
        "\n",
        "        #갯수 설정\n",
        "        count = int(input(\"몇잔 주문하시겠습니까? :\"))\n",
        "        self.basket[ans][4] -= count\n",
        "        #메뉴번호 설정\n",
        "        self.basket[ans][5] = self.menu_num\n",
        "        self.total_menu[ans] = self.basket[ans]\n",
        "\n",
        "    ######## 같은메뉴 여러번 주문시 오류발생\n",
        "        # if basket[ans] not in total_menu: #새로운 메뉴\n",
        "        #     total_menu[1][ans] = basket[ans]\n",
        "        # elif total_menu[ans] in total_menu:\n",
        "        #     #새로 주문한 메뉴의 온도, size까지 확인하여 구분\n",
        "        #     try:\n",
        "        #         for i in total_menu[ans][:3]:\n",
        "        #             if i in basket[ans]:\n",
        "        #                 pass\n",
        "        #             else: #같은 메뉴 다른 주문\n",
        "        #                 total_menu[ans] = basket[ans]\n",
        "        #     #같은메뉴 같은 주문\n",
        "        #     except:\n",
        "        \n",
        "                \n",
        "        #'메뉴': [0가격, 1타입(drink/food), 2온도, 3사이즈, 4-갯수, 5메뉴번호]\n",
        "    def set_food(self, ans):\n",
        "        \n",
        "        #갯수 설정\n",
        "        count = int(input(f\"{ans}를 몇개 주문하시겠습니까? : \"))\n",
        "        self.basket[ans][4] -= count\n",
        "        #메뉴번호 등록\n",
        "        self.basket[ans][5] = self.menu_num\n",
        "        self.total_menu[ans] = self.basket[ans]\n",
        "\n",
        "    def change_menu(self):\n",
        "        #제거할 거 특정\n",
        "        delete_menu_num = int(input(\"몇번째 메뉴를 제거하시겠습니까? : \"))\n",
        "\n",
        "        # for key in total_menu:\n",
        "        #     value_list = total_menu[key]\n",
        "        #     second_value = value_list[1]\n",
        "        #     print(f\"The second value of {key} is {second_value}\")\n",
        "\n",
        "        #잘못된 번호\n",
        "        if delete_menu_num > self.menu_num:\n",
        "            print(\"다시 선택해주세요\")\n",
        "            self.change_menu()\n",
        "        #올바른 번호\n",
        "        else:\n",
        "            del_menu =[]\n",
        "            for key, value in self.total_menu.items():\n",
        "                if delete_menu_num in value:\n",
        "                    del_menu += key\n",
        "            del_menu = ''.join(del_menu)\n",
        "            print(del_menu)\n",
        "            del self.total_menu[del_menu]\n",
        "            print(f\"현재 남은 메뉴 : {self.total_menu}\")\n",
        "            #[k for k, v in total_menu.items() if v == delete_menu_num]\n",
        "\n",
        "    def get_price(self):\n",
        "        price = 0\n",
        "        for value in self.total_menu.values():\n",
        "            price += -1*(value[0] * value[4])\n",
        "        print(f\"총 금액은{price}입니다.\")\n",
        "\n",
        "\n",
        "class Cafe_1(Cafe):\n",
        "    def get_price(self):\n",
        "        super().get_price()\n",
        "        take_out = input(\"Take_Out 하시겠습니까? : (Y/N)\")\n",
        "        if take_out == 'N'or take_out == 'n':\n",
        "            print(\"매장용기를 사용하겠습니다.\")\n",
        "        else:\n",
        "            pack = input(\"개인 용기를 사용하시겠습니까?: (Y/N)\")\n",
        "            if pack == 'N'or pack == 'n':\n",
        "                print(\"일회용기를 사용하여 환경이 파괴되었습니다.\")\n",
        "            else: \n",
        "                print(\"환경을 생각해주셔서 감사합니다.\")\n",
        "\n",
        "    def run(self):\n",
        "        #메뉴출력\n",
        "        for key, value in self.menu.items():\n",
        "            print(key + ', ' + str(value[0]))\n",
        "        #주문받기 시작\n",
        "        self.add_cart_menu()\n",
        "\n",
        "First_store = Cafe_1()\n",
        "First_store.run()\n",
        "\n",
        "\n",
        "\n",
        "\n",
        "\n"
      ],
      "metadata": {
        "id": "uz4hh2TD-1Zt",
        "colab": {
          "base_uri": "https://localhost:8080/"
        },
        "outputId": "21463240-0032-43e2-f486-7831a38d94da"
      },
      "execution_count": null,
      "outputs": [
        {
          "output_type": "stream",
          "name": "stdout",
          "text": [
            "아메리카노, 3000\n",
            "라떼, 4000\n",
            "밀크티, 4500\n",
            "케이크, 5000\n",
            "샌드위치, 4000\n",
            "메뉴를 골라주세요 : 아메리카노\n",
            "ice는 500원이 추가됩니다.\n",
            "온도를 선택해주세요 : (HOT/ICE)ice\n",
            "대 사이즈는 500원\n",
            "특대 사이즈는 1000원이 추가됩니다\n",
            "크기를 선택해주세요 : (중/대/특대)대\n",
            "몇잔 주문하시겠습니까? :2\n",
            "현재까지 주문한 메뉴입니다.\n",
            " {'아메리카노': [4000, 'drink', 'ICE', '대', -2, 1]}\n",
            "더 주문 하시겠습니까? : (Y/N)n\n",
            "메뉴를 수정하시겠습니까? : (Y/N)n\n",
            "총 금액은8000입니다.\n",
            "Take_Out 하시겠습니까? : (Y/N)y\n",
            "개인 용기를 사용하시겠습니까?: (Y/N)n\n",
            "일회용기를 사용하여 환경이 파괴되었습니다.\n"
          ]
        }
      ]
    },
    {
      "cell_type": "code",
      "source": [],
      "metadata": {
        "id": "K1Df8BL1AhIE"
      },
      "execution_count": null,
      "outputs": []
    }
  ]
}